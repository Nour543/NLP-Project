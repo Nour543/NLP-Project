{
  "nbformat": 4,
  "nbformat_minor": 5,
  "metadata": {
    "kernelspec": {
      "display_name": "Python 3 (ipykernel)",
      "language": "python",
      "name": "python3"
    },
    "language_info": {
      "codemirror_mode": {
        "name": "ipython",
        "version": 3
      },
      "file_extension": ".py",
      "mimetype": "text/x-python",
      "name": "python",
      "nbconvert_exporter": "python",
      "pygments_lexer": "ipython3",
      "version": "3.8.12"
    },
    "colab": {
      "name": "My NLP Project.ipynb",
      "provenance": [],
      "collapsed_sections": [],
      "include_colab_link": true
    },
    "accelerator": "TPU"
  },
  "cells": [
    {
      "cell_type": "markdown",
      "metadata": {
        "id": "view-in-github",
        "colab_type": "text"
      },
      "source": [
        "<a href=\"https://colab.research.google.com/github/Nour543/NLP-Project/blob/main/My_NLP_Project.ipynb\" target=\"_parent\"><img src=\"https://colab.research.google.com/assets/colab-badge.svg\" alt=\"Open In Colab\"/></a>"
      ]
    },
    {
      "cell_type": "code",
      "metadata": {
        "colab": {
          "base_uri": "https://localhost:8080/"
        },
        "id": "R3nEqL4INV69",
        "outputId": "29f6f15a-efdf-4432-fa4c-8a1ee3a798bb"
      },
      "source": [
        "import os\n",
        "from google.colab import drive\n",
        "drive.mount('/content/drive')"
      ],
      "id": "R3nEqL4INV69",
      "execution_count": 2,
      "outputs": [
        {
          "output_type": "stream",
          "name": "stdout",
          "text": [
            "Mounted at /content/drive\n"
          ]
        }
      ]
    },
    {
      "cell_type": "code",
      "metadata": {
        "id": "db1ca143"
      },
      "source": [
        "# Libraries\n",
        "import numpy as np\n",
        "import pandas as pd\n",
        "import sklearn\n",
        "import nltk\n",
        "\n",
        "#from os import path\n",
        "from PIL import Image\n",
        "from wordcloud import WordCloud, STOPWORDS, ImageColorGenerator\n",
        "\n",
        "import matplotlib.pyplot as plt\n",
        "\n",
        "#nltk.download('vader_lexicon')"
      ],
      "id": "db1ca143",
      "execution_count": 3,
      "outputs": []
    },
    {
      "cell_type": "code",
      "metadata": {
        "colab": {
          "base_uri": "https://localhost:8080/",
          "height": 206
        },
        "id": "369415c2",
        "outputId": "aab519c5-c9f6-4c2c-e750-fbf5c10d2d30"
      },
      "source": [
        "# Import data\n",
        "# \n",
        "df = pd.read_csv('/content/drive/MyDrive/ask_fm_data.csv', delimiter=',') \n",
        "df.head()"
      ],
      "id": "369415c2",
      "execution_count": 4,
      "outputs": [
        {
          "output_type": "execute_result",
          "data": {
            "text/html": [
              "<div>\n",
              "<style scoped>\n",
              "    .dataframe tbody tr th:only-of-type {\n",
              "        vertical-align: middle;\n",
              "    }\n",
              "\n",
              "    .dataframe tbody tr th {\n",
              "        vertical-align: top;\n",
              "    }\n",
              "\n",
              "    .dataframe thead th {\n",
              "        text-align: right;\n",
              "    }\n",
              "</style>\n",
              "<table border=\"1\" class=\"dataframe\">\n",
              "  <thead>\n",
              "    <tr style=\"text-align: right;\">\n",
              "      <th></th>\n",
              "      <th>Unnamed: 0</th>\n",
              "      <th>q_a</th>\n",
              "      <th>label</th>\n",
              "    </tr>\n",
              "  </thead>\n",
              "  <tbody>\n",
              "    <tr>\n",
              "      <th>0</th>\n",
              "      <td>0</td>\n",
              "      <td>how to tell if a guy is gay if they seem super...</td>\n",
              "      <td>0</td>\n",
              "    </tr>\n",
              "    <tr>\n",
              "      <th>1</th>\n",
              "      <td>1</td>\n",
              "      <td>Idk I'm not gay</td>\n",
              "      <td>0</td>\n",
              "    </tr>\n",
              "    <tr>\n",
              "      <th>2</th>\n",
              "      <td>2</td>\n",
              "      <td>This person is 100% fake so beware Isabella!</td>\n",
              "      <td>1</td>\n",
              "    </tr>\n",
              "    <tr>\n",
              "      <th>3</th>\n",
              "      <td>3</td>\n",
              "      <td>Oof lmao how is she fake? Who's this lmao shit...</td>\n",
              "      <td>1</td>\n",
              "    </tr>\n",
              "    <tr>\n",
              "      <th>4</th>\n",
              "      <td>4</td>\n",
              "      <td>If your loved one left n cut all ties w you sh...</td>\n",
              "      <td>0</td>\n",
              "    </tr>\n",
              "  </tbody>\n",
              "</table>\n",
              "</div>"
            ],
            "text/plain": [
              "   Unnamed: 0                                                q_a  label\n",
              "0           0  how to tell if a guy is gay if they seem super...      0\n",
              "1           1                                    Idk I'm not gay      0\n",
              "2           2      This person is 100% fake so beware Isabella!       1\n",
              "3           3  Oof lmao how is she fake? Who's this lmao shit...      1\n",
              "4           4  If your loved one left n cut all ties w you sh...      0"
            ]
          },
          "metadata": {},
          "execution_count": 4
        }
      ]
    },
    {
      "cell_type": "code",
      "metadata": {
        "colab": {
          "base_uri": "https://localhost:8080/",
          "height": 206
        },
        "id": "k1ka1pW9XKbs",
        "outputId": "b7b7f36a-eccb-4fc5-b401-20520a35db3f"
      },
      "source": [
        "new = pd.read_csv('/content/drive/MyDrive/labeled_data.csv', delimiter=',') \n",
        "new.head()"
      ],
      "id": "k1ka1pW9XKbs",
      "execution_count": 183,
      "outputs": [
        {
          "output_type": "execute_result",
          "data": {
            "text/html": [
              "<div>\n",
              "<style scoped>\n",
              "    .dataframe tbody tr th:only-of-type {\n",
              "        vertical-align: middle;\n",
              "    }\n",
              "\n",
              "    .dataframe tbody tr th {\n",
              "        vertical-align: top;\n",
              "    }\n",
              "\n",
              "    .dataframe thead th {\n",
              "        text-align: right;\n",
              "    }\n",
              "</style>\n",
              "<table border=\"1\" class=\"dataframe\">\n",
              "  <thead>\n",
              "    <tr style=\"text-align: right;\">\n",
              "      <th></th>\n",
              "      <th>Unnamed: 0</th>\n",
              "      <th>count</th>\n",
              "      <th>hate_speech</th>\n",
              "      <th>offensive_language</th>\n",
              "      <th>neither</th>\n",
              "      <th>class</th>\n",
              "      <th>tweet</th>\n",
              "    </tr>\n",
              "  </thead>\n",
              "  <tbody>\n",
              "    <tr>\n",
              "      <th>0</th>\n",
              "      <td>0</td>\n",
              "      <td>3</td>\n",
              "      <td>0</td>\n",
              "      <td>0</td>\n",
              "      <td>3</td>\n",
              "      <td>2</td>\n",
              "      <td>!!! RT @mayasolovely: As a woman you shouldn't...</td>\n",
              "    </tr>\n",
              "    <tr>\n",
              "      <th>1</th>\n",
              "      <td>1</td>\n",
              "      <td>3</td>\n",
              "      <td>0</td>\n",
              "      <td>3</td>\n",
              "      <td>0</td>\n",
              "      <td>1</td>\n",
              "      <td>!!!!! RT @mleew17: boy dats cold...tyga dwn ba...</td>\n",
              "    </tr>\n",
              "    <tr>\n",
              "      <th>2</th>\n",
              "      <td>2</td>\n",
              "      <td>3</td>\n",
              "      <td>0</td>\n",
              "      <td>3</td>\n",
              "      <td>0</td>\n",
              "      <td>1</td>\n",
              "      <td>!!!!!!! RT @UrKindOfBrand Dawg!!!! RT @80sbaby...</td>\n",
              "    </tr>\n",
              "    <tr>\n",
              "      <th>3</th>\n",
              "      <td>3</td>\n",
              "      <td>3</td>\n",
              "      <td>0</td>\n",
              "      <td>2</td>\n",
              "      <td>1</td>\n",
              "      <td>1</td>\n",
              "      <td>!!!!!!!!! RT @C_G_Anderson: @viva_based she lo...</td>\n",
              "    </tr>\n",
              "    <tr>\n",
              "      <th>4</th>\n",
              "      <td>4</td>\n",
              "      <td>6</td>\n",
              "      <td>0</td>\n",
              "      <td>6</td>\n",
              "      <td>0</td>\n",
              "      <td>1</td>\n",
              "      <td>!!!!!!!!!!!!! RT @ShenikaRoberts: The shit you...</td>\n",
              "    </tr>\n",
              "  </tbody>\n",
              "</table>\n",
              "</div>"
            ],
            "text/plain": [
              "   Unnamed: 0  count  ...  class                                              tweet\n",
              "0           0      3  ...      2  !!! RT @mayasolovely: As a woman you shouldn't...\n",
              "1           1      3  ...      1  !!!!! RT @mleew17: boy dats cold...tyga dwn ba...\n",
              "2           2      3  ...      1  !!!!!!! RT @UrKindOfBrand Dawg!!!! RT @80sbaby...\n",
              "3           3      3  ...      1  !!!!!!!!! RT @C_G_Anderson: @viva_based she lo...\n",
              "4           4      6  ...      1  !!!!!!!!!!!!! RT @ShenikaRoberts: The shit you...\n",
              "\n",
              "[5 rows x 7 columns]"
            ]
          },
          "metadata": {},
          "execution_count": 183
        }
      ]
    },
    {
      "cell_type": "code",
      "metadata": {
        "colab": {
          "base_uri": "https://localhost:8080/"
        },
        "id": "5f2cf2c8",
        "outputId": "a022a7f5-2921-4efe-fede-0213122dbb82"
      },
      "source": [
        "# check if there are blank elements\n",
        "df.isnull().sum()"
      ],
      "id": "5f2cf2c8",
      "execution_count": 5,
      "outputs": [
        {
          "output_type": "execute_result",
          "data": {
            "text/plain": [
              "Unnamed: 0    0\n",
              "q_a           0\n",
              "label         0\n",
              "dtype: int64"
            ]
          },
          "metadata": {},
          "execution_count": 5
        }
      ]
    },
    {
      "cell_type": "markdown",
      "metadata": {
        "id": "4f89ac29"
      },
      "source": [
        "1. Use any of the hate speech/cyberbullying databases maintained at http://hatespeechdata.com/. In addition, there is two additional cyberbullying datasets available at https://github.com/saroarjahan/Negation_project/, AskFm and FormSpring, which can be used as well. We would like to investigate the structure of the dataset in terms of the categories present. Consider the subclass S1 of hate/cyberbullying content and subclass S2 of non-abusive content. Draw a word-cloud representation of S1 and S2 and explain the word features."
      ],
      "id": "4f89ac29"
    },
    {
      "cell_type": "code",
      "metadata": {
        "colab": {
          "base_uri": "https://localhost:8080/"
        },
        "id": "a2937bda",
        "outputId": "37bf641c-4fb6-48bf-d72a-fe01cad1e260"
      },
      "source": [
        "df['label'].value_counts()"
      ],
      "id": "a2937bda",
      "execution_count": 6,
      "outputs": [
        {
          "output_type": "execute_result",
          "data": {
            "text/plain": [
              "0    8789\n",
              "1    1209\n",
              "Name: label, dtype: int64"
            ]
          },
          "metadata": {},
          "execution_count": 6
        }
      ]
    },
    {
      "cell_type": "code",
      "metadata": {
        "id": "a7922ea1"
      },
      "source": [
        "# Making subclasses S1: abusive content (label = 1), S2: non abusive content(label = 0)\n",
        "S1 = df[df['label']==1]\n",
        "S2 = df[df['label']==0]"
      ],
      "id": "a7922ea1",
      "execution_count": 7,
      "outputs": []
    },
    {
      "cell_type": "code",
      "metadata": {
        "id": "bd7d6304"
      },
      "source": [
        "#S1.head()\n",
        "#S2.head()"
      ],
      "id": "bd7d6304",
      "execution_count": 8,
      "outputs": []
    },
    {
      "cell_type": "code",
      "metadata": {
        "colab": {
          "base_uri": "https://localhost:8080/",
          "height": 198
        },
        "id": "b1916f4e",
        "outputId": "cb34a067-daed-4b7b-92d9-e8b304e97ec0"
      },
      "source": [
        "# Wordcloud 1: abusive\n",
        "text_S1 = \" \".join(t for t in S1.q_a)\n",
        "wordcloud = WordCloud().generate(text_S1)\n",
        "plt.imshow(wordcloud, interpolation='bilinear')\n",
        "plt.axis(\"off\")\n",
        "plt.show()"
      ],
      "id": "b1916f4e",
      "execution_count": 9,
      "outputs": [
        {
          "output_type": "display_data",
          "data": {
            "image/png": "[encoded data removed]",
            "text/plain": [
              "<Figure size 432x288 with 1 Axes>"
            ]
          },
          "metadata": {
            "needs_background": "light"
          }
        }
      ]
    },
    {
      "cell_type": "code",
      "metadata": {
        "colab": {
          "base_uri": "https://localhost:8080/",
          "height": 198
        },
        "id": "767328de",
        "outputId": "89d533d0-b171-4ba6-cde7-f5b42227bc90"
      },
      "source": [
        "# Wordcloud 2: non abusive\n",
        "text_S2 = \" \".join(t for t in S2.q_a)\n",
        "wordcloud = WordCloud().generate(text_S2)\n",
        "plt.imshow(wordcloud, interpolation='bilinear')\n",
        "plt.axis(\"off\")\n",
        "plt.show()"
      ],
      "id": "767328de",
      "execution_count": 10,
      "outputs": [
        {
          "output_type": "display_data",
          "data": {
            "image/png": "[encoded data removed]",
            "text/plain": [
              "<Figure size 432x288 with 1 Axes>"
            ]
          },
          "metadata": {
            "needs_background": "light"
          }
        }
      ]
    },
    {
      "cell_type": "code",
      "metadata": {
        "id": "3df32621"
      },
      "source": [
        "# split into training/ test data\n",
        "from sklearn.model_selection import train_test_split"
      ],
      "id": "3df32621",
      "execution_count": 11,
      "outputs": []
    },
    {
      "cell_type": "code",
      "metadata": {
        "id": "9b8ed50c"
      },
      "source": [
        "#X: Feature data\n",
        "X = df['q_a']\n",
        "\n",
        "#y: label\n",
        "y = df['label']\n",
        "\n",
        "X_train, X_test, y_train, y_test = train_test_split(X, y, test_size=0.3, random_state=42)"
      ],
      "id": "9b8ed50c",
      "execution_count": 12,
      "outputs": []
    },
    {
      "cell_type": "code",
      "metadata": {
        "id": "91c49c92"
      },
      "source": [
        ""
      ],
      "id": "91c49c92",
      "execution_count": 12,
      "outputs": []
    },
    {
      "cell_type": "code",
      "metadata": {
        "colab": {
          "base_uri": "https://localhost:8080/"
        },
        "id": "4398c074",
        "outputId": "0b5c937f-98c5-4a52-9323-58867204f18f"
      },
      "source": [
        "# Pipeline: TF-IDF Vectorizer + LR Classifier\n",
        "from sklearn.pipeline import Pipeline\n",
        "from sklearn.feature_extraction.text import TfidfVectorizer\n",
        "\n",
        "from sklearn.linear_model import LogisticRegression\n",
        "\n",
        "text_clf = Pipeline([('tfidf', TfidfVectorizer()),\n",
        "                     ('clf', LogisticRegression()),\n",
        "])\n",
        "\n",
        "#X_train = df_train['q_a_processed']\n",
        "text_clf.fit(X_train, y_train)\n",
        "\n",
        "# Form a prediction set\n",
        "predictions = text_clf.predict(X_test)\n",
        "\n",
        "# Report the confusion matrix\n",
        "from sklearn import metrics\n",
        "print(\"Confusion Matrix:  \\n\", metrics.confusion_matrix(y_test,predictions))\n",
        "\n",
        "# Print a classification report\n",
        "print(\"Classification Report:  \\n\", metrics.classification_report(y_test,predictions))\n",
        "\n",
        "#Accuracy Score\n",
        "print(\"Accuracy Score:  \" , metrics.accuracy_score(y_test, predictions))\n",
        "\n",
        "# F1 Score\n",
        "print(\"F1 Score:  \", metrics.f1_score(y_test, predictions))"
      ],
      "id": "4398c074",
      "execution_count": 13,
      "outputs": [
        {
          "output_type": "stream",
          "name": "stdout",
          "text": [
            "Confusion Matrix:  \n",
            " [[2612   17]\n",
            " [ 268  103]]\n",
            "Classification Report:  \n",
            "               precision    recall  f1-score   support\n",
            "\n",
            "           0       0.91      0.99      0.95      2629\n",
            "           1       0.86      0.28      0.42       371\n",
            "\n",
            "    accuracy                           0.91      3000\n",
            "   macro avg       0.88      0.64      0.68      3000\n",
            "weighted avg       0.90      0.91      0.88      3000\n",
            "\n",
            "Accuracy Score:   0.905\n",
            "F1 Score:   0.41955193482688397\n"
          ]
        }
      ]
    },
    {
      "cell_type": "markdown",
      "metadata": {
        "id": "fa5bdbbe"
      },
      "source": [
        "2.a. Perform dataset pre-processing examples stop-word removal, stemming, special character removal, emoji removal, number, hashtag, mention tag, etc. Report different preprocessing outcome and try to explain the results. "
      ],
      "id": "fa5bdbbe"
    },
    {
      "cell_type": "code",
      "metadata": {
        "id": "b757a861"
      },
      "source": [
        "df_train = pd.DataFrame(list(zip(X_train, y_train)), columns =['q_a', 'label'])"
      ],
      "id": "b757a861",
      "execution_count": 14,
      "outputs": []
    },
    {
      "cell_type": "code",
      "metadata": {
        "colab": {
          "base_uri": "https://localhost:8080/"
        },
        "id": "xn3Gls0cr7Dv",
        "outputId": "feff144a-420d-4336-b49a-56786743598d"
      },
      "source": [
        "df_train['label'].value_counts()"
      ],
      "id": "xn3Gls0cr7Dv",
      "execution_count": 93,
      "outputs": [
        {
          "output_type": "execute_result",
          "data": {
            "text/plain": [
              "0    6160\n",
              "1     838\n",
              "Name: label, dtype: int64"
            ]
          },
          "metadata": {},
          "execution_count": 93
        }
      ]
    },
    {
      "cell_type": "code",
      "metadata": {
        "id": "b53b3785"
      },
      "source": [
        "# remove mention urls, tags and hashtags\n",
        "df_train['q_a_processed']=df_train['q_a'].replace('@[A-Za-z0-9]+, #[A-Za-z0-9_]+, http\\S+|www.\\S+','', regex=True)"
      ],
      "id": "b53b3785",
      "execution_count": 16,
      "outputs": []
    },
    {
      "cell_type": "code",
      "metadata": {
        "colab": {
          "base_uri": "https://localhost:8080/"
        },
        "id": "7c3cab0b",
        "outputId": "bc56e8a4-9bb7-4e92-f5d0-15b1a4063e5c"
      },
      "source": [
        "df_train['q_a_processed'].str.lower()"
      ],
      "id": "7c3cab0b",
      "execution_count": 17,
      "outputs": [
        {
          "output_type": "execute_result",
          "data": {
            "text/plain": [
              "0       i'm not talking about just cheating. you can b...\n",
              "1                                                 wtf oml\n",
              "2       i honestly wouldn't care. it's the truth. actu...\n",
              "3              but im not even in a relationship lmao wyd\n",
              "4              do you like movies about ufos and aliens? \n",
              "                              ...                        \n",
              "6993    you know you really shouldn't talk that way to...\n",
              "6994             im tall as hell so im here for tall men.\n",
              "6995                  you really had sex with yaras bf ? \n",
              "6996          if you could teleport, where would you go? \n",
              "6997                          who do you think you are?  \n",
              "Name: q_a_processed, Length: 6998, dtype: object"
            ]
          },
          "metadata": {},
          "execution_count": 17
        }
      ]
    },
    {
      "cell_type": "code",
      "metadata": {
        "id": "9a96d240"
      },
      "source": [
        "def remove_whitespace(text):\n",
        "    return  \" \".join(text.split())\n",
        "\n",
        "df_train['q_a_processed'] = df_train['q_a_processed'].apply(remove_whitespace)"
      ],
      "id": "9a96d240",
      "execution_count": 18,
      "outputs": []
    },
    {
      "cell_type": "code",
      "metadata": {
        "colab": {
          "base_uri": "https://localhost:8080/"
        },
        "id": "ee3e5aab",
        "outputId": "6966014d-c063-4128-c731-97deb0239cb7"
      },
      "source": [
        "from nltk import word_tokenize\n",
        "nltk.download('punkt')\n",
        "\n",
        "df_train['q_a_processed'] = df_train['q_a_processed'].apply(lambda X: word_tokenize(X))"
      ],
      "id": "ee3e5aab",
      "execution_count": 19,
      "outputs": [
        {
          "output_type": "stream",
          "name": "stdout",
          "text": [
            "[nltk_data] Downloading package punkt to /root/nltk_data...\n",
            "[nltk_data]   Unzipping tokenizers/punkt.zip.\n"
          ]
        }
      ]
    },
    {
      "cell_type": "code",
      "metadata": {
        "colab": {
          "base_uri": "https://localhost:8080/"
        },
        "id": "fbe77353",
        "outputId": "bdb46de6-2d5d-40a7-d183-89b5e9a2bfa4"
      },
      "source": [
        "# OPTIONAL, TAKES A FEW MINS #########################\n",
        "!pip install spellchecker\n",
        "!pip install pyspellchecker\n",
        "\n",
        "from spellchecker import SpellChecker\n",
        "\n",
        "def spell_check(text):\n",
        "    \n",
        "    result = []\n",
        "    spell = SpellChecker()\n",
        "    for word in text:\n",
        "        correct_word = spell.correction(word)\n",
        "        result.append(correct_word)\n",
        "    \n",
        "    return result\n",
        "\n",
        "df_train['q_a_processed'] = df_train['q_a_processed'].apply(spell_check)"
      ],
      "id": "fbe77353",
      "execution_count": 20,
      "outputs": [
        {
          "output_type": "stream",
          "name": "stdout",
          "text": [
            "Requirement already satisfied: spellchecker in /usr/local/lib/python3.7/dist-packages (0.4)\n",
            "Requirement already satisfied: inexactsearch in /usr/local/lib/python3.7/dist-packages (from spellchecker) (1.0.2)\n",
            "Requirement already satisfied: setuptools in /usr/local/lib/python3.7/dist-packages (from spellchecker) (57.4.0)\n",
            "Requirement already satisfied: silpa-common>=0.3 in /usr/local/lib/python3.7/dist-packages (from inexactsearch->spellchecker) (0.3)\n",
            "Requirement already satisfied: soundex>=1.0 in /usr/local/lib/python3.7/dist-packages (from inexactsearch->spellchecker) (1.1.3)\n",
            "Requirement already satisfied: pyspellchecker in /usr/local/lib/python3.7/dist-packages (0.6.2)\n"
          ]
        }
      ]
    },
    {
      "cell_type": "code",
      "metadata": {
        "colab": {
          "base_uri": "https://localhost:8080/"
        },
        "id": "d516c650",
        "outputId": "fb61cf08-0c7e-42df-feb2-42ca24297214"
      },
      "source": [
        "nltk.download('stopwords')\n",
        "\n",
        "from nltk.corpus import stopwords\n",
        "en_stopwords = stopwords.words('english')\n",
        "en_stopwords.remove('not')\n",
        "\n",
        "def remove_stopwords(text):\n",
        "    result = []\n",
        "    for token in text:\n",
        "        if token not in en_stopwords:\n",
        "            result.append(token)\n",
        "            \n",
        "    return result\n",
        "\n",
        "df_train['q_a_processed'] = df_train['q_a_processed'].apply(remove_stopwords)"
      ],
      "id": "d516c650",
      "execution_count": 22,
      "outputs": [
        {
          "output_type": "stream",
          "name": "stdout",
          "text": [
            "[nltk_data] Downloading package stopwords to /root/nltk_data...\n",
            "[nltk_data]   Unzipping corpora/stopwords.zip.\n"
          ]
        }
      ]
    },
    {
      "cell_type": "code",
      "metadata": {
        "id": "dcb467e7"
      },
      "source": [
        "from nltk.stem import PorterStemmer\n",
        "\n",
        "def stemming(text):\n",
        "    porter = PorterStemmer()\n",
        "    \n",
        "    result=[]\n",
        "    for word in text:\n",
        "        result.append(porter.stem(word))\n",
        "    return result\n",
        "\n",
        "df_train['q_a_processed'] = df_train['q_a_processed'].apply(stemming)"
      ],
      "id": "dcb467e7",
      "execution_count": 23,
      "outputs": []
    },
    {
      "cell_type": "code",
      "metadata": {
        "id": "d8c3679e"
      },
      "source": [
        "# remove special characters and numbers\n",
        "from nltk.tokenize import RegexpTokenizer\n",
        "\n",
        "def remove_punct(text):\n",
        "    \n",
        "    tokenizer = RegexpTokenizer(r\"\\w+\")\n",
        "    lst=tokenizer.tokenize(' '.join(text))\n",
        "    return lst\n",
        "\n",
        "df_train['q_a_processed'] = df_train['q_a_processed'].apply(remove_punct)"
      ],
      "id": "d8c3679e",
      "execution_count": 24,
      "outputs": []
    },
    {
      "cell_type": "code",
      "metadata": {
        "id": "8640396a"
      },
      "source": [
        "from nltk.tokenize.treebank import TreebankWordDetokenizer\n",
        "\n",
        "df_train['q_a_processed'] = df_train['q_a_processed'].apply(lambda X: TreebankWordDetokenizer().detokenize(X))\n",
        "\n",
        "#TreebankWordDetokenizer().detokenize(df_train['q_a_processed'])"
      ],
      "id": "8640396a",
      "execution_count": 25,
      "outputs": []
    },
    {
      "cell_type": "code",
      "metadata": {
        "colab": {
          "base_uri": "https://localhost:8080/"
        },
        "id": "17796a07",
        "outputId": "cdb6bb25-d061-4d16-87bf-d4bc577f63aa"
      },
      "source": [
        "df_train['q_a_processed'].head(10)"
      ],
      "id": "17796a07",
      "execution_count": 26,
      "outputs": [
        {
          "output_type": "execute_result",
          "data": {
            "text/plain": [
              "0    not talk cheat disloy person mani way not chea...\n",
              "1                                              wif oil\n",
              "2    I honestli would not care It truth actual not ...\n",
              "3                     im not even relationship lao wed\n",
              "4                               Do like movi ufo alien\n",
              "5                             If boyfriend demon could\n",
              "6                        shove rude ass dumb ass bitch\n",
              "7                                                  whi\n",
              "8                            lol not know song kid wif\n",
              "9          Do agre keep friend close enemi even closer\n",
              "Name: q_a_processed, dtype: object"
            ]
          },
          "metadata": {},
          "execution_count": 26
        }
      ]
    },
    {
      "cell_type": "markdown",
      "metadata": {
        "id": "675a3967"
      },
      "source": [
        "2.b. Use simple LR classifier and tf-idf as feature representation for different pre-processing performance comparisons. Use best pre-processing for rest of the  experiments."
      ],
      "id": "675a3967"
    },
    {
      "cell_type": "code",
      "metadata": {
        "colab": {
          "base_uri": "https://localhost:8080/"
        },
        "id": "17895f6b",
        "outputId": "04024a9a-82f2-4d4c-b4f4-30e0256298d5"
      },
      "source": [
        "# Pipeline: TF-IDF Vectorizer + LR Classifier\n",
        "from sklearn.pipeline import Pipeline\n",
        "from sklearn.feature_extraction.text import TfidfVectorizer\n",
        "\n",
        "from sklearn.linear_model import LogisticRegression\n",
        "\n",
        "text_clf = Pipeline([('tfidf', TfidfVectorizer()),\n",
        "                     ('clf', LogisticRegression()),\n",
        "])\n",
        "\n",
        "X_train = df_train['q_a_processed']\n",
        "text_clf.fit(X_train, y_train)\n",
        "\n",
        "# Form a prediction set\n",
        "predictions = text_clf.predict(X_test)\n",
        "\n",
        "# Report the confusion matrix\n",
        "from sklearn import metrics\n",
        "print(\"Confusion Matrix:  \\n\", metrics.confusion_matrix(y_test,predictions))\n",
        "\n",
        "# Print a classification report\n",
        "print(\"Classification Report:  \\n\", metrics.classification_report(y_test,predictions))\n",
        "\n",
        "#Accuracy Score\n",
        "print(\"Accuracy Score:  \" , metrics.accuracy_score(y_test, predictions))\n",
        "\n",
        "# F1 Score\n",
        "print(\"F1 Score:  \", metrics.f1_score(y_test, predictions))"
      ],
      "id": "17895f6b",
      "execution_count": 27,
      "outputs": [
        {
          "output_type": "stream",
          "name": "stdout",
          "text": [
            "Confusion Matrix:  \n",
            " [[2613   16]\n",
            " [ 317   54]]\n",
            "Classification Report:  \n",
            "               precision    recall  f1-score   support\n",
            "\n",
            "           0       0.89      0.99      0.94      2629\n",
            "           1       0.77      0.15      0.24       371\n",
            "\n",
            "    accuracy                           0.89      3000\n",
            "   macro avg       0.83      0.57      0.59      3000\n",
            "weighted avg       0.88      0.89      0.85      3000\n",
            "\n",
            "Accuracy Score:   0.889\n",
            "F1 Score:   0.24489795918367352\n"
          ]
        }
      ]
    },
    {
      "cell_type": "code",
      "metadata": {
        "id": "67811408"
      },
      "source": [
        ""
      ],
      "id": "67811408",
      "execution_count": 27,
      "outputs": []
    },
    {
      "cell_type": "code",
      "metadata": {
        "id": "88a0350f"
      },
      "source": [
        ""
      ],
      "id": "88a0350f",
      "execution_count": 27,
      "outputs": []
    },
    {
      "cell_type": "markdown",
      "metadata": {
        "id": "d46d3bf3"
      },
      "source": [
        "3. Perform Sentiment analysis of each of the posts and get positive, negative, or neutral scores. You can use sentiment Vader (https://github.com/cjhutto/vaderSentiment). Use this sentiment score as a feature and report classification Accuracy and F1 score by using simple Logistic Regression as classifier and sentiment score as a feature. Dou you think sentiment analysis can be used as feature? "
      ],
      "id": "d46d3bf3"
    },
    {
      "cell_type": "code",
      "metadata": {
        "colab": {
          "base_uri": "https://localhost:8080/"
        },
        "id": "c928ed84",
        "outputId": "da882273-59cb-43e3-bd4f-6e5a67330d19"
      },
      "source": [
        "# VADER, raw data + evaluation\n",
        "!pip install vaderSentiment\n",
        "from vaderSentiment.vaderSentiment import SentimentIntensityAnalyzer\n",
        " \n",
        "sid = SentimentIntensityAnalyzer()\n",
        "   \n",
        "df_train['scores'] = df_train['q_a'].apply(lambda t: sid.polarity_scores(t))\n",
        "\n",
        "df_train['compound']  = df_train['scores'].apply(lambda score_dict: score_dict['compound'])\n",
        "\n",
        "df_train['comp_score'] = df_train['compound'].apply(lambda c: 0 if c >=0 else 1)\n",
        "\n",
        "#df_train.head(10) \n",
        "\n",
        "\n",
        "print(\"Confusion Matrix:  \\n\", metrics.confusion_matrix(df_train['label'],df_train['comp_score']))\n",
        "\n",
        "# Print a classification report\n",
        "print(\"Classification Report:  \\n\", metrics.classification_report(df_train['label'],df_train['comp_score']))\n",
        "\n",
        "#Accuracy Score\n",
        "print(\"Accuracy Score:  \" , metrics.accuracy_score(df_train['label'],df_train['comp_score']))\n",
        "\n",
        "# F1 Score\n",
        "print(\"F1 Score:  \", metrics.f1_score(df_train['label'],df_train['comp_score']))"
      ],
      "id": "c928ed84",
      "execution_count": 31,
      "outputs": [
        {
          "output_type": "stream",
          "name": "stdout",
          "text": [
            "Collecting vaderSentiment\n",
            "  Downloading vaderSentiment-3.3.2-py2.py3-none-any.whl (125 kB)\n",
            "\u001b[?25l\r\u001b[K     |██▋                             | 10 kB 23.7 MB/s eta 0:00:01\r\u001b[K     |█████▏                          | 20 kB 27.5 MB/s eta 0:00:01\r\u001b[K     |███████▉                        | 30 kB 12.7 MB/s eta 0:00:01\r\u001b[K     |██████████▍                     | 40 kB 9.8 MB/s eta 0:00:01\r\u001b[K     |█████████████                   | 51 kB 5.5 MB/s eta 0:00:01\r\u001b[K     |███████████████▋                | 61 kB 6.0 MB/s eta 0:00:01\r\u001b[K     |██████████████████▏             | 71 kB 5.8 MB/s eta 0:00:01\r\u001b[K     |████████████████████▉           | 81 kB 6.4 MB/s eta 0:00:01\r\u001b[K     |███████████████████████▍        | 92 kB 4.9 MB/s eta 0:00:01\r\u001b[K     |██████████████████████████      | 102 kB 5.3 MB/s eta 0:00:01\r\u001b[K     |████████████████████████████▋   | 112 kB 5.3 MB/s eta 0:00:01\r\u001b[K     |███████████████████████████████▏| 122 kB 5.3 MB/s eta 0:00:01\r\u001b[K     |████████████████████████████████| 125 kB 5.3 MB/s \n",
            "\u001b[?25hRequirement already satisfied: requests in /usr/local/lib/python3.7/dist-packages (from vaderSentiment) (2.23.0)\n",
            "Requirement already satisfied: certifi>=2017.4.17 in /usr/local/lib/python3.7/dist-packages (from requests->vaderSentiment) (2021.5.30)\n",
            "Requirement already satisfied: urllib3!=1.25.0,!=1.25.1,<1.26,>=1.21.1 in /usr/local/lib/python3.7/dist-packages (from requests->vaderSentiment) (1.24.3)\n",
            "Requirement already satisfied: chardet<4,>=3.0.2 in /usr/local/lib/python3.7/dist-packages (from requests->vaderSentiment) (3.0.4)\n",
            "Requirement already satisfied: idna<3,>=2.5 in /usr/local/lib/python3.7/dist-packages (from requests->vaderSentiment) (2.10)\n",
            "Installing collected packages: vaderSentiment\n",
            "Successfully installed vaderSentiment-3.3.2\n",
            "Confusion Matrix:  \n",
            " [[3998 2162]\n",
            " [ 362  476]]\n",
            "Classification Report:  \n",
            "               precision    recall  f1-score   support\n",
            "\n",
            "           0       0.92      0.65      0.76      6160\n",
            "           1       0.18      0.57      0.27       838\n",
            "\n",
            "    accuracy                           0.64      6998\n",
            "   macro avg       0.55      0.61      0.52      6998\n",
            "weighted avg       0.83      0.64      0.70      6998\n",
            "\n",
            "Accuracy Score:   0.6393255215775936\n",
            "F1 Score:   0.2738780207134638\n"
          ]
        }
      ]
    },
    {
      "cell_type": "code",
      "metadata": {
        "colab": {
          "base_uri": "https://localhost:8080/"
        },
        "id": "8b97d88e",
        "outputId": "1b08f8ec-c362-43e4-e9d2-67d3324fe115"
      },
      "source": [
        "# VADER, pre processed data\n",
        "from vaderSentiment.vaderSentiment import SentimentIntensityAnalyzer\n",
        " \n",
        "sid = SentimentIntensityAnalyzer()\n",
        "   \n",
        "df_train['scores'] = df_train['q_a_processed'].apply(lambda t: sid.polarity_scores(t))\n",
        "\n",
        "df_train['compound']  = df_train['scores'].apply(lambda score_dict: score_dict['compound'])\n",
        "\n",
        "df_train['comp_score'] = df_train['compound'].apply(lambda c: 0 if c >=0 else 1)\n",
        "\n",
        "#df_train.head(10)   \n",
        "\n",
        "print(\"Confusion Matrix:  \\n\", metrics.confusion_matrix(df_train['label'],df_train['comp_score']))\n",
        "\n",
        "# Print a classification report\n",
        "print(\"Classification Report:  \\n\", metrics.classification_report(df_train['label'],df_train['comp_score']))\n",
        "\n",
        "#Accuracy Score\n",
        "print(\"Accuracy Score:  \" , metrics.accuracy_score(df_train['label'],df_train['comp_score']))\n",
        "\n",
        "# F1 Score\n",
        "print(\"F1 Score:  \", metrics.f1_score(df_train['label'],df_train['comp_score']))"
      ],
      "id": "8b97d88e",
      "execution_count": 32,
      "outputs": [
        {
          "output_type": "stream",
          "name": "stdout",
          "text": [
            "Confusion Matrix:  \n",
            " [[4141 2019]\n",
            " [ 378  460]]\n",
            "Classification Report:  \n",
            "               precision    recall  f1-score   support\n",
            "\n",
            "           0       0.92      0.67      0.78      6160\n",
            "           1       0.19      0.55      0.28       838\n",
            "\n",
            "    accuracy                           0.66      6998\n",
            "   macro avg       0.55      0.61      0.53      6998\n",
            "weighted avg       0.83      0.66      0.72      6998\n",
            "\n",
            "Accuracy Score:   0.657473563875393\n",
            "F1 Score:   0.27735905939101596\n"
          ]
        }
      ]
    },
    {
      "cell_type": "code",
      "metadata": {
        "id": "9324a572"
      },
      "source": [
        ""
      ],
      "id": "9324a572",
      "execution_count": 32,
      "outputs": []
    },
    {
      "cell_type": "markdown",
      "metadata": {
        "id": "b6cfb77d"
      },
      "source": [
        "4. Run classification with LR and tf-itdf as a baseline model so that you can compare the result with other state-of-the-art practices. Study the implementation available at https://github.com/pinkeshbadjatiya/twitter-hatespeech of the paper \"Deep learning for hate speech detection Tweets\" by Pinkesh Badjatiya (www'17 proceedings, 2017) report result of the Accuracy and F1 score. Try to implement CNN+fastText architecture."
      ],
      "id": "b6cfb77d"
    },
    {
      "cell_type": "code",
      "metadata": {
        "id": "a0b2dfc4"
      },
      "source": [
        "#importing libraries\n",
        "import tensorflow as tf\n",
        "from tensorflow import keras\n",
        "from keras.models import Sequential\n",
        "from keras.layers.core import Dense, Dropout, Activation, Flatten\n",
        "from keras.layers.convolutional import Convolution2D, MaxPooling2D\n",
        "from sklearn.model_selection import train_test_split\n",
        "import pandas as pd\n",
        "import numpy as np"
      ],
      "id": "a0b2dfc4",
      "execution_count": 37,
      "outputs": []
    },
    {
      "cell_type": "code",
      "metadata": {
        "id": "opEg7nsVm93O"
      },
      "source": [
        "#Imbalanced data: Resample\n",
        "from sklearn.utils import resample\n",
        "\n",
        "X_train, X_test, y_train, y_test = train_test_split(X, y, test_size=0.3, random_state=42)\n",
        "X_train = df_train['q_a_processed'] \n",
        "\n",
        "Offensive = df_train[df_train['label']==1]\n",
        "Okay = df_train[df_train['label']==0]\n",
        "\n",
        "Off_upsampled = resample(Offensive,\n",
        "               replace=True,\n",
        "               n_samples=len(Okay),\n",
        "               random_state=42)\n",
        "\n",
        "upsampled = pd.concat([Okay, Off_upsampled])\n",
        "X_train = upsampled['q_a_processed'] \n",
        "y_train = upsampled['label'] "
      ],
      "id": "opEg7nsVm93O",
      "execution_count": 131,
      "outputs": []
    },
    {
      "cell_type": "code",
      "metadata": {
        "id": "4398e618"
      },
      "source": [
        "from keras.preprocessing.text import Tokenizer\n",
        "\n",
        "tokenizer = Tokenizer(num_words=5000)\n",
        "tokenizer.fit_on_texts(X_train)\n",
        "\n",
        "x_train = tokenizer.texts_to_sequences(X_train) # encoding\n",
        "x_test = tokenizer.texts_to_sequences(X_test)\n",
        "\n",
        "vocab_size = len(tokenizer.word_index) + 1"
      ],
      "id": "4398e618",
      "execution_count": 132,
      "outputs": []
    },
    {
      "cell_type": "code",
      "metadata": {
        "colab": {
          "base_uri": "https://localhost:8080/"
        },
        "id": "55553a4f",
        "outputId": "859d304d-12c9-427a-8333-04e976850653"
      },
      "source": [
        "y_train"
      ],
      "id": "55553a4f",
      "execution_count": 134,
      "outputs": [
        {
          "output_type": "execute_result",
          "data": {
            "text/plain": [
              "0       0\n",
              "1       0\n",
              "2       0\n",
              "3       0\n",
              "4       0\n",
              "       ..\n",
              "4873    1\n",
              "6262    1\n",
              "4405    1\n",
              "3878    1\n",
              "3151    1\n",
              "Name: label, Length: 12320, dtype: int64"
            ]
          },
          "metadata": {},
          "execution_count": 134
        }
      ]
    },
    {
      "cell_type": "code",
      "metadata": {
        "id": "bdc8a903"
      },
      "source": [
        "from keras.preprocessing.sequence import pad_sequences\n",
        "\n",
        "maxlen = 300\n",
        "\n",
        "X_train = pad_sequences(x_train, padding='post', maxlen=maxlen)\n",
        "X_test = pad_sequences(x_test, padding='post', maxlen=maxlen)"
      ],
      "id": "bdc8a903",
      "execution_count": 135,
      "outputs": []
    },
    {
      "cell_type": "code",
      "metadata": {
        "colab": {
          "base_uri": "https://localhost:8080/"
        },
        "id": "0ce4c990",
        "outputId": "dae65f83-a695-4805-b84a-83ca98ee10e4"
      },
      "source": [
        "from keras.models import Sequential\n",
        "from keras import layers\n",
        "\n",
        "embedding_dim = 50\n",
        "\n",
        "model = Sequential()\n",
        "model.add(layers.Embedding(input_dim=vocab_size, \n",
        "                           output_dim=embedding_dim, \n",
        "                           input_length=maxlen))\n",
        "model.add(layers.Flatten())\n",
        "model.add(layers.Dense(10, activation='relu'))\n",
        "model.add(layers.Dense(1, activation='sigmoid')) #trying 2 instead of 1\n",
        "model.compile(optimizer='adam',\n",
        "              loss='binary_crossentropy',\n",
        "              metrics=['accuracy'])\n",
        "model.summary()\n"
      ],
      "id": "0ce4c990",
      "execution_count": 140,
      "outputs": [
        {
          "output_type": "stream",
          "name": "stdout",
          "text": [
            "Model: \"sequential_18\"\n",
            "_________________________________________________________________\n",
            "Layer (type)                 Output Shape              Param #   \n",
            "=================================================================\n",
            "embedding_11 (Embedding)     (None, 300, 50)           257550    \n",
            "_________________________________________________________________\n",
            "flatten_9 (Flatten)          (None, 15000)             0         \n",
            "_________________________________________________________________\n",
            "dense_35 (Dense)             (None, 10)                150010    \n",
            "_________________________________________________________________\n",
            "dense_36 (Dense)             (None, 1)                 11        \n",
            "=================================================================\n",
            "Total params: 407,571\n",
            "Trainable params: 407,571\n",
            "Non-trainable params: 0\n",
            "_________________________________________________________________\n"
          ]
        }
      ]
    },
    {
      "cell_type": "code",
      "metadata": {
        "colab": {
          "base_uri": "https://localhost:8080/"
        },
        "id": "e847db2b",
        "outputId": "ae9659bd-3583-4d47-dbfe-9ea33e97b27f"
      },
      "source": [
        "history = model.fit(X_train, y_train,\n",
        "                    epochs=10,\n",
        "                    verbose=2,\n",
        "                    #class_weight= class_weight,\n",
        "                    validation_data=(X_test, y_test),\n",
        "                    batch_size=10)\n",
        "loss, accuracy = model.evaluate(X_train, y_train, verbose=2)\n",
        "print(\"Training Accuracy: {:.4f}\".format(accuracy))\n",
        "loss, accuracy = model.evaluate(X_test, y_test, verbose=2)\n",
        "print(\"Testing Accuracy:  {:.4f}\".format(accuracy))"
      ],
      "id": "e847db2b",
      "execution_count": 170,
      "outputs": [
        {
          "output_type": "stream",
          "name": "stdout",
          "text": [
            "Epoch 1/50\n",
            "1232/1232 - 9s - loss: 0.0087 - accuracy: 0.9976 - val_loss: 1.2828 - val_accuracy: 0.8833\n",
            "Epoch 2/50\n",
            "1232/1232 - 9s - loss: 0.0089 - accuracy: 0.9971 - val_loss: 1.2824 - val_accuracy: 0.8773\n",
            "Epoch 3/50\n",
            "1232/1232 - 9s - loss: 0.0088 - accuracy: 0.9970 - val_loss: 1.2717 - val_accuracy: 0.8747\n",
            "Epoch 4/50\n",
            "1232/1232 - 8s - loss: 0.0087 - accuracy: 0.9970 - val_loss: 1.3546 - val_accuracy: 0.8787\n",
            "Epoch 5/50\n",
            "1232/1232 - 8s - loss: 0.0089 - accuracy: 0.9968 - val_loss: 1.3327 - val_accuracy: 0.8707\n",
            "Epoch 6/50\n",
            "1232/1232 - 9s - loss: 0.0081 - accuracy: 0.9970 - val_loss: 1.2474 - val_accuracy: 0.8610\n",
            "Epoch 7/50\n",
            "1232/1232 - 9s - loss: 0.0075 - accuracy: 0.9972 - val_loss: 1.3473 - val_accuracy: 0.8673\n",
            "Epoch 8/50\n",
            "1232/1232 - 9s - loss: 0.0066 - accuracy: 0.9976 - val_loss: 1.5466 - val_accuracy: 0.8703\n",
            "Epoch 9/50\n",
            "1232/1232 - 8s - loss: 0.0065 - accuracy: 0.9980 - val_loss: 1.6055 - val_accuracy: 0.8767\n",
            "Epoch 10/50\n",
            "1232/1232 - 8s - loss: 0.0073 - accuracy: 0.9974 - val_loss: 1.7509 - val_accuracy: 0.8790\n",
            "Epoch 11/50\n",
            "1232/1232 - 8s - loss: 0.0096 - accuracy: 0.9965 - val_loss: 1.7300 - val_accuracy: 0.8753\n",
            "Epoch 12/50\n",
            "1232/1232 - 8s - loss: 0.0061 - accuracy: 0.9976 - val_loss: 1.9824 - val_accuracy: 0.8757\n",
            "Epoch 13/50\n",
            "1232/1232 - 8s - loss: 0.0061 - accuracy: 0.9976 - val_loss: 1.8295 - val_accuracy: 0.8680\n",
            "Epoch 14/50\n",
            "1232/1232 - 8s - loss: 0.0064 - accuracy: 0.9976 - val_loss: 1.8849 - val_accuracy: 0.8677\n",
            "Epoch 15/50\n",
            "1232/1232 - 8s - loss: 0.0085 - accuracy: 0.9969 - val_loss: 1.9118 - val_accuracy: 0.8747\n",
            "Epoch 16/50\n",
            "1232/1232 - 8s - loss: 0.0057 - accuracy: 0.9979 - val_loss: 1.9981 - val_accuracy: 0.8753\n",
            "Epoch 17/50\n",
            "1232/1232 - 8s - loss: 0.0054 - accuracy: 0.9978 - val_loss: 2.0851 - val_accuracy: 0.8773\n",
            "Epoch 18/50\n",
            "1232/1232 - 8s - loss: 0.0059 - accuracy: 0.9979 - val_loss: 2.2740 - val_accuracy: 0.8800\n",
            "Epoch 19/50\n",
            "1232/1232 - 8s - loss: 0.0069 - accuracy: 0.9977 - val_loss: 2.1424 - val_accuracy: 0.8723\n",
            "Epoch 20/50\n",
            "1232/1232 - 8s - loss: 0.0064 - accuracy: 0.9975 - val_loss: 2.2356 - val_accuracy: 0.8710\n",
            "Epoch 21/50\n",
            "1232/1232 - 9s - loss: 0.0055 - accuracy: 0.9979 - val_loss: 2.2534 - val_accuracy: 0.8730\n",
            "Epoch 22/50\n",
            "1232/1232 - 8s - loss: 0.0055 - accuracy: 0.9976 - val_loss: 2.2832 - val_accuracy: 0.8733\n",
            "Epoch 23/50\n",
            "1232/1232 - 8s - loss: 0.0055 - accuracy: 0.9976 - val_loss: 2.5275 - val_accuracy: 0.8740\n",
            "Epoch 24/50\n",
            "1232/1232 - 9s - loss: 0.0058 - accuracy: 0.9976 - val_loss: 2.6258 - val_accuracy: 0.8763\n",
            "Epoch 25/50\n",
            "1232/1232 - 9s - loss: 0.0056 - accuracy: 0.9976 - val_loss: 2.5770 - val_accuracy: 0.8730\n",
            "Epoch 26/50\n",
            "1232/1232 - 8s - loss: 0.0050 - accuracy: 0.9979 - val_loss: 2.5090 - val_accuracy: 0.8590\n",
            "Epoch 27/50\n",
            "1232/1232 - 8s - loss: 0.0065 - accuracy: 0.9976 - val_loss: 2.8481 - val_accuracy: 0.8693\n",
            "Epoch 28/50\n",
            "1232/1232 - 8s - loss: 0.0051 - accuracy: 0.9981 - val_loss: 2.7802 - val_accuracy: 0.8697\n",
            "Epoch 29/50\n",
            "1232/1232 - 9s - loss: 0.0050 - accuracy: 0.9981 - val_loss: 2.5471 - val_accuracy: 0.8627\n",
            "Epoch 30/50\n",
            "1232/1232 - 9s - loss: 0.0071 - accuracy: 0.9973 - val_loss: 2.9528 - val_accuracy: 0.8657\n",
            "Epoch 31/50\n",
            "1232/1232 - 9s - loss: 0.0057 - accuracy: 0.9980 - val_loss: 2.9159 - val_accuracy: 0.8677\n",
            "Epoch 32/50\n",
            "1232/1232 - 9s - loss: 0.0048 - accuracy: 0.9981 - val_loss: 2.9197 - val_accuracy: 0.8647\n",
            "Epoch 33/50\n",
            "1232/1232 - 10s - loss: 0.0056 - accuracy: 0.9977 - val_loss: 3.0344 - val_accuracy: 0.8677\n",
            "Epoch 34/50\n",
            "1232/1232 - 9s - loss: 0.0046 - accuracy: 0.9981 - val_loss: 3.0751 - val_accuracy: 0.8693\n",
            "Epoch 35/50\n",
            "1232/1232 - 9s - loss: 0.0047 - accuracy: 0.9981 - val_loss: 3.1281 - val_accuracy: 0.8690\n",
            "Epoch 36/50\n",
            "1232/1232 - 9s - loss: 0.0048 - accuracy: 0.9981 - val_loss: 2.8262 - val_accuracy: 0.8617\n",
            "Epoch 37/50\n",
            "1232/1232 - 9s - loss: 0.0079 - accuracy: 0.9970 - val_loss: 3.3502 - val_accuracy: 0.8673\n",
            "Epoch 38/50\n",
            "1232/1232 - 9s - loss: 0.0049 - accuracy: 0.9980 - val_loss: 3.2747 - val_accuracy: 0.8687\n",
            "Epoch 39/50\n",
            "1232/1232 - 9s - loss: 0.0046 - accuracy: 0.9981 - val_loss: 3.3250 - val_accuracy: 0.8677\n",
            "Epoch 40/50\n",
            "1232/1232 - 9s - loss: 0.0048 - accuracy: 0.9981 - val_loss: 4.8062 - val_accuracy: 0.8810\n",
            "Epoch 41/50\n",
            "1232/1232 - 9s - loss: 0.0065 - accuracy: 0.9977 - val_loss: 3.5297 - val_accuracy: 0.8677\n",
            "Epoch 42/50\n",
            "1232/1232 - 8s - loss: 0.0044 - accuracy: 0.9981 - val_loss: 3.6040 - val_accuracy: 0.8687\n",
            "Epoch 43/50\n",
            "1232/1232 - 8s - loss: 0.0046 - accuracy: 0.9981 - val_loss: 3.6794 - val_accuracy: 0.8697\n",
            "Epoch 44/50\n",
            "1232/1232 - 9s - loss: 0.0050 - accuracy: 0.9981 - val_loss: 3.3821 - val_accuracy: 0.8680\n",
            "Epoch 45/50\n",
            "1232/1232 - 8s - loss: 0.0058 - accuracy: 0.9975 - val_loss: 3.7001 - val_accuracy: 0.8700\n",
            "Epoch 46/50\n",
            "1232/1232 - 9s - loss: 0.0045 - accuracy: 0.9981 - val_loss: 3.6978 - val_accuracy: 0.8693\n",
            "Epoch 47/50\n",
            "1232/1232 - 8s - loss: 0.0044 - accuracy: 0.9981 - val_loss: 3.8082 - val_accuracy: 0.8717\n",
            "Epoch 48/50\n",
            "1232/1232 - 8s - loss: 0.0047 - accuracy: 0.9983 - val_loss: 3.8717 - val_accuracy: 0.8733\n",
            "Epoch 49/50\n",
            "1232/1232 - 8s - loss: 0.0081 - accuracy: 0.9976 - val_loss: 3.7564 - val_accuracy: 0.8683\n",
            "Epoch 50/50\n",
            "1232/1232 - 9s - loss: 0.0044 - accuracy: 0.9982 - val_loss: 3.6893 - val_accuracy: 0.8680\n",
            "385/385 - 1s - loss: 0.0040 - accuracy: 0.9982\n",
            "Training Accuracy: 0.9982\n",
            "94/94 - 0s - loss: 3.6893 - accuracy: 0.8680\n",
            "Testing Accuracy:  0.8680\n"
          ]
        }
      ]
    },
    {
      "cell_type": "code",
      "metadata": {
        "colab": {
          "base_uri": "https://localhost:8080/"
        },
        "id": "FI6m_a8Nc0_f",
        "outputId": "41c9b602-c828-4d69-a6c6-f4a79fa304d0"
      },
      "source": [
        "from sklearn.metrics import f1_score, precision_score, recall_score, confusion_matrix\n",
        "y_pred1 = model.predict(X_test)\n",
        "y_pred = np.argmax(y_pred1, axis=1)\n",
        "\n",
        "# Print f1, precision, and recall scores\n",
        "print('Precision = ', precision_score(y_test, y_pred , average=\"macro\"))\n",
        "print('Recall = ', recall_score(y_test, y_pred , average=\"macro\"))\n",
        "print('F1 Score = ', f1_score(y_test, y_pred , average=\"macro\"))"
      ],
      "id": "FI6m_a8Nc0_f",
      "execution_count": 180,
      "outputs": [
        {
          "output_type": "stream",
          "name": "stdout",
          "text": [
            "Precision =  0.43816666666666665\n",
            "Recall =  0.5\n",
            "F1 Score =  0.46704565642209983\n"
          ]
        },
        {
          "output_type": "stream",
          "name": "stderr",
          "text": [
            "/usr/local/lib/python3.7/dist-packages/sklearn/metrics/_classification.py:1272: UndefinedMetricWarning: Precision is ill-defined and being set to 0.0 in labels with no predicted samples. Use `zero_division` parameter to control this behavior.\n",
            "  _warn_prf(average, modifier, msg_start, len(result))\n"
          ]
        }
      ]
    },
    {
      "cell_type": "code",
      "metadata": {
        "colab": {
          "base_uri": "https://localhost:8080/"
        },
        "id": "Pazy6vVWwhzB",
        "outputId": "2081d6f8-e2d3-479c-fd3a-88a88ba4735e"
      },
      "source": [
        "# q = np.array(y_train)\n",
        "# print(q[-1])\n",
        "# print(y_pred[-1])\n",
        "y_test"
      ],
      "id": "Pazy6vVWwhzB",
      "execution_count": 179,
      "outputs": [
        {
          "output_type": "execute_result",
          "data": {
            "text/plain": [
              "4122    0\n",
              "4065    0\n",
              "1731    0\n",
              "4740    0\n",
              "6391    0\n",
              "       ..\n",
              "5580    0\n",
              "1074    0\n",
              "3063    0\n",
              "4554    0\n",
              "3616    1\n",
              "Name: label, Length: 3000, dtype: int64"
            ]
          },
          "metadata": {},
          "execution_count": 179
        }
      ]
    },
    {
      "cell_type": "code",
      "metadata": {
        "colab": {
          "base_uri": "https://localhost:8080/"
        },
        "id": "82a314bc",
        "outputId": "20daeb37-e1df-4329-aad1-d519dedef4ef"
      },
      "source": [
        "# MODEL 2\n",
        "from keras.models import Sequential\n",
        "from keras import layers\n",
        "\n",
        "embedding_dim = 50\n",
        "\n",
        "model = Sequential()\n",
        "model.add(layers.Embedding(input_dim=vocab_size, \n",
        "                           output_dim=embedding_dim, \n",
        "                           input_length=maxlen))\n",
        "model.add(layers.GlobalMaxPool1D())\n",
        "model.add(layers.Dense(10, activation='relu'))\n",
        "model.add(layers.Dense(1, activation='sigmoid'))\n",
        "model.compile(optimizer='adam',\n",
        "              loss='binary_crossentropy',\n",
        "              metrics=['accuracy'])\n",
        "model.summary()"
      ],
      "id": "82a314bc",
      "execution_count": 83,
      "outputs": [
        {
          "output_type": "stream",
          "name": "stdout",
          "text": [
            "Model: \"sequential_8\"\n",
            "_________________________________________________________________\n",
            "Layer (type)                 Output Shape              Param #   \n",
            "=================================================================\n",
            "embedding_5 (Embedding)      (None, 300, 50)           257550    \n",
            "_________________________________________________________________\n",
            "global_max_pooling1d_2 (Glob (None, 50)                0         \n",
            "_________________________________________________________________\n",
            "dense_11 (Dense)             (None, 10)                510       \n",
            "_________________________________________________________________\n",
            "dense_12 (Dense)             (None, 1)                 11        \n",
            "=================================================================\n",
            "Total params: 258,071\n",
            "Trainable params: 258,071\n",
            "Non-trainable params: 0\n",
            "_________________________________________________________________\n"
          ]
        }
      ]
    },
    {
      "cell_type": "code",
      "metadata": {
        "colab": {
          "base_uri": "https://localhost:8080/"
        },
        "id": "3940854b",
        "outputId": "933489c5-06e5-45dc-d173-87a599a571ac"
      },
      "source": [
        "history = model.fit(X_train, y_train,\n",
        "                    epochs=50,\n",
        "                    class_weight= class_weight,\n",
        "                    verbose=2,\n",
        "                    validation_data=(X_test, y_test),\n",
        "                    batch_size=10)\n",
        "loss, accuracy = model.evaluate(X_train, y_train, verbose=2)\n",
        "print(\"Training Accuracy: {:.4f}\".format(accuracy))\n",
        "loss, accuracy = model.evaluate(X_test, y_test, verbose=2)\n",
        "print(\"Testing Accuracy:  {:.4f}\".format(accuracy))\n",
        "#plot_history(history)"
      ],
      "id": "3940854b",
      "execution_count": 84,
      "outputs": [
        {
          "output_type": "stream",
          "name": "stdout",
          "text": [
            "Training Accuracy: 0.9986\n",
            "Testing Accuracy:  0.8733\n"
          ]
        }
      ]
    },
    {
      "cell_type": "code",
      "metadata": {
        "colab": {
          "base_uri": "https://localhost:8080/"
        },
        "id": "pKMwemiLhHCB",
        "outputId": "07e52517-4cf3-4a99-bd5b-d105f48e399a"
      },
      "source": [
        "from sklearn.metrics import f1_score, precision_score, recall_score, confusion_matrix\n",
        "y_pred1 = model.predict(X_test)\n",
        "y_pred = np.argmax(y_pred1, axis=1)\n",
        "\n",
        "# Print f1, precision, and recall scores\n",
        "#print('Precision = ', precision_score(y_test, y_pred , average=\"macro\"))\n",
        "print('Recall = ', recall_score(y_test, y_pred , average=\"macro\"))\n",
        "print('F1 Score = ', f1_score(y_test, y_pred , average=\"macro\"))"
      ],
      "id": "pKMwemiLhHCB",
      "execution_count": 86,
      "outputs": [
        {
          "output_type": "stream",
          "name": "stdout",
          "text": [
            "Recall =  0.5\n",
            "F1 Score =  0.46704565642209983\n"
          ]
        }
      ]
    },
    {
      "cell_type": "code",
      "metadata": {
        "colab": {
          "base_uri": "https://localhost:8080/"
        },
        "id": "qw5lv8AHp4Xk",
        "outputId": "f21be830-a22c-4bf0-a62d-8852dbf2dc1e"
      },
      "source": [
        "set(y_test) - set(y_pred)"
      ],
      "id": "qw5lv8AHp4Xk",
      "execution_count": 87,
      "outputs": [
        {
          "output_type": "execute_result",
          "data": {
            "text/plain": [
              "{1}"
            ]
          },
          "metadata": {},
          "execution_count": 87
        }
      ]
    },
    {
      "cell_type": "code",
      "metadata": {
        "colab": {
          "base_uri": "https://localhost:8080/"
        },
        "id": "6c03fff9",
        "outputId": "1bef2dcb-265b-4358-810c-dc4869c549bb"
      },
      "source": [
        "# CNN\n",
        "\n",
        "embedding_dim = 100\n",
        "\n",
        "model = Sequential()\n",
        "model.add(layers.Embedding(vocab_size, embedding_dim, input_length=maxlen))\n",
        "model.add(layers.Conv1D(128, 5, activation='relu'))\n",
        "model.add(layers.GlobalMaxPooling1D())\n",
        "model.add(layers.Dense(10, activation='relu'))\n",
        "model.add(layers.Dense(1, activation='sigmoid'))\n",
        "model.compile(optimizer='adam',\n",
        "              loss='binary_crossentropy',\n",
        "              metrics=['accuracy'])\n",
        "model.summary()"
      ],
      "id": "6c03fff9",
      "execution_count": 60,
      "outputs": [
        {
          "output_type": "stream",
          "name": "stdout",
          "text": [
            "Model: \"sequential_5\"\n",
            "_________________________________________________________________\n",
            "Layer (type)                 Output Shape              Param #   \n",
            "=================================================================\n",
            "embedding_2 (Embedding)      (None, 300, 100)          515100    \n",
            "_________________________________________________________________\n",
            "conv1d (Conv1D)              (None, 296, 128)          64128     \n",
            "_________________________________________________________________\n",
            "global_max_pooling1d_1 (Glob (None, 128)               0         \n",
            "_________________________________________________________________\n",
            "dense_6 (Dense)              (None, 10)                1290      \n",
            "_________________________________________________________________\n",
            "dense_7 (Dense)              (None, 1)                 11        \n",
            "=================================================================\n",
            "Total params: 580,529\n",
            "Trainable params: 580,529\n",
            "Non-trainable params: 0\n",
            "_________________________________________________________________\n"
          ]
        }
      ]
    },
    {
      "cell_type": "code",
      "metadata": {
        "colab": {
          "base_uri": "https://localhost:8080/"
        },
        "id": "e7adc077",
        "outputId": "82ad6691-d7e0-4a23-e7cf-d6161ca54e73"
      },
      "source": [
        "history = model.fit(X_train, y_train,\n",
        "                    epochs=10,\n",
        "                    verbose=2,\n",
        "                    validation_data=(X_test, y_test),\n",
        "                    batch_size=10)\n",
        "loss, accuracy = model.evaluate(X_train, y_train, verbose=2)\n",
        "print(\"Training Accuracy: {:.4f}\".format(accuracy))\n",
        "loss, accuracy = model.evaluate(X_test, y_test, verbose=2)\n",
        "print(\"Testing Accuracy:  {:.4f}\".format(accuracy))"
      ],
      "id": "e7adc077",
      "execution_count": 61,
      "outputs": [
        {
          "output_type": "stream",
          "name": "stdout",
          "text": [
            "Training Accuracy: 0.9980\n",
            "Testing Accuracy:  0.8787\n"
          ]
        }
      ]
    },
    {
      "cell_type": "code",
      "metadata": {
        "colab": {
          "base_uri": "https://localhost:8080/"
        },
        "id": "U7C8KaYghXWD",
        "outputId": "8b6b4ed2-3bbe-4de1-be03-497ca6ffd196"
      },
      "source": [
        "from sklearn.metrics import f1_score, precision_score, recall_score, confusion_matrix\n",
        "y_pred1 = model.predict(X_test)\n",
        "y_pred = np.argmax(y_pred1, axis=1)\n",
        "\n",
        "# Print f1, precision, and recall scores\n",
        "print('Precision = ', precision_score(y_test, y_pred , average=\"macro\"))\n",
        "print('Recall = ', recall_score(y_test, y_pred , average=\"macro\"))\n",
        "print('F1 Score = ', f1_score(y_test, y_pred , average=\"macro\"))"
      ],
      "id": "U7C8KaYghXWD",
      "execution_count": 62,
      "outputs": [
        {
          "output_type": "stream",
          "name": "stdout",
          "text": [
            "Precision =  0.43816666666666665\n",
            "Recall =  0.5\n",
            "F1 Score =  0.46704565642209983\n"
          ]
        },
        {
          "output_type": "stream",
          "name": "stderr",
          "text": [
            "/usr/local/lib/python3.7/dist-packages/sklearn/metrics/_classification.py:1272: UndefinedMetricWarning: Precision is ill-defined and being set to 0.0 in labels with no predicted samples. Use `zero_division` parameter to control this behavior.\n",
            "  _warn_prf(average, modifier, msg_start, len(result))\n"
          ]
        }
      ]
    },
    {
      "cell_type": "code",
      "metadata": {
        "id": "3a35ef65"
      },
      "source": [
        "# # Metrics for the model\n",
        "# from sklearn.metrics import accuracy_score\n",
        "# from sklearn.metrics import precision_score\n",
        "# from sklearn.metrics import recall_score\n",
        "# from sklearn.metrics import f1_score\n",
        "# from sklearn.metrics import cohen_kappa_score\n",
        "# from sklearn.metrics import roc_auc_score\n",
        "# from sklearn.metrics import confusion_matrix\n",
        "\n",
        "# # predict probabilities for test set\n",
        "# yhat_probs = model.predict(X_test, verbose=2)\n",
        "# # predict crisp classes for test set\n",
        "# yhat_classes = model.predict_classes(X_test, verbose=2)\n",
        "\n",
        "# # reduce to 1d array\n",
        "# yhat_probs = yhat_probs[:, 0]\n",
        "# yhat_classes = yhat_classes[:, 0]\n",
        "\n",
        "# # accuracy: (tp + tn) / (p + n)\n",
        "# accuracy = accuracy_score(y_test, yhat_classes)\n",
        "# print('Accuracy: %f' % accuracy)\n",
        "# # precision tp / (tp + fp)\n",
        "# precision = precision_score(y_test, yhat_classes)\n",
        "# print('Precision: %f' % precision)\n",
        "# # recall: tp / (tp + fn)\n",
        "# recall = recall_score(y_test, yhat_classes)\n",
        "# print('Recall: %f' % recall)\n",
        "# # f1: 2 tp / (2 tp + fp + fn)\n",
        "# f1 = f1_score(y_test, yhat_classes)\n",
        "# print('F1 score: %f' % f1)"
      ],
      "id": "3a35ef65",
      "execution_count": 63,
      "outputs": []
    },
    {
      "cell_type": "code",
      "metadata": {
        "id": "13f685b4"
      },
      "source": [
        "####################### FastText #######################"
      ],
      "id": "13f685b4",
      "execution_count": 64,
      "outputs": []
    },
    {
      "cell_type": "code",
      "metadata": {
        "id": "ccf1d18c"
      },
      "source": [
        "from __future__ import print_function\n",
        "import numpy as np\n",
        "\n",
        "from keras.preprocessing import sequence\n",
        "from keras.models import Sequential\n",
        "from keras.layers import Dense\n",
        "from keras.layers import Embedding\n",
        "from keras.layers import GlobalAveragePooling1D\n",
        "from keras.datasets import imdb\n",
        "\n",
        "\n",
        "def create_ngram_set(input_list, ngram_value=2):\n",
        "    \"\"\"\n",
        "    Extract a set of n-grams from a list of integers.\n",
        "\n",
        "    >>> create_ngram_set([1, 4, 9, 4, 1, 4], ngram_value=2)\n",
        "    {(4, 9), (4, 1), (1, 4), (9, 4)}\n",
        "\n",
        "    >>> create_ngram_set([1, 4, 9, 4, 1, 4], ngram_value=3)\n",
        "    [(1, 4, 9), (4, 9, 4), (9, 4, 1), (4, 1, 4)]\n",
        "    \"\"\"\n",
        "    return set(zip(*[input_list[i:] for i in range(ngram_value)]))\n",
        "\n",
        "\n",
        "def add_ngram(sequences, token_indice, ngram_range=2):\n",
        "    \"\"\"\n",
        "    Augment the input list of list (sequences) by appending n-grams values.\n",
        "\n",
        "    Example: adding bi-gram\n",
        "    >>> sequences = [[1, 3, 4, 5], [1, 3, 7, 9, 2]]\n",
        "    >>> token_indice = {(1, 3): 1337, (9, 2): 42, (4, 5): 2017}\n",
        "    >>> add_ngram(sequences, token_indice, ngram_range=2)\n",
        "    [[1, 3, 4, 5, 1337, 2017], [1, 3, 7, 9, 2, 1337, 42]]\n",
        "\n",
        "    Example: adding tri-gram\n",
        "    >>> sequences = [[1, 3, 4, 5], [1, 3, 7, 9, 2]]\n",
        "    >>> token_indice = {(1, 3): 1337, (9, 2): 42, (4, 5): 2017, (7, 9, 2): 2018}\n",
        "    >>> add_ngram(sequences, token_indice, ngram_range=3)\n",
        "    [[1, 3, 4, 5, 1337, 2017], [1, 3, 7, 9, 2, 1337, 42, 2018]]\n",
        "    \"\"\"\n",
        "    new_sequences = []\n",
        "    for input_list in sequences:\n",
        "        new_list = input_list[:]\n",
        "        for ngram_value in range(2, ngram_range + 1):\n",
        "            for i in range(len(new_list) - ngram_value + 1):\n",
        "                ngram = tuple(new_list[i:i + ngram_value])\n",
        "                if ngram in token_indice:\n",
        "                    new_list.append(token_indice[ngram])\n",
        "        new_sequences.append(new_list)\n",
        "\n",
        "    return new_sequences\n",
        "\n",
        "# Set parameters:\n",
        "# ngram_range = 2 will add bi-grams features\n",
        "ngram_range = 2\n",
        "max_features = 20000\n",
        "maxlen = 400\n",
        "batch_size = 32\n",
        "embedding_dims = 50\n",
        "epochs = 5"
      ],
      "id": "ccf1d18c",
      "execution_count": 65,
      "outputs": []
    },
    {
      "cell_type": "code",
      "metadata": {
        "colab": {
          "base_uri": "https://localhost:8080/"
        },
        "id": "3437e81b",
        "outputId": "bd6004cc-3515-4bb1-9659-e0f68631c03e"
      },
      "source": [
        "if ngram_range > 1:\n",
        "    print('Adding {}-gram features'.format(ngram_range))\n",
        "    # Create set of unique n-gram from the training set.\n",
        "    ngram_set = set()\n",
        "    \n",
        "    xtrain_lst =  X_train.tolist()\n",
        "    xtest_lst =  X_test.tolist()\n",
        "    \n",
        "    for input_list in xtrain_lst:\n",
        "        for i in range(2, ngram_range + 1):\n",
        "            set_of_ngram = create_ngram_set(input_list, ngram_value=i)\n",
        "            ngram_set.update(set_of_ngram)\n",
        "\n",
        "    # Dictionary mapping n-gram token to a unique integer.\n",
        "    # Integer values are greater than max_features in order\n",
        "    # to avoid collision with existing features.\n",
        "    start_index = max_features + 1\n",
        "    token_indice = {v: k + start_index for k, v in enumerate(ngram_set)}\n",
        "    indice_token = {token_indice[k]: k for k in token_indice}\n",
        "\n",
        "    # max_features is the highest integer that could be found in the dataset.\n",
        "    max_features = np.max(list(indice_token.keys())) + 1\n",
        "\n",
        "    # Augmenting x_train and x_test with n-grams features\n",
        "    x_train = add_ngram(xtrain_lst, token_indice, ngram_range)\n",
        "    x_test = add_ngram(xtest_lst, token_indice, ngram_range)\n",
        "    #print('Average train sequence length: {}'.format(\n",
        "    #    np.mean(list(map(len, x_train)), dtype=int)))\n",
        "    #print('Average test sequence length: {}'.format(\n",
        "    #    np.mean(list(map(len, x_test)), dtype=int)))\n",
        "\n",
        "print('Pad sequences (samples x time)')\n",
        "X_train = sequence.pad_sequences(x_train, maxlen=maxlen)\n",
        "X_test = sequence.pad_sequences(x_test, maxlen=maxlen)\n",
        "#print('x_train shape:', x_train.shape)\n",
        "#print('x_test shape:', x_test.shape)"
      ],
      "id": "3437e81b",
      "execution_count": 66,
      "outputs": [
        {
          "output_type": "stream",
          "name": "stdout",
          "text": [
            "Adding 2-gram features\n",
            "Pad sequences (samples x time)\n"
          ]
        }
      ]
    },
    {
      "cell_type": "code",
      "metadata": {
        "colab": {
          "base_uri": "https://localhost:8080/"
        },
        "id": "42c4379d",
        "outputId": "7f79b166-ed11-4ef3-b499-62644181c111"
      },
      "source": [
        "model = Sequential()\n",
        "\n",
        "model.add(Embedding(max_features,\n",
        "                    embedding_dims,\n",
        "                    input_length=maxlen))\n",
        "\n",
        "model.add(GlobalAveragePooling1D())\n",
        "model.add(Dense(1, activation='sigmoid'))\n",
        "model.compile(loss='binary_crossentropy',\n",
        "              optimizer='adam',\n",
        "              metrics=['accuracy'])\n",
        "\n",
        "model.summary()"
      ],
      "id": "42c4379d",
      "execution_count": 67,
      "outputs": [
        {
          "output_type": "stream",
          "name": "stdout",
          "text": [
            "Model: \"sequential_6\"\n",
            "_________________________________________________________________\n",
            "Layer (type)                 Output Shape              Param #   \n",
            "=================================================================\n",
            "embedding_3 (Embedding)      (None, 400, 50)           2693200   \n",
            "_________________________________________________________________\n",
            "global_average_pooling1d (Gl (None, 50)                0         \n",
            "_________________________________________________________________\n",
            "dense_8 (Dense)              (None, 1)                 51        \n",
            "=================================================================\n",
            "Total params: 2,693,251\n",
            "Trainable params: 2,693,251\n",
            "Non-trainable params: 0\n",
            "_________________________________________________________________\n"
          ]
        }
      ]
    },
    {
      "cell_type": "code",
      "metadata": {
        "colab": {
          "base_uri": "https://localhost:8080/"
        },
        "id": "814bd2e3",
        "outputId": "23518ef4-86b3-48e1-d1f6-cccd245c1951"
      },
      "source": [
        "history = model.fit(X_train, y_train,\n",
        "          batch_size=batch_size,\n",
        "          epochs=epochs,\n",
        "          verbose=2,\n",
        "          validation_data=(X_test, y_test))\n",
        "\n",
        "loss, accuracy = model.evaluate(X_train, y_train, verbose=2)\n",
        "print(\"Training Accuracy: {:.4f}\".format(accuracy))\n",
        "loss, accuracy = model.evaluate(X_test, y_test, verbose=2)\n",
        "print(\"Testing Accuracy:  {:.4f}\".format(accuracy))"
      ],
      "id": "814bd2e3",
      "execution_count": 68,
      "outputs": [
        {
          "output_type": "stream",
          "name": "stdout",
          "text": [
            "Training Accuracy: 0.8803\n",
            "Testing Accuracy:  0.8763\n"
          ]
        }
      ]
    },
    {
      "cell_type": "code",
      "metadata": {
        "colab": {
          "base_uri": "https://localhost:8080/"
        },
        "id": "90afa9d5",
        "outputId": "31f32fb5-5e96-4889-8321-9179829b91b1"
      },
      "source": [
        "from sklearn.metrics import f1_score, precision_score, recall_score, confusion_matrix\n",
        "y_pred1 = model.predict(X_test)\n",
        "y_pred = np.argmax(y_pred1, axis=1)\n",
        "\n",
        "# Print f1, precision, and recall scores\n",
        "print('Precision = ', precision_score(y_test, y_pred , average=\"macro\"))\n",
        "print('Recall = ', recall_score(y_test, y_pred , average=\"macro\"))\n",
        "print('F1 Score = ', f1_score(y_test, y_pred , average=\"macro\"))"
      ],
      "id": "90afa9d5",
      "execution_count": 69,
      "outputs": [
        {
          "output_type": "stream",
          "name": "stdout",
          "text": [
            "Precision =  0.43816666666666665\n",
            "Recall =  0.5\n",
            "F1 Score =  0.46704565642209983\n"
          ]
        },
        {
          "output_type": "stream",
          "name": "stderr",
          "text": [
            "/usr/local/lib/python3.7/dist-packages/sklearn/metrics/_classification.py:1272: UndefinedMetricWarning: Precision is ill-defined and being set to 0.0 in labels with no predicted samples. Use `zero_division` parameter to control this behavior.\n",
            "  _warn_prf(average, modifier, msg_start, len(result))\n"
          ]
        }
      ]
    },
    {
      "cell_type": "markdown",
      "metadata": {
        "id": "2adea123"
      },
      "source": [
        "*****************************************************************************************************\n",
        "*****************************************************************************************************\n",
        "*****************************************************************************************************"
      ],
      "id": "2adea123"
    },
    {
      "cell_type": "markdown",
      "metadata": {
        "id": "5357bf8c"
      },
      "source": [
        "5. Run sate-of-the-art practices BERT model, example  BERT-base-uncased and BERT-multilingual, report both model Accuracy and F1 score. Scripts available on GitHub page https://github.com/saroarjahan/Negation_project/ . Student are open to experimenting with other BERT models, for example, BERT related specifically to hate. Different BERT models can be found here https://huggingface.co/models ."
      ],
      "id": "5357bf8c"
    },
    {
      "cell_type": "code",
      "metadata": {
        "colab": {
          "base_uri": "https://localhost:8080/"
        },
        "id": "f68c45d6",
        "outputId": "897d6d24-668e-4b65-ed94-2e02985b6c5f"
      },
      "source": [
        "set(y_test) - set(y_pred)"
      ],
      "id": "f68c45d6",
      "execution_count": 70,
      "outputs": [
        {
          "output_type": "execute_result",
          "data": {
            "text/plain": [
              "{1}"
            ]
          },
          "metadata": {},
          "execution_count": 70
        }
      ]
    },
    {
      "cell_type": "code",
      "metadata": {
        "id": "ffba5afc"
      },
      "source": [
        ""
      ],
      "id": "ffba5afc",
      "execution_count": 69,
      "outputs": []
    },
    {
      "cell_type": "code",
      "metadata": {
        "id": "4287fc4b"
      },
      "source": [
        ""
      ],
      "id": "4287fc4b",
      "execution_count": 69,
      "outputs": []
    },
    {
      "cell_type": "code",
      "metadata": {
        "id": "51d6eef5"
      },
      "source": [
        ""
      ],
      "id": "51d6eef5",
      "execution_count": 69,
      "outputs": []
    },
    {
      "cell_type": "code",
      "metadata": {
        "id": "dd60b6ae"
      },
      "source": [
        ""
      ],
      "id": "dd60b6ae",
      "execution_count": 69,
      "outputs": []
    },
    {
      "cell_type": "code",
      "metadata": {
        "id": "27eadfe6"
      },
      "source": [
        ""
      ],
      "id": "27eadfe6",
      "execution_count": 69,
      "outputs": []
    },
    {
      "cell_type": "code",
      "metadata": {
        "id": "cba637fd"
      },
      "source": [
        ""
      ],
      "id": "cba637fd",
      "execution_count": 69,
      "outputs": []
    },
    {
      "cell_type": "code",
      "metadata": {
        "id": "ae7d79d3"
      },
      "source": [
        ""
      ],
      "id": "ae7d79d3",
      "execution_count": 69,
      "outputs": []
    },
    {
      "cell_type": "code",
      "metadata": {
        "id": "fc519a94"
      },
      "source": [
        ""
      ],
      "id": "fc519a94",
      "execution_count": 69,
      "outputs": []
    },
    {
      "cell_type": "code",
      "metadata": {
        "id": "578bf1f0"
      },
      "source": [
        ""
      ],
      "id": "578bf1f0",
      "execution_count": 69,
      "outputs": []
    },
    {
      "cell_type": "code",
      "metadata": {
        "id": "f09ec596"
      },
      "source": [
        ""
      ],
      "id": "f09ec596",
      "execution_count": 69,
      "outputs": []
    },
    {
      "cell_type": "code",
      "metadata": {
        "id": "bb1abdaf"
      },
      "source": [
        ""
      ],
      "id": "bb1abdaf",
      "execution_count": 69,
      "outputs": []
    },
    {
      "cell_type": "code",
      "metadata": {
        "id": "c494bba5"
      },
      "source": [
        ""
      ],
      "id": "c494bba5",
      "execution_count": 69,
      "outputs": []
    },
    {
      "cell_type": "code",
      "metadata": {
        "id": "8bfdd9de"
      },
      "source": [
        ""
      ],
      "id": "8bfdd9de",
      "execution_count": 69,
      "outputs": []
    },
    {
      "cell_type": "code",
      "metadata": {
        "id": "9009b9b2"
      },
      "source": [
        ""
      ],
      "id": "9009b9b2",
      "execution_count": 69,
      "outputs": []
    },
    {
      "cell_type": "code",
      "metadata": {
        "id": "977fa144"
      },
      "source": [
        ""
      ],
      "id": "977fa144",
      "execution_count": 69,
      "outputs": []
    },
    {
      "cell_type": "code",
      "metadata": {
        "id": "136cf1a0"
      },
      "source": [
        ""
      ],
      "id": "136cf1a0",
      "execution_count": 69,
      "outputs": []
    },
    {
      "cell_type": "code",
      "metadata": {
        "id": "7a92e564"
      },
      "source": [
        ""
      ],
      "id": "7a92e564",
      "execution_count": 69,
      "outputs": []
    },
    {
      "cell_type": "code",
      "metadata": {
        "id": "fdf5e4e0"
      },
      "source": [
        ""
      ],
      "id": "fdf5e4e0",
      "execution_count": 69,
      "outputs": []
    },
    {
      "cell_type": "code",
      "metadata": {
        "id": "fb25180c"
      },
      "source": [
        ""
      ],
      "id": "fb25180c",
      "execution_count": 69,
      "outputs": []
    },
    {
      "cell_type": "code",
      "metadata": {
        "id": "c52e19f5"
      },
      "source": [
        ""
      ],
      "id": "c52e19f5",
      "execution_count": 69,
      "outputs": []
    },
    {
      "cell_type": "code",
      "metadata": {
        "id": "802e4ba4"
      },
      "source": [
        ""
      ],
      "id": "802e4ba4",
      "execution_count": 69,
      "outputs": []
    },
    {
      "cell_type": "code",
      "metadata": {
        "id": "69dec256"
      },
      "source": [
        ""
      ],
      "id": "69dec256",
      "execution_count": 69,
      "outputs": []
    },
    {
      "cell_type": "code",
      "metadata": {
        "id": "63c53f42"
      },
      "source": [
        ""
      ],
      "id": "63c53f42",
      "execution_count": 69,
      "outputs": []
    },
    {
      "cell_type": "code",
      "metadata": {
        "id": "038e5b6e"
      },
      "source": [
        ""
      ],
      "id": "038e5b6e",
      "execution_count": 69,
      "outputs": []
    },
    {
      "cell_type": "code",
      "metadata": {
        "id": "fae1e881"
      },
      "source": [
        ""
      ],
      "id": "fae1e881",
      "execution_count": 69,
      "outputs": []
    },
    {
      "cell_type": "code",
      "metadata": {
        "id": "4dfc60b0"
      },
      "source": [
        ""
      ],
      "id": "4dfc60b0",
      "execution_count": 69,
      "outputs": []
    },
    {
      "cell_type": "code",
      "metadata": {
        "id": "f5fa0a86"
      },
      "source": [
        ""
      ],
      "id": "f5fa0a86",
      "execution_count": 69,
      "outputs": []
    },
    {
      "cell_type": "code",
      "metadata": {
        "id": "7819997e"
      },
      "source": [
        ""
      ],
      "id": "7819997e",
      "execution_count": 69,
      "outputs": []
    },
    {
      "cell_type": "code",
      "metadata": {
        "id": "27a93cf4"
      },
      "source": [
        ""
      ],
      "id": "27a93cf4",
      "execution_count": 69,
      "outputs": []
    },
    {
      "cell_type": "code",
      "metadata": {
        "id": "db9e5a9e"
      },
      "source": [
        ""
      ],
      "id": "db9e5a9e",
      "execution_count": 69,
      "outputs": []
    },
    {
      "cell_type": "code",
      "metadata": {
        "id": "1630c452"
      },
      "source": [
        ""
      ],
      "id": "1630c452",
      "execution_count": 69,
      "outputs": []
    },
    {
      "cell_type": "code",
      "metadata": {
        "id": "6e8652e5"
      },
      "source": [
        ""
      ],
      "id": "6e8652e5",
      "execution_count": 69,
      "outputs": []
    },
    {
      "cell_type": "code",
      "metadata": {
        "id": "4ace1a75"
      },
      "source": [
        ""
      ],
      "id": "4ace1a75",
      "execution_count": 69,
      "outputs": []
    },
    {
      "cell_type": "code",
      "metadata": {
        "id": "ad6ce334"
      },
      "source": [
        ""
      ],
      "id": "ad6ce334",
      "execution_count": 69,
      "outputs": []
    },
    {
      "cell_type": "code",
      "metadata": {
        "id": "a0a96b45"
      },
      "source": [
        ""
      ],
      "id": "a0a96b45",
      "execution_count": 69,
      "outputs": []
    },
    {
      "cell_type": "code",
      "metadata": {
        "id": "3f219a78"
      },
      "source": [
        ""
      ],
      "id": "3f219a78",
      "execution_count": 69,
      "outputs": []
    },
    {
      "cell_type": "code",
      "metadata": {
        "id": "d5da6614"
      },
      "source": [
        ""
      ],
      "id": "d5da6614",
      "execution_count": 69,
      "outputs": []
    },
    {
      "cell_type": "code",
      "metadata": {
        "id": "f8bf8627"
      },
      "source": [
        ""
      ],
      "id": "f8bf8627",
      "execution_count": 69,
      "outputs": []
    },
    {
      "cell_type": "code",
      "metadata": {
        "id": "5dfc819c"
      },
      "source": [
        ""
      ],
      "id": "5dfc819c",
      "execution_count": 69,
      "outputs": []
    },
    {
      "cell_type": "code",
      "metadata": {
        "id": "a5666935"
      },
      "source": [
        ""
      ],
      "id": "a5666935",
      "execution_count": 69,
      "outputs": []
    },
    {
      "cell_type": "markdown",
      "metadata": {
        "id": "8d52a4e3"
      },
      "source": [
        "6. We would like to test the above 4,5 implementation at least for two different datasets. Students are welcome to experiment with more datasets. Try to explain your result of Accuracy and F1 score for the above experiment for 4, 5, which are mainly LR+tf-idf, CNN+fastText, BERT-base-uncased and BERT-multilingual."
      ],
      "id": "8d52a4e3"
    },
    {
      "cell_type": "code",
      "metadata": {
        "id": "64a1f7c0"
      },
      "source": [
        ""
      ],
      "id": "64a1f7c0",
      "execution_count": 69,
      "outputs": []
    },
    {
      "cell_type": "markdown",
      "metadata": {
        "id": "1134c29e"
      },
      "source": [
        "7. Negation dataset generation: In this part, students perform negation dataset generation of the previous training dataset. A possible negation detection and augmentation algorithm could be as: Load a sentence. First, perform negation findings by using NegEx. If there is negation contained, then perform PoS Tagging on the word. Every time check if the word belongs to one of the verb forms or adjective forms, then perform either adding antonym instead of it, or add negation before it (with different forms of negations and stemming if it is a verb), or pass the word doing nothing, or remove the negation from the word. For example, the sentence, \"Alex does not like Steve Jobs\". The algorithm will first be analyzed by NegEx and will find the negation part \"not Like\" in the sentence. It will then perform the PoS tagging and check if the \"like\" word has any antonym by using python library WordNet with NLTK. Since the \"like\" word has antonyms, it will be replaced by \"hate,\" and the result would be, \"Alex does not hate Steve job.\" If NLTK library fails to produce antonym, then the negation part will be removed. In that case, the output result would be \"Alex does like Steve Jobs.\" Remember, if negation is performed, there might need to change the annotation of the posts. Students are very welcome to propose a new algorithm for negation detection and negated dataset generation."
      ],
      "id": "1134c29e"
    },
    {
      "cell_type": "code",
      "metadata": {
        "id": "c5c9ccd1"
      },
      "source": [
        ""
      ],
      "id": "c5c9ccd1",
      "execution_count": 69,
      "outputs": []
    },
    {
      "cell_type": "markdown",
      "metadata": {
        "id": "5acd0e94"
      },
      "source": [
        "8. After negation dataset generation, merge the negated dataset and previous training dataset together and apply 4,5 and report the Accuracy and F1 scores. Compare the score before and after negation."
      ],
      "id": "5acd0e94"
    },
    {
      "cell_type": "code",
      "metadata": {
        "id": "e62a2818"
      },
      "source": [
        ""
      ],
      "id": "e62a2818",
      "execution_count": 69,
      "outputs": []
    },
    {
      "cell_type": "markdown",
      "metadata": {
        "id": "8658f91e"
      },
      "source": [
        "9. Suggest a GUI of your own that allows us to exemplify the different steps above."
      ],
      "id": "8658f91e"
    },
    {
      "cell_type": "code",
      "metadata": {
        "id": "43ab6da3"
      },
      "source": [
        ""
      ],
      "id": "43ab6da3",
      "execution_count": 69,
      "outputs": []
    }
  ]
}