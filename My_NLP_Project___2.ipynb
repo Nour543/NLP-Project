{
  "nbformat": 4,
  "nbformat_minor": 5,
  "metadata": {
    "colab": {
      "name": " My NLP Project _ 2.ipynb",
      "provenance": [],
      "collapsed_sections": [],
      "include_colab_link": true
    },
    "kernelspec": {
      "display_name": "Python 3 (ipykernel)",
      "language": "python",
      "name": "python3"
    },
    "language_info": {
      "codemirror_mode": {
        "name": "ipython",
        "version": 3
      },
      "file_extension": ".py",
      "mimetype": "text/x-python",
      "name": "python",
      "nbconvert_exporter": "python",
      "pygments_lexer": "ipython3",
      "version": "3.8.12"
    },
    "widgets": {
      "application/vnd.jupyter.widget-state+json": {
        "1613ab0f835744c5a180799ca04689f2": {
          "model_module": "@jupyter-widgets/controls",
          "model_name": "HBoxModel",
          "model_module_version": "1.5.0",
          "state": {
            "_view_name": "HBoxView",
            "_dom_classes": [],
            "_model_name": "HBoxModel",
            "_view_module": "@jupyter-widgets/controls",
            "_model_module_version": "1.5.0",
            "_view_count": null,
            "_view_module_version": "1.5.0",
            "box_style": "",
            "layout": "IPY_MODEL_aadc13f14b484e4eb12c8ef6f50ec2c2",
            "_model_module": "@jupyter-widgets/controls",
            "children": [
              "IPY_MODEL_eb9af74017414bc385df263100f7a602",
              "IPY_MODEL_681c99a2f84e4262919b050e266554b4",
              "IPY_MODEL_dc7ac22d92e544b6a44717f6b33d84ee"
            ]
          }
        },
        "aadc13f14b484e4eb12c8ef6f50ec2c2": {
          "model_module": "@jupyter-widgets/base",
          "model_name": "LayoutModel",
          "model_module_version": "1.2.0",
          "state": {
            "_view_name": "LayoutView",
            "grid_template_rows": null,
            "right": null,
            "justify_content": null,
            "_view_module": "@jupyter-widgets/base",
            "overflow": null,
            "_model_module_version": "1.2.0",
            "_view_count": null,
            "flex_flow": null,
            "width": null,
            "min_width": null,
            "border": null,
            "align_items": null,
            "bottom": null,
            "_model_module": "@jupyter-widgets/base",
            "top": null,
            "grid_column": null,
            "overflow_y": null,
            "overflow_x": null,
            "grid_auto_flow": null,
            "grid_area": null,
            "grid_template_columns": null,
            "flex": null,
            "_model_name": "LayoutModel",
            "justify_items": null,
            "grid_row": null,
            "max_height": null,
            "align_content": null,
            "visibility": null,
            "align_self": null,
            "height": null,
            "min_height": null,
            "padding": null,
            "grid_auto_rows": null,
            "grid_gap": null,
            "max_width": null,
            "order": null,
            "_view_module_version": "1.2.0",
            "grid_template_areas": null,
            "object_position": null,
            "object_fit": null,
            "grid_auto_columns": null,
            "margin": null,
            "display": null,
            "left": null
          }
        },
        "eb9af74017414bc385df263100f7a602": {
          "model_module": "@jupyter-widgets/controls",
          "model_name": "HTMLModel",
          "model_module_version": "1.5.0",
          "state": {
            "_view_name": "HTMLView",
            "style": "IPY_MODEL_996ad73c06ee498686d6976b72da49d8",
            "_dom_classes": [],
            "description": "",
            "_model_name": "HTMLModel",
            "placeholder": "​",
            "_view_module": "@jupyter-widgets/controls",
            "_model_module_version": "1.5.0",
            "value": "Downloading: 100%",
            "_view_count": null,
            "_view_module_version": "1.5.0",
            "description_tooltip": null,
            "_model_module": "@jupyter-widgets/controls",
            "layout": "IPY_MODEL_17c9e22ee1c343b78a26d4f83520d1f6"
          }
        },
        "681c99a2f84e4262919b050e266554b4": {
          "model_module": "@jupyter-widgets/controls",
          "model_name": "FloatProgressModel",
          "model_module_version": "1.5.0",
          "state": {
            "_view_name": "ProgressView",
            "style": "IPY_MODEL_40b2146abfc04af89f07191815806983",
            "_dom_classes": [],
            "description": "",
            "_model_name": "FloatProgressModel",
            "bar_style": "success",
            "max": 871891,
            "_view_module": "@jupyter-widgets/controls",
            "_model_module_version": "1.5.0",
            "value": 871891,
            "_view_count": null,
            "_view_module_version": "1.5.0",
            "orientation": "horizontal",
            "min": 0,
            "description_tooltip": null,
            "_model_module": "@jupyter-widgets/controls",
            "layout": "IPY_MODEL_0a80c71afcf74945baf6b97f7f829e6d"
          }
        },
        "dc7ac22d92e544b6a44717f6b33d84ee": {
          "model_module": "@jupyter-widgets/controls",
          "model_name": "HTMLModel",
          "model_module_version": "1.5.0",
          "state": {
            "_view_name": "HTMLView",
            "style": "IPY_MODEL_60f701c09eb041a08ea6018fc78de7b3",
            "_dom_classes": [],
            "description": "",
            "_model_name": "HTMLModel",
            "placeholder": "​",
            "_view_module": "@jupyter-widgets/controls",
            "_model_module_version": "1.5.0",
            "value": " 851k/851k [00:00&lt;00:00, 2.02MB/s]",
            "_view_count": null,
            "_view_module_version": "1.5.0",
            "description_tooltip": null,
            "_model_module": "@jupyter-widgets/controls",
            "layout": "IPY_MODEL_4fbf6265b55b4f79a38302ca5fb7560e"
          }
        },
        "996ad73c06ee498686d6976b72da49d8": {
          "model_module": "@jupyter-widgets/controls",
          "model_name": "DescriptionStyleModel",
          "model_module_version": "1.5.0",
          "state": {
            "_view_name": "StyleView",
            "_model_name": "DescriptionStyleModel",
            "description_width": "",
            "_view_module": "@jupyter-widgets/base",
            "_model_module_version": "1.5.0",
            "_view_count": null,
            "_view_module_version": "1.2.0",
            "_model_module": "@jupyter-widgets/controls"
          }
        },
        "17c9e22ee1c343b78a26d4f83520d1f6": {
          "model_module": "@jupyter-widgets/base",
          "model_name": "LayoutModel",
          "model_module_version": "1.2.0",
          "state": {
            "_view_name": "LayoutView",
            "grid_template_rows": null,
            "right": null,
            "justify_content": null,
            "_view_module": "@jupyter-widgets/base",
            "overflow": null,
            "_model_module_version": "1.2.0",
            "_view_count": null,
            "flex_flow": null,
            "width": null,
            "min_width": null,
            "border": null,
            "align_items": null,
            "bottom": null,
            "_model_module": "@jupyter-widgets/base",
            "top": null,
            "grid_column": null,
            "overflow_y": null,
            "overflow_x": null,
            "grid_auto_flow": null,
            "grid_area": null,
            "grid_template_columns": null,
            "flex": null,
            "_model_name": "LayoutModel",
            "justify_items": null,
            "grid_row": null,
            "max_height": null,
            "align_content": null,
            "visibility": null,
            "align_self": null,
            "height": null,
            "min_height": null,
            "padding": null,
            "grid_auto_rows": null,
            "grid_gap": null,
            "max_width": null,
            "order": null,
            "_view_module_version": "1.2.0",
            "grid_template_areas": null,
            "object_position": null,
            "object_fit": null,
            "grid_auto_columns": null,
            "margin": null,
            "display": null,
            "left": null
          }
        },
        "40b2146abfc04af89f07191815806983": {
          "model_module": "@jupyter-widgets/controls",
          "model_name": "ProgressStyleModel",
          "model_module_version": "1.5.0",
          "state": {
            "_view_name": "StyleView",
            "_model_name": "ProgressStyleModel",
            "description_width": "",
            "_view_module": "@jupyter-widgets/base",
            "_model_module_version": "1.5.0",
            "_view_count": null,
            "_view_module_version": "1.2.0",
            "bar_color": null,
            "_model_module": "@jupyter-widgets/controls"
          }
        },
        "0a80c71afcf74945baf6b97f7f829e6d": {
          "model_module": "@jupyter-widgets/base",
          "model_name": "LayoutModel",
          "model_module_version": "1.2.0",
          "state": {
            "_view_name": "LayoutView",
            "grid_template_rows": null,
            "right": null,
            "justify_content": null,
            "_view_module": "@jupyter-widgets/base",
            "overflow": null,
            "_model_module_version": "1.2.0",
            "_view_count": null,
            "flex_flow": null,
            "width": null,
            "min_width": null,
            "border": null,
            "align_items": null,
            "bottom": null,
            "_model_module": "@jupyter-widgets/base",
            "top": null,
            "grid_column": null,
            "overflow_y": null,
            "overflow_x": null,
            "grid_auto_flow": null,
            "grid_area": null,
            "grid_template_columns": null,
            "flex": null,
            "_model_name": "LayoutModel",
            "justify_items": null,
            "grid_row": null,
            "max_height": null,
            "align_content": null,
            "visibility": null,
            "align_self": null,
            "height": null,
            "min_height": null,
            "padding": null,
            "grid_auto_rows": null,
            "grid_gap": null,
            "max_width": null,
            "order": null,
            "_view_module_version": "1.2.0",
            "grid_template_areas": null,
            "object_position": null,
            "object_fit": null,
            "grid_auto_columns": null,
            "margin": null,
            "display": null,
            "left": null
          }
        },
        "60f701c09eb041a08ea6018fc78de7b3": {
          "model_module": "@jupyter-widgets/controls",
          "model_name": "DescriptionStyleModel",
          "model_module_version": "1.5.0",
          "state": {
            "_view_name": "StyleView",
            "_model_name": "DescriptionStyleModel",
            "description_width": "",
            "_view_module": "@jupyter-widgets/base",
            "_model_module_version": "1.5.0",
            "_view_count": null,
            "_view_module_version": "1.2.0",
            "_model_module": "@jupyter-widgets/controls"
          }
        },
        "4fbf6265b55b4f79a38302ca5fb7560e": {
          "model_module": "@jupyter-widgets/base",
          "model_name": "LayoutModel",
          "model_module_version": "1.2.0",
          "state": {
            "_view_name": "LayoutView",
            "grid_template_rows": null,
            "right": null,
            "justify_content": null,
            "_view_module": "@jupyter-widgets/base",
            "overflow": null,
            "_model_module_version": "1.2.0",
            "_view_count": null,
            "flex_flow": null,
            "width": null,
            "min_width": null,
            "border": null,
            "align_items": null,
            "bottom": null,
            "_model_module": "@jupyter-widgets/base",
            "top": null,
            "grid_column": null,
            "overflow_y": null,
            "overflow_x": null,
            "grid_auto_flow": null,
            "grid_area": null,
            "grid_template_columns": null,
            "flex": null,
            "_model_name": "LayoutModel",
            "justify_items": null,
            "grid_row": null,
            "max_height": null,
            "align_content": null,
            "visibility": null,
            "align_self": null,
            "height": null,
            "min_height": null,
            "padding": null,
            "grid_auto_rows": null,
            "grid_gap": null,
            "max_width": null,
            "order": null,
            "_view_module_version": "1.2.0",
            "grid_template_areas": null,
            "object_position": null,
            "object_fit": null,
            "grid_auto_columns": null,
            "margin": null,
            "display": null,
            "left": null
          }
        },
        "8e93bc6cf47b412ea1a7b1453fe5d430": {
          "model_module": "@jupyter-widgets/controls",
          "model_name": "HBoxModel",
          "model_module_version": "1.5.0",
          "state": {
            "_view_name": "HBoxView",
            "_dom_classes": [],
            "_model_name": "HBoxModel",
            "_view_module": "@jupyter-widgets/controls",
            "_model_module_version": "1.5.0",
            "_view_count": null,
            "_view_module_version": "1.5.0",
            "box_style": "",
            "layout": "IPY_MODEL_24cd0e399af7440a928d815963a1b132",
            "_model_module": "@jupyter-widgets/controls",
            "children": [
              "IPY_MODEL_14342e913ed242f88f5305c5e7ab7885",
              "IPY_MODEL_9d91105d9b7541caafd019b990b89e27",
              "IPY_MODEL_0f95841042014e1a9a7dfd6222928abe"
            ]
          }
        },
        "24cd0e399af7440a928d815963a1b132": {
          "model_module": "@jupyter-widgets/base",
          "model_name": "LayoutModel",
          "model_module_version": "1.2.0",
          "state": {
            "_view_name": "LayoutView",
            "grid_template_rows": null,
            "right": null,
            "justify_content": null,
            "_view_module": "@jupyter-widgets/base",
            "overflow": null,
            "_model_module_version": "1.2.0",
            "_view_count": null,
            "flex_flow": null,
            "width": null,
            "min_width": null,
            "border": null,
            "align_items": null,
            "bottom": null,
            "_model_module": "@jupyter-widgets/base",
            "top": null,
            "grid_column": null,
            "overflow_y": null,
            "overflow_x": null,
            "grid_auto_flow": null,
            "grid_area": null,
            "grid_template_columns": null,
            "flex": null,
            "_model_name": "LayoutModel",
            "justify_items": null,
            "grid_row": null,
            "max_height": null,
            "align_content": null,
            "visibility": null,
            "align_self": null,
            "height": null,
            "min_height": null,
            "padding": null,
            "grid_auto_rows": null,
            "grid_gap": null,
            "max_width": null,
            "order": null,
            "_view_module_version": "1.2.0",
            "grid_template_areas": null,
            "object_position": null,
            "object_fit": null,
            "grid_auto_columns": null,
            "margin": null,
            "display": null,
            "left": null
          }
        },
        "14342e913ed242f88f5305c5e7ab7885": {
          "model_module": "@jupyter-widgets/controls",
          "model_name": "HTMLModel",
          "model_module_version": "1.5.0",
          "state": {
            "_view_name": "HTMLView",
            "style": "IPY_MODEL_622059eb7ba143af9c9dad426239a6b3",
            "_dom_classes": [],
            "description": "",
            "_model_name": "HTMLModel",
            "placeholder": "​",
            "_view_module": "@jupyter-widgets/controls",
            "_model_module_version": "1.5.0",
            "value": "Downloading: 100%",
            "_view_count": null,
            "_view_module_version": "1.5.0",
            "description_tooltip": null,
            "_model_module": "@jupyter-widgets/controls",
            "layout": "IPY_MODEL_0f71b460d44046ef9aa3f06bc3d7c1b7"
          }
        },
        "9d91105d9b7541caafd019b990b89e27": {
          "model_module": "@jupyter-widgets/controls",
          "model_name": "FloatProgressModel",
          "model_module_version": "1.5.0",
          "state": {
            "_view_name": "ProgressView",
            "style": "IPY_MODEL_841d9de3f9284d7da2e1436f117c0562",
            "_dom_classes": [],
            "description": "",
            "_model_name": "FloatProgressModel",
            "bar_style": "success",
            "max": 28,
            "_view_module": "@jupyter-widgets/controls",
            "_model_module_version": "1.5.0",
            "value": 28,
            "_view_count": null,
            "_view_module_version": "1.5.0",
            "orientation": "horizontal",
            "min": 0,
            "description_tooltip": null,
            "_model_module": "@jupyter-widgets/controls",
            "layout": "IPY_MODEL_f43b69eada894cdbbb6cb977f99b6aed"
          }
        },
        "0f95841042014e1a9a7dfd6222928abe": {
          "model_module": "@jupyter-widgets/controls",
          "model_name": "HTMLModel",
          "model_module_version": "1.5.0",
          "state": {
            "_view_name": "HTMLView",
            "style": "IPY_MODEL_337f76816fbd436cbfc9169c2272e2f3",
            "_dom_classes": [],
            "description": "",
            "_model_name": "HTMLModel",
            "placeholder": "​",
            "_view_module": "@jupyter-widgets/controls",
            "_model_module_version": "1.5.0",
            "value": " 28.0/28.0 [00:00&lt;00:00, 415B/s]",
            "_view_count": null,
            "_view_module_version": "1.5.0",
            "description_tooltip": null,
            "_model_module": "@jupyter-widgets/controls",
            "layout": "IPY_MODEL_34f8d844239c4147978fa1e89c90b1b3"
          }
        },
        "622059eb7ba143af9c9dad426239a6b3": {
          "model_module": "@jupyter-widgets/controls",
          "model_name": "DescriptionStyleModel",
          "model_module_version": "1.5.0",
          "state": {
            "_view_name": "StyleView",
            "_model_name": "DescriptionStyleModel",
            "description_width": "",
            "_view_module": "@jupyter-widgets/base",
            "_model_module_version": "1.5.0",
            "_view_count": null,
            "_view_module_version": "1.2.0",
            "_model_module": "@jupyter-widgets/controls"
          }
        },
        "0f71b460d44046ef9aa3f06bc3d7c1b7": {
          "model_module": "@jupyter-widgets/base",
          "model_name": "LayoutModel",
          "model_module_version": "1.2.0",
          "state": {
            "_view_name": "LayoutView",
            "grid_template_rows": null,
            "right": null,
            "justify_content": null,
            "_view_module": "@jupyter-widgets/base",
            "overflow": null,
            "_model_module_version": "1.2.0",
            "_view_count": null,
            "flex_flow": null,
            "width": null,
            "min_width": null,
            "border": null,
            "align_items": null,
            "bottom": null,
            "_model_module": "@jupyter-widgets/base",
            "top": null,
            "grid_column": null,
            "overflow_y": null,
            "overflow_x": null,
            "grid_auto_flow": null,
            "grid_area": null,
            "grid_template_columns": null,
            "flex": null,
            "_model_name": "LayoutModel",
            "justify_items": null,
            "grid_row": null,
            "max_height": null,
            "align_content": null,
            "visibility": null,
            "align_self": null,
            "height": null,
            "min_height": null,
            "padding": null,
            "grid_auto_rows": null,
            "grid_gap": null,
            "max_width": null,
            "order": null,
            "_view_module_version": "1.2.0",
            "grid_template_areas": null,
            "object_position": null,
            "object_fit": null,
            "grid_auto_columns": null,
            "margin": null,
            "display": null,
            "left": null
          }
        },
        "841d9de3f9284d7da2e1436f117c0562": {
          "model_module": "@jupyter-widgets/controls",
          "model_name": "ProgressStyleModel",
          "model_module_version": "1.5.0",
          "state": {
            "_view_name": "StyleView",
            "_model_name": "ProgressStyleModel",
            "description_width": "",
            "_view_module": "@jupyter-widgets/base",
            "_model_module_version": "1.5.0",
            "_view_count": null,
            "_view_module_version": "1.2.0",
            "bar_color": null,
            "_model_module": "@jupyter-widgets/controls"
          }
        },
        "f43b69eada894cdbbb6cb977f99b6aed": {
          "model_module": "@jupyter-widgets/base",
          "model_name": "LayoutModel",
          "model_module_version": "1.2.0",
          "state": {
            "_view_name": "LayoutView",
            "grid_template_rows": null,
            "right": null,
            "justify_content": null,
            "_view_module": "@jupyter-widgets/base",
            "overflow": null,
            "_model_module_version": "1.2.0",
            "_view_count": null,
            "flex_flow": null,
            "width": null,
            "min_width": null,
            "border": null,
            "align_items": null,
            "bottom": null,
            "_model_module": "@jupyter-widgets/base",
            "top": null,
            "grid_column": null,
            "overflow_y": null,
            "overflow_x": null,
            "grid_auto_flow": null,
            "grid_area": null,
            "grid_template_columns": null,
            "flex": null,
            "_model_name": "LayoutModel",
            "justify_items": null,
            "grid_row": null,
            "max_height": null,
            "align_content": null,
            "visibility": null,
            "align_self": null,
            "height": null,
            "min_height": null,
            "padding": null,
            "grid_auto_rows": null,
            "grid_gap": null,
            "max_width": null,
            "order": null,
            "_view_module_version": "1.2.0",
            "grid_template_areas": null,
            "object_position": null,
            "object_fit": null,
            "grid_auto_columns": null,
            "margin": null,
            "display": null,
            "left": null
          }
        },
        "337f76816fbd436cbfc9169c2272e2f3": {
          "model_module": "@jupyter-widgets/controls",
          "model_name": "DescriptionStyleModel",
          "model_module_version": "1.5.0",
          "state": {
            "_view_name": "StyleView",
            "_model_name": "DescriptionStyleModel",
            "description_width": "",
            "_view_module": "@jupyter-widgets/base",
            "_model_module_version": "1.5.0",
            "_view_count": null,
            "_view_module_version": "1.2.0",
            "_model_module": "@jupyter-widgets/controls"
          }
        },
        "34f8d844239c4147978fa1e89c90b1b3": {
          "model_module": "@jupyter-widgets/base",
          "model_name": "LayoutModel",
          "model_module_version": "1.2.0",
          "state": {
            "_view_name": "LayoutView",
            "grid_template_rows": null,
            "right": null,
            "justify_content": null,
            "_view_module": "@jupyter-widgets/base",
            "overflow": null,
            "_model_module_version": "1.2.0",
            "_view_count": null,
            "flex_flow": null,
            "width": null,
            "min_width": null,
            "border": null,
            "align_items": null,
            "bottom": null,
            "_model_module": "@jupyter-widgets/base",
            "top": null,
            "grid_column": null,
            "overflow_y": null,
            "overflow_x": null,
            "grid_auto_flow": null,
            "grid_area": null,
            "grid_template_columns": null,
            "flex": null,
            "_model_name": "LayoutModel",
            "justify_items": null,
            "grid_row": null,
            "max_height": null,
            "align_content": null,
            "visibility": null,
            "align_self": null,
            "height": null,
            "min_height": null,
            "padding": null,
            "grid_auto_rows": null,
            "grid_gap": null,
            "max_width": null,
            "order": null,
            "_view_module_version": "1.2.0",
            "grid_template_areas": null,
            "object_position": null,
            "object_fit": null,
            "grid_auto_columns": null,
            "margin": null,
            "display": null,
            "left": null
          }
        },
        "bbfe99ee59554d5880b8930e495ea05e": {
          "model_module": "@jupyter-widgets/controls",
          "model_name": "HBoxModel",
          "model_module_version": "1.5.0",
          "state": {
            "_view_name": "HBoxView",
            "_dom_classes": [],
            "_model_name": "HBoxModel",
            "_view_module": "@jupyter-widgets/controls",
            "_model_module_version": "1.5.0",
            "_view_count": null,
            "_view_module_version": "1.5.0",
            "box_style": "",
            "layout": "IPY_MODEL_956b3a34de9640ed86b9e523f51d3607",
            "_model_module": "@jupyter-widgets/controls",
            "children": [
              "IPY_MODEL_01300add3d0a4409af293e0f01afcae3",
              "IPY_MODEL_80803634fb3843b2961851f3b1484eb7",
              "IPY_MODEL_2270bc8f687d41de9f2b14cdd24d9982"
            ]
          }
        },
        "956b3a34de9640ed86b9e523f51d3607": {
          "model_module": "@jupyter-widgets/base",
          "model_name": "LayoutModel",
          "model_module_version": "1.2.0",
          "state": {
            "_view_name": "LayoutView",
            "grid_template_rows": null,
            "right": null,
            "justify_content": null,
            "_view_module": "@jupyter-widgets/base",
            "overflow": null,
            "_model_module_version": "1.2.0",
            "_view_count": null,
            "flex_flow": null,
            "width": null,
            "min_width": null,
            "border": null,
            "align_items": null,
            "bottom": null,
            "_model_module": "@jupyter-widgets/base",
            "top": null,
            "grid_column": null,
            "overflow_y": null,
            "overflow_x": null,
            "grid_auto_flow": null,
            "grid_area": null,
            "grid_template_columns": null,
            "flex": null,
            "_model_name": "LayoutModel",
            "justify_items": null,
            "grid_row": null,
            "max_height": null,
            "align_content": null,
            "visibility": null,
            "align_self": null,
            "height": null,
            "min_height": null,
            "padding": null,
            "grid_auto_rows": null,
            "grid_gap": null,
            "max_width": null,
            "order": null,
            "_view_module_version": "1.2.0",
            "grid_template_areas": null,
            "object_position": null,
            "object_fit": null,
            "grid_auto_columns": null,
            "margin": null,
            "display": null,
            "left": null
          }
        },
        "01300add3d0a4409af293e0f01afcae3": {
          "model_module": "@jupyter-widgets/controls",
          "model_name": "HTMLModel",
          "model_module_version": "1.5.0",
          "state": {
            "_view_name": "HTMLView",
            "style": "IPY_MODEL_38b2edbfe0e94304a9bd39134183e8cb",
            "_dom_classes": [],
            "description": "",
            "_model_name": "HTMLModel",
            "placeholder": "​",
            "_view_module": "@jupyter-widgets/controls",
            "_model_module_version": "1.5.0",
            "value": "Downloading: 100%",
            "_view_count": null,
            "_view_module_version": "1.5.0",
            "description_tooltip": null,
            "_model_module": "@jupyter-widgets/controls",
            "layout": "IPY_MODEL_b8a1f41c8bf44e2fbce633162347d175"
          }
        },
        "80803634fb3843b2961851f3b1484eb7": {
          "model_module": "@jupyter-widgets/controls",
          "model_name": "FloatProgressModel",
          "model_module_version": "1.5.0",
          "state": {
            "_view_name": "ProgressView",
            "style": "IPY_MODEL_7c058973b93740118cb1b013cc2b491e",
            "_dom_classes": [],
            "description": "",
            "_model_name": "FloatProgressModel",
            "bar_style": "success",
            "max": 1715180,
            "_view_module": "@jupyter-widgets/controls",
            "_model_module_version": "1.5.0",
            "value": 1715180,
            "_view_count": null,
            "_view_module_version": "1.5.0",
            "orientation": "horizontal",
            "min": 0,
            "description_tooltip": null,
            "_model_module": "@jupyter-widgets/controls",
            "layout": "IPY_MODEL_65cbdc9f7ada4e2bbc378236d5424da1"
          }
        },
        "2270bc8f687d41de9f2b14cdd24d9982": {
          "model_module": "@jupyter-widgets/controls",
          "model_name": "HTMLModel",
          "model_module_version": "1.5.0",
          "state": {
            "_view_name": "HTMLView",
            "style": "IPY_MODEL_dfae7ddc6f1c412ab0819aa5fc0e237e",
            "_dom_classes": [],
            "description": "",
            "_model_name": "HTMLModel",
            "placeholder": "​",
            "_view_module": "@jupyter-widgets/controls",
            "_model_module_version": "1.5.0",
            "value": " 1.64M/1.64M [00:00&lt;00:00, 1.53MB/s]",
            "_view_count": null,
            "_view_module_version": "1.5.0",
            "description_tooltip": null,
            "_model_module": "@jupyter-widgets/controls",
            "layout": "IPY_MODEL_5f5e6b349f2340e4b32335dd7293d4ef"
          }
        },
        "38b2edbfe0e94304a9bd39134183e8cb": {
          "model_module": "@jupyter-widgets/controls",
          "model_name": "DescriptionStyleModel",
          "model_module_version": "1.5.0",
          "state": {
            "_view_name": "StyleView",
            "_model_name": "DescriptionStyleModel",
            "description_width": "",
            "_view_module": "@jupyter-widgets/base",
            "_model_module_version": "1.5.0",
            "_view_count": null,
            "_view_module_version": "1.2.0",
            "_model_module": "@jupyter-widgets/controls"
          }
        },
        "b8a1f41c8bf44e2fbce633162347d175": {
          "model_module": "@jupyter-widgets/base",
          "model_name": "LayoutModel",
          "model_module_version": "1.2.0",
          "state": {
            "_view_name": "LayoutView",
            "grid_template_rows": null,
            "right": null,
            "justify_content": null,
            "_view_module": "@jupyter-widgets/base",
            "overflow": null,
            "_model_module_version": "1.2.0",
            "_view_count": null,
            "flex_flow": null,
            "width": null,
            "min_width": null,
            "border": null,
            "align_items": null,
            "bottom": null,
            "_model_module": "@jupyter-widgets/base",
            "top": null,
            "grid_column": null,
            "overflow_y": null,
            "overflow_x": null,
            "grid_auto_flow": null,
            "grid_area": null,
            "grid_template_columns": null,
            "flex": null,
            "_model_name": "LayoutModel",
            "justify_items": null,
            "grid_row": null,
            "max_height": null,
            "align_content": null,
            "visibility": null,
            "align_self": null,
            "height": null,
            "min_height": null,
            "padding": null,
            "grid_auto_rows": null,
            "grid_gap": null,
            "max_width": null,
            "order": null,
            "_view_module_version": "1.2.0",
            "grid_template_areas": null,
            "object_position": null,
            "object_fit": null,
            "grid_auto_columns": null,
            "margin": null,
            "display": null,
            "left": null
          }
        },
        "7c058973b93740118cb1b013cc2b491e": {
          "model_module": "@jupyter-widgets/controls",
          "model_name": "ProgressStyleModel",
          "model_module_version": "1.5.0",
          "state": {
            "_view_name": "StyleView",
            "_model_name": "ProgressStyleModel",
            "description_width": "",
            "_view_module": "@jupyter-widgets/base",
            "_model_module_version": "1.5.0",
            "_view_count": null,
            "_view_module_version": "1.2.0",
            "bar_color": null,
            "_model_module": "@jupyter-widgets/controls"
          }
        },
        "65cbdc9f7ada4e2bbc378236d5424da1": {
          "model_module": "@jupyter-widgets/base",
          "model_name": "LayoutModel",
          "model_module_version": "1.2.0",
          "state": {
            "_view_name": "LayoutView",
            "grid_template_rows": null,
            "right": null,
            "justify_content": null,
            "_view_module": "@jupyter-widgets/base",
            "overflow": null,
            "_model_module_version": "1.2.0",
            "_view_count": null,
            "flex_flow": null,
            "width": null,
            "min_width": null,
            "border": null,
            "align_items": null,
            "bottom": null,
            "_model_module": "@jupyter-widgets/base",
            "top": null,
            "grid_column": null,
            "overflow_y": null,
            "overflow_x": null,
            "grid_auto_flow": null,
            "grid_area": null,
            "grid_template_columns": null,
            "flex": null,
            "_model_name": "LayoutModel",
            "justify_items": null,
            "grid_row": null,
            "max_height": null,
            "align_content": null,
            "visibility": null,
            "align_self": null,
            "height": null,
            "min_height": null,
            "padding": null,
            "grid_auto_rows": null,
            "grid_gap": null,
            "max_width": null,
            "order": null,
            "_view_module_version": "1.2.0",
            "grid_template_areas": null,
            "object_position": null,
            "object_fit": null,
            "grid_auto_columns": null,
            "margin": null,
            "display": null,
            "left": null
          }
        },
        "dfae7ddc6f1c412ab0819aa5fc0e237e": {
          "model_module": "@jupyter-widgets/controls",
          "model_name": "DescriptionStyleModel",
          "model_module_version": "1.5.0",
          "state": {
            "_view_name": "StyleView",
            "_model_name": "DescriptionStyleModel",
            "description_width": "",
            "_view_module": "@jupyter-widgets/base",
            "_model_module_version": "1.5.0",
            "_view_count": null,
            "_view_module_version": "1.2.0",
            "_model_module": "@jupyter-widgets/controls"
          }
        },
        "5f5e6b349f2340e4b32335dd7293d4ef": {
          "model_module": "@jupyter-widgets/base",
          "model_name": "LayoutModel",
          "model_module_version": "1.2.0",
          "state": {
            "_view_name": "LayoutView",
            "grid_template_rows": null,
            "right": null,
            "justify_content": null,
            "_view_module": "@jupyter-widgets/base",
            "overflow": null,
            "_model_module_version": "1.2.0",
            "_view_count": null,
            "flex_flow": null,
            "width": null,
            "min_width": null,
            "border": null,
            "align_items": null,
            "bottom": null,
            "_model_module": "@jupyter-widgets/base",
            "top": null,
            "grid_column": null,
            "overflow_y": null,
            "overflow_x": null,
            "grid_auto_flow": null,
            "grid_area": null,
            "grid_template_columns": null,
            "flex": null,
            "_model_name": "LayoutModel",
            "justify_items": null,
            "grid_row": null,
            "max_height": null,
            "align_content": null,
            "visibility": null,
            "align_self": null,
            "height": null,
            "min_height": null,
            "padding": null,
            "grid_auto_rows": null,
            "grid_gap": null,
            "max_width": null,
            "order": null,
            "_view_module_version": "1.2.0",
            "grid_template_areas": null,
            "object_position": null,
            "object_fit": null,
            "grid_auto_columns": null,
            "margin": null,
            "display": null,
            "left": null
          }
        },
        "3f1d660d6b194e55918827e4bcdf61e8": {
          "model_module": "@jupyter-widgets/controls",
          "model_name": "HBoxModel",
          "model_module_version": "1.5.0",
          "state": {
            "_view_name": "HBoxView",
            "_dom_classes": [],
            "_model_name": "HBoxModel",
            "_view_module": "@jupyter-widgets/controls",
            "_model_module_version": "1.5.0",
            "_view_count": null,
            "_view_module_version": "1.5.0",
            "box_style": "",
            "layout": "IPY_MODEL_01b75f80a7e846c8a11880ada388f614",
            "_model_module": "@jupyter-widgets/controls",
            "children": [
              "IPY_MODEL_29521afbf9aa4d4cb3535124d6343812",
              "IPY_MODEL_98350151cff24fb9b9114a6aac9210b9",
              "IPY_MODEL_4f52f9a51e7241ca8e6c5429c0a9efbc"
            ]
          }
        },
        "01b75f80a7e846c8a11880ada388f614": {
          "model_module": "@jupyter-widgets/base",
          "model_name": "LayoutModel",
          "model_module_version": "1.2.0",
          "state": {
            "_view_name": "LayoutView",
            "grid_template_rows": null,
            "right": null,
            "justify_content": null,
            "_view_module": "@jupyter-widgets/base",
            "overflow": null,
            "_model_module_version": "1.2.0",
            "_view_count": null,
            "flex_flow": null,
            "width": null,
            "min_width": null,
            "border": null,
            "align_items": null,
            "bottom": null,
            "_model_module": "@jupyter-widgets/base",
            "top": null,
            "grid_column": null,
            "overflow_y": null,
            "overflow_x": null,
            "grid_auto_flow": null,
            "grid_area": null,
            "grid_template_columns": null,
            "flex": null,
            "_model_name": "LayoutModel",
            "justify_items": null,
            "grid_row": null,
            "max_height": null,
            "align_content": null,
            "visibility": null,
            "align_self": null,
            "height": null,
            "min_height": null,
            "padding": null,
            "grid_auto_rows": null,
            "grid_gap": null,
            "max_width": null,
            "order": null,
            "_view_module_version": "1.2.0",
            "grid_template_areas": null,
            "object_position": null,
            "object_fit": null,
            "grid_auto_columns": null,
            "margin": null,
            "display": null,
            "left": null
          }
        },
        "29521afbf9aa4d4cb3535124d6343812": {
          "model_module": "@jupyter-widgets/controls",
          "model_name": "HTMLModel",
          "model_module_version": "1.5.0",
          "state": {
            "_view_name": "HTMLView",
            "style": "IPY_MODEL_553c26d92d62492689b3edd83c4b90cd",
            "_dom_classes": [],
            "description": "",
            "_model_name": "HTMLModel",
            "placeholder": "​",
            "_view_module": "@jupyter-widgets/controls",
            "_model_module_version": "1.5.0",
            "value": "Downloading: 100%",
            "_view_count": null,
            "_view_module_version": "1.5.0",
            "description_tooltip": null,
            "_model_module": "@jupyter-widgets/controls",
            "layout": "IPY_MODEL_8a223d7b19d94ca6bfbad4b549a18db8"
          }
        },
        "98350151cff24fb9b9114a6aac9210b9": {
          "model_module": "@jupyter-widgets/controls",
          "model_name": "FloatProgressModel",
          "model_module_version": "1.5.0",
          "state": {
            "_view_name": "ProgressView",
            "style": "IPY_MODEL_f0381eaccd644f109f27e8d43f949cf6",
            "_dom_classes": [],
            "description": "",
            "_model_name": "FloatProgressModel",
            "bar_style": "success",
            "max": 625,
            "_view_module": "@jupyter-widgets/controls",
            "_model_module_version": "1.5.0",
            "value": 625,
            "_view_count": null,
            "_view_module_version": "1.5.0",
            "orientation": "horizontal",
            "min": 0,
            "description_tooltip": null,
            "_model_module": "@jupyter-widgets/controls",
            "layout": "IPY_MODEL_471c58d9b6ff4b91883252b54e2cc523"
          }
        },
        "4f52f9a51e7241ca8e6c5429c0a9efbc": {
          "model_module": "@jupyter-widgets/controls",
          "model_name": "HTMLModel",
          "model_module_version": "1.5.0",
          "state": {
            "_view_name": "HTMLView",
            "style": "IPY_MODEL_351d863242c146d3815cd03d3bb3b394",
            "_dom_classes": [],
            "description": "",
            "_model_name": "HTMLModel",
            "placeholder": "​",
            "_view_module": "@jupyter-widgets/controls",
            "_model_module_version": "1.5.0",
            "value": " 625/625 [00:00&lt;00:00, 17.9kB/s]",
            "_view_count": null,
            "_view_module_version": "1.5.0",
            "description_tooltip": null,
            "_model_module": "@jupyter-widgets/controls",
            "layout": "IPY_MODEL_2c9da2605acc4c0ba9d19503b6f38cac"
          }
        },
        "553c26d92d62492689b3edd83c4b90cd": {
          "model_module": "@jupyter-widgets/controls",
          "model_name": "DescriptionStyleModel",
          "model_module_version": "1.5.0",
          "state": {
            "_view_name": "StyleView",
            "_model_name": "DescriptionStyleModel",
            "description_width": "",
            "_view_module": "@jupyter-widgets/base",
            "_model_module_version": "1.5.0",
            "_view_count": null,
            "_view_module_version": "1.2.0",
            "_model_module": "@jupyter-widgets/controls"
          }
        },
        "8a223d7b19d94ca6bfbad4b549a18db8": {
          "model_module": "@jupyter-widgets/base",
          "model_name": "LayoutModel",
          "model_module_version": "1.2.0",
          "state": {
            "_view_name": "LayoutView",
            "grid_template_rows": null,
            "right": null,
            "justify_content": null,
            "_view_module": "@jupyter-widgets/base",
            "overflow": null,
            "_model_module_version": "1.2.0",
            "_view_count": null,
            "flex_flow": null,
            "width": null,
            "min_width": null,
            "border": null,
            "align_items": null,
            "bottom": null,
            "_model_module": "@jupyter-widgets/base",
            "top": null,
            "grid_column": null,
            "overflow_y": null,
            "overflow_x": null,
            "grid_auto_flow": null,
            "grid_area": null,
            "grid_template_columns": null,
            "flex": null,
            "_model_name": "LayoutModel",
            "justify_items": null,
            "grid_row": null,
            "max_height": null,
            "align_content": null,
            "visibility": null,
            "align_self": null,
            "height": null,
            "min_height": null,
            "padding": null,
            "grid_auto_rows": null,
            "grid_gap": null,
            "max_width": null,
            "order": null,
            "_view_module_version": "1.2.0",
            "grid_template_areas": null,
            "object_position": null,
            "object_fit": null,
            "grid_auto_columns": null,
            "margin": null,
            "display": null,
            "left": null
          }
        },
        "f0381eaccd644f109f27e8d43f949cf6": {
          "model_module": "@jupyter-widgets/controls",
          "model_name": "ProgressStyleModel",
          "model_module_version": "1.5.0",
          "state": {
            "_view_name": "StyleView",
            "_model_name": "ProgressStyleModel",
            "description_width": "",
            "_view_module": "@jupyter-widgets/base",
            "_model_module_version": "1.5.0",
            "_view_count": null,
            "_view_module_version": "1.2.0",
            "bar_color": null,
            "_model_module": "@jupyter-widgets/controls"
          }
        },
        "471c58d9b6ff4b91883252b54e2cc523": {
          "model_module": "@jupyter-widgets/base",
          "model_name": "LayoutModel",
          "model_module_version": "1.2.0",
          "state": {
            "_view_name": "LayoutView",
            "grid_template_rows": null,
            "right": null,
            "justify_content": null,
            "_view_module": "@jupyter-widgets/base",
            "overflow": null,
            "_model_module_version": "1.2.0",
            "_view_count": null,
            "flex_flow": null,
            "width": null,
            "min_width": null,
            "border": null,
            "align_items": null,
            "bottom": null,
            "_model_module": "@jupyter-widgets/base",
            "top": null,
            "grid_column": null,
            "overflow_y": null,
            "overflow_x": null,
            "grid_auto_flow": null,
            "grid_area": null,
            "grid_template_columns": null,
            "flex": null,
            "_model_name": "LayoutModel",
            "justify_items": null,
            "grid_row": null,
            "max_height": null,
            "align_content": null,
            "visibility": null,
            "align_self": null,
            "height": null,
            "min_height": null,
            "padding": null,
            "grid_auto_rows": null,
            "grid_gap": null,
            "max_width": null,
            "order": null,
            "_view_module_version": "1.2.0",
            "grid_template_areas": null,
            "object_position": null,
            "object_fit": null,
            "grid_auto_columns": null,
            "margin": null,
            "display": null,
            "left": null
          }
        },
        "351d863242c146d3815cd03d3bb3b394": {
          "model_module": "@jupyter-widgets/controls",
          "model_name": "DescriptionStyleModel",
          "model_module_version": "1.5.0",
          "state": {
            "_view_name": "StyleView",
            "_model_name": "DescriptionStyleModel",
            "description_width": "",
            "_view_module": "@jupyter-widgets/base",
            "_model_module_version": "1.5.0",
            "_view_count": null,
            "_view_module_version": "1.2.0",
            "_model_module": "@jupyter-widgets/controls"
          }
        },
        "2c9da2605acc4c0ba9d19503b6f38cac": {
          "model_module": "@jupyter-widgets/base",
          "model_name": "LayoutModel",
          "model_module_version": "1.2.0",
          "state": {
            "_view_name": "LayoutView",
            "grid_template_rows": null,
            "right": null,
            "justify_content": null,
            "_view_module": "@jupyter-widgets/base",
            "overflow": null,
            "_model_module_version": "1.2.0",
            "_view_count": null,
            "flex_flow": null,
            "width": null,
            "min_width": null,
            "border": null,
            "align_items": null,
            "bottom": null,
            "_model_module": "@jupyter-widgets/base",
            "top": null,
            "grid_column": null,
            "overflow_y": null,
            "overflow_x": null,
            "grid_auto_flow": null,
            "grid_area": null,
            "grid_template_columns": null,
            "flex": null,
            "_model_name": "LayoutModel",
            "justify_items": null,
            "grid_row": null,
            "max_height": null,
            "align_content": null,
            "visibility": null,
            "align_self": null,
            "height": null,
            "min_height": null,
            "padding": null,
            "grid_auto_rows": null,
            "grid_gap": null,
            "max_width": null,
            "order": null,
            "_view_module_version": "1.2.0",
            "grid_template_areas": null,
            "object_position": null,
            "object_fit": null,
            "grid_auto_columns": null,
            "margin": null,
            "display": null,
            "left": null
          }
        },
        "fb02ffceb3a742c5a03683756c242418": {
          "model_module": "@jupyter-widgets/controls",
          "model_name": "HBoxModel",
          "model_module_version": "1.5.0",
          "state": {
            "_view_name": "HBoxView",
            "_dom_classes": [],
            "_model_name": "HBoxModel",
            "_view_module": "@jupyter-widgets/controls",
            "_model_module_version": "1.5.0",
            "_view_count": null,
            "_view_module_version": "1.5.0",
            "box_style": "",
            "layout": "IPY_MODEL_baeef54199144edfacfdfd3d78939427",
            "_model_module": "@jupyter-widgets/controls",
            "children": [
              "IPY_MODEL_8393d7c3c824449c98f2f9c504d6cbbd",
              "IPY_MODEL_a31e6fb7040b4c1da0bfda3c031ff488",
              "IPY_MODEL_729811579fd04c5395f2e0d535439c68"
            ]
          }
        },
        "baeef54199144edfacfdfd3d78939427": {
          "model_module": "@jupyter-widgets/base",
          "model_name": "LayoutModel",
          "model_module_version": "1.2.0",
          "state": {
            "_view_name": "LayoutView",
            "grid_template_rows": null,
            "right": null,
            "justify_content": null,
            "_view_module": "@jupyter-widgets/base",
            "overflow": null,
            "_model_module_version": "1.2.0",
            "_view_count": null,
            "flex_flow": null,
            "width": null,
            "min_width": null,
            "border": null,
            "align_items": null,
            "bottom": null,
            "_model_module": "@jupyter-widgets/base",
            "top": null,
            "grid_column": null,
            "overflow_y": null,
            "overflow_x": null,
            "grid_auto_flow": null,
            "grid_area": null,
            "grid_template_columns": null,
            "flex": null,
            "_model_name": "LayoutModel",
            "justify_items": null,
            "grid_row": null,
            "max_height": null,
            "align_content": null,
            "visibility": null,
            "align_self": null,
            "height": null,
            "min_height": null,
            "padding": null,
            "grid_auto_rows": null,
            "grid_gap": null,
            "max_width": null,
            "order": null,
            "_view_module_version": "1.2.0",
            "grid_template_areas": null,
            "object_position": null,
            "object_fit": null,
            "grid_auto_columns": null,
            "margin": null,
            "display": null,
            "left": null
          }
        },
        "8393d7c3c824449c98f2f9c504d6cbbd": {
          "model_module": "@jupyter-widgets/controls",
          "model_name": "HTMLModel",
          "model_module_version": "1.5.0",
          "state": {
            "_view_name": "HTMLView",
            "style": "IPY_MODEL_ee2f7271ace14eaebb46de1b8e5e3555",
            "_dom_classes": [],
            "description": "",
            "_model_name": "HTMLModel",
            "placeholder": "​",
            "_view_module": "@jupyter-widgets/controls",
            "_model_module_version": "1.5.0",
            "value": "Downloading: 100%",
            "_view_count": null,
            "_view_module_version": "1.5.0",
            "description_tooltip": null,
            "_model_module": "@jupyter-widgets/controls",
            "layout": "IPY_MODEL_792b91cd46624619abd034ec6843e7b0"
          }
        },
        "a31e6fb7040b4c1da0bfda3c031ff488": {
          "model_module": "@jupyter-widgets/controls",
          "model_name": "FloatProgressModel",
          "model_module_version": "1.5.0",
          "state": {
            "_view_name": "ProgressView",
            "style": "IPY_MODEL_1efe366638b149f0b010fd750acf5453",
            "_dom_classes": [],
            "description": "",
            "_model_name": "FloatProgressModel",
            "bar_style": "success",
            "max": 672271273,
            "_view_module": "@jupyter-widgets/controls",
            "_model_module_version": "1.5.0",
            "value": 672271273,
            "_view_count": null,
            "_view_module_version": "1.5.0",
            "orientation": "horizontal",
            "min": 0,
            "description_tooltip": null,
            "_model_module": "@jupyter-widgets/controls",
            "layout": "IPY_MODEL_57d6bf4f46ed4245b891770ec06ac49b"
          }
        },
        "729811579fd04c5395f2e0d535439c68": {
          "model_module": "@jupyter-widgets/controls",
          "model_name": "HTMLModel",
          "model_module_version": "1.5.0",
          "state": {
            "_view_name": "HTMLView",
            "style": "IPY_MODEL_e9d4618d7769471aa74395e7e2a2ca77",
            "_dom_classes": [],
            "description": "",
            "_model_name": "HTMLModel",
            "placeholder": "​",
            "_view_module": "@jupyter-widgets/controls",
            "_model_module_version": "1.5.0",
            "value": " 641M/641M [00:16&lt;00:00, 42.3MB/s]",
            "_view_count": null,
            "_view_module_version": "1.5.0",
            "description_tooltip": null,
            "_model_module": "@jupyter-widgets/controls",
            "layout": "IPY_MODEL_07609ee2b7e742f29c0627fc8295e835"
          }
        },
        "ee2f7271ace14eaebb46de1b8e5e3555": {
          "model_module": "@jupyter-widgets/controls",
          "model_name": "DescriptionStyleModel",
          "model_module_version": "1.5.0",
          "state": {
            "_view_name": "StyleView",
            "_model_name": "DescriptionStyleModel",
            "description_width": "",
            "_view_module": "@jupyter-widgets/base",
            "_model_module_version": "1.5.0",
            "_view_count": null,
            "_view_module_version": "1.2.0",
            "_model_module": "@jupyter-widgets/controls"
          }
        },
        "792b91cd46624619abd034ec6843e7b0": {
          "model_module": "@jupyter-widgets/base",
          "model_name": "LayoutModel",
          "model_module_version": "1.2.0",
          "state": {
            "_view_name": "LayoutView",
            "grid_template_rows": null,
            "right": null,
            "justify_content": null,
            "_view_module": "@jupyter-widgets/base",
            "overflow": null,
            "_model_module_version": "1.2.0",
            "_view_count": null,
            "flex_flow": null,
            "width": null,
            "min_width": null,
            "border": null,
            "align_items": null,
            "bottom": null,
            "_model_module": "@jupyter-widgets/base",
            "top": null,
            "grid_column": null,
            "overflow_y": null,
            "overflow_x": null,
            "grid_auto_flow": null,
            "grid_area": null,
            "grid_template_columns": null,
            "flex": null,
            "_model_name": "LayoutModel",
            "justify_items": null,
            "grid_row": null,
            "max_height": null,
            "align_content": null,
            "visibility": null,
            "align_self": null,
            "height": null,
            "min_height": null,
            "padding": null,
            "grid_auto_rows": null,
            "grid_gap": null,
            "max_width": null,
            "order": null,
            "_view_module_version": "1.2.0",
            "grid_template_areas": null,
            "object_position": null,
            "object_fit": null,
            "grid_auto_columns": null,
            "margin": null,
            "display": null,
            "left": null
          }
        },
        "1efe366638b149f0b010fd750acf5453": {
          "model_module": "@jupyter-widgets/controls",
          "model_name": "ProgressStyleModel",
          "model_module_version": "1.5.0",
          "state": {
            "_view_name": "StyleView",
            "_model_name": "ProgressStyleModel",
            "description_width": "",
            "_view_module": "@jupyter-widgets/base",
            "_model_module_version": "1.5.0",
            "_view_count": null,
            "_view_module_version": "1.2.0",
            "bar_color": null,
            "_model_module": "@jupyter-widgets/controls"
          }
        },
        "57d6bf4f46ed4245b891770ec06ac49b": {
          "model_module": "@jupyter-widgets/base",
          "model_name": "LayoutModel",
          "model_module_version": "1.2.0",
          "state": {
            "_view_name": "LayoutView",
            "grid_template_rows": null,
            "right": null,
            "justify_content": null,
            "_view_module": "@jupyter-widgets/base",
            "overflow": null,
            "_model_module_version": "1.2.0",
            "_view_count": null,
            "flex_flow": null,
            "width": null,
            "min_width": null,
            "border": null,
            "align_items": null,
            "bottom": null,
            "_model_module": "@jupyter-widgets/base",
            "top": null,
            "grid_column": null,
            "overflow_y": null,
            "overflow_x": null,
            "grid_auto_flow": null,
            "grid_area": null,
            "grid_template_columns": null,
            "flex": null,
            "_model_name": "LayoutModel",
            "justify_items": null,
            "grid_row": null,
            "max_height": null,
            "align_content": null,
            "visibility": null,
            "align_self": null,
            "height": null,
            "min_height": null,
            "padding": null,
            "grid_auto_rows": null,
            "grid_gap": null,
            "max_width": null,
            "order": null,
            "_view_module_version": "1.2.0",
            "grid_template_areas": null,
            "object_position": null,
            "object_fit": null,
            "grid_auto_columns": null,
            "margin": null,
            "display": null,
            "left": null
          }
        },
        "e9d4618d7769471aa74395e7e2a2ca77": {
          "model_module": "@jupyter-widgets/controls",
          "model_name": "DescriptionStyleModel",
          "model_module_version": "1.5.0",
          "state": {
            "_view_name": "StyleView",
            "_model_name": "DescriptionStyleModel",
            "description_width": "",
            "_view_module": "@jupyter-widgets/base",
            "_model_module_version": "1.5.0",
            "_view_count": null,
            "_view_module_version": "1.2.0",
            "_model_module": "@jupyter-widgets/controls"
          }
        },
        "07609ee2b7e742f29c0627fc8295e835": {
          "model_module": "@jupyter-widgets/base",
          "model_name": "LayoutModel",
          "model_module_version": "1.2.0",
          "state": {
            "_view_name": "LayoutView",
            "grid_template_rows": null,
            "right": null,
            "justify_content": null,
            "_view_module": "@jupyter-widgets/base",
            "overflow": null,
            "_model_module_version": "1.2.0",
            "_view_count": null,
            "flex_flow": null,
            "width": null,
            "min_width": null,
            "border": null,
            "align_items": null,
            "bottom": null,
            "_model_module": "@jupyter-widgets/base",
            "top": null,
            "grid_column": null,
            "overflow_y": null,
            "overflow_x": null,
            "grid_auto_flow": null,
            "grid_area": null,
            "grid_template_columns": null,
            "flex": null,
            "_model_name": "LayoutModel",
            "justify_items": null,
            "grid_row": null,
            "max_height": null,
            "align_content": null,
            "visibility": null,
            "align_self": null,
            "height": null,
            "min_height": null,
            "padding": null,
            "grid_auto_rows": null,
            "grid_gap": null,
            "max_width": null,
            "order": null,
            "_view_module_version": "1.2.0",
            "grid_template_areas": null,
            "object_position": null,
            "object_fit": null,
            "grid_auto_columns": null,
            "margin": null,
            "display": null,
            "left": null
          }
        }
      }
    }
  },
  "cells": [
    {
      "cell_type": "markdown",
      "metadata": {
        "id": "view-in-github",
        "colab_type": "text"
      },
      "source": [
        "<a href=\"https://colab.research.google.com/github/Nour543/NLP-Project/blob/main/My_NLP_Project___2.ipynb\" target=\"_parent\"><img src=\"https://colab.research.google.com/assets/colab-badge.svg\" alt=\"Open In Colab\"/></a>"
      ]
    },
    {
      "cell_type": "code",
      "metadata": {
        "colab": {
          "base_uri": "https://localhost:8080/"
        },
        "id": "R3nEqL4INV69",
        "outputId": "247f0d9f-a8f2-4557-cf64-2bf9819c0a17"
      },
      "source": [
        "import os\n",
        "from google.colab import drive\n",
        "drive.mount('/content/drive')"
      ],
      "id": "R3nEqL4INV69",
      "execution_count": 2,
      "outputs": [
        {
          "output_type": "stream",
          "name": "stdout",
          "text": [
            "Go to this URL in a browser: https://accounts.google.com/o/oauth2/auth?client_id=947318989803-6bn6qk8qdgf4n4g3pfee6491hc0brc4i.apps.googleusercontent.com&redirect_uri=urn%3aietf%3awg%3aoauth%3a2.0%3aoob&scope=email%20https%3a%2f%2fwww.googleapis.com%2fauth%2fdocs.test%20https%3a%2f%2fwww.googleapis.com%2fauth%2fdrive%20https%3a%2f%2fwww.googleapis.com%2fauth%2fdrive.photos.readonly%20https%3a%2f%2fwww.googleapis.com%2fauth%2fpeopleapi.readonly%20https%3a%2f%2fwww.googleapis.com%2fauth%2fdrive.activity.readonly%20https%3a%2f%2fwww.googleapis.com%2fauth%2fexperimentsandconfigs%20https%3a%2f%2fwww.googleapis.com%2fauth%2fphotos.native&response_type=code\n",
            "\n",
            "Enter your authorization code:\n",
            "4/1AX4XfWit211fGtF56w97m8U59ZCLaxvbFXZRCItS5FzqGKhgzZY8BBi2-To\n",
            "Mounted at /content/drive\n"
          ]
        }
      ]
    },
    {
      "cell_type": "code",
      "metadata": {
        "colab": {
          "base_uri": "https://localhost:8080/"
        },
        "id": "vAdexguZMyAi",
        "outputId": "f7f58344-1707-4585-e41d-a597a5b8d8b5"
      },
      "source": [
        "# Installs\n",
        "#!pip install spellchecker\n",
        "!pip install pyspellchecker\n",
        "!pip install vaderSentiment\n",
        "!pip install transformers\n",
        "!pip install torchtext\n",
        "!pip install sentencepiece"
      ],
      "id": "vAdexguZMyAi",
      "execution_count": 3,
      "outputs": [
        {
          "output_type": "stream",
          "name": "stdout",
          "text": [
            "Collecting pyspellchecker\n",
            "  Downloading pyspellchecker-0.6.2-py3-none-any.whl (2.7 MB)\n",
            "\u001b[K     |████████████████████████████████| 2.7 MB 11.5 MB/s \n",
            "\u001b[?25hInstalling collected packages: pyspellchecker\n",
            "Successfully installed pyspellchecker-0.6.2\n",
            "Collecting vaderSentiment\n",
            "  Downloading vaderSentiment-3.3.2-py2.py3-none-any.whl (125 kB)\n",
            "\u001b[K     |████████████████████████████████| 125 kB 15.0 MB/s \n",
            "\u001b[?25hRequirement already satisfied: requests in /usr/local/lib/python3.7/dist-packages (from vaderSentiment) (2.23.0)\n",
            "Requirement already satisfied: idna<3,>=2.5 in /usr/local/lib/python3.7/dist-packages (from requests->vaderSentiment) (2.10)\n",
            "Requirement already satisfied: certifi>=2017.4.17 in /usr/local/lib/python3.7/dist-packages (from requests->vaderSentiment) (2021.5.30)\n",
            "Requirement already satisfied: chardet<4,>=3.0.2 in /usr/local/lib/python3.7/dist-packages (from requests->vaderSentiment) (3.0.4)\n",
            "Requirement already satisfied: urllib3!=1.25.0,!=1.25.1,<1.26,>=1.21.1 in /usr/local/lib/python3.7/dist-packages (from requests->vaderSentiment) (1.24.3)\n",
            "Installing collected packages: vaderSentiment\n",
            "Successfully installed vaderSentiment-3.3.2\n",
            "Collecting transformers\n",
            "  Downloading transformers-4.11.3-py3-none-any.whl (2.9 MB)\n",
            "\u001b[K     |████████████████████████████████| 2.9 MB 14.9 MB/s \n",
            "\u001b[?25hRequirement already satisfied: tqdm>=4.27 in /usr/local/lib/python3.7/dist-packages (from transformers) (4.62.3)\n",
            "Requirement already satisfied: numpy>=1.17 in /usr/local/lib/python3.7/dist-packages (from transformers) (1.19.5)\n",
            "Collecting huggingface-hub>=0.0.17\n",
            "  Downloading huggingface_hub-0.0.19-py3-none-any.whl (56 kB)\n",
            "\u001b[K     |████████████████████████████████| 56 kB 5.1 MB/s \n",
            "\u001b[?25hCollecting tokenizers<0.11,>=0.10.1\n",
            "  Downloading tokenizers-0.10.3-cp37-cp37m-manylinux_2_5_x86_64.manylinux1_x86_64.manylinux_2_12_x86_64.manylinux2010_x86_64.whl (3.3 MB)\n",
            "\u001b[K     |████████████████████████████████| 3.3 MB 55.0 MB/s \n",
            "\u001b[?25hCollecting pyyaml>=5.1\n",
            "  Downloading PyYAML-6.0-cp37-cp37m-manylinux_2_5_x86_64.manylinux1_x86_64.manylinux_2_12_x86_64.manylinux2010_x86_64.whl (596 kB)\n",
            "\u001b[K     |████████████████████████████████| 596 kB 44.0 MB/s \n",
            "\u001b[?25hCollecting sacremoses\n",
            "  Downloading sacremoses-0.0.46-py3-none-any.whl (895 kB)\n",
            "\u001b[K     |████████████████████████████████| 895 kB 51.3 MB/s \n",
            "\u001b[?25hRequirement already satisfied: requests in /usr/local/lib/python3.7/dist-packages (from transformers) (2.23.0)\n",
            "Requirement already satisfied: importlib-metadata in /usr/local/lib/python3.7/dist-packages (from transformers) (4.8.1)\n",
            "Requirement already satisfied: regex!=2019.12.17 in /usr/local/lib/python3.7/dist-packages (from transformers) (2019.12.20)\n",
            "Requirement already satisfied: packaging>=20.0 in /usr/local/lib/python3.7/dist-packages (from transformers) (21.0)\n",
            "Requirement already satisfied: filelock in /usr/local/lib/python3.7/dist-packages (from transformers) (3.3.0)\n",
            "Requirement already satisfied: typing-extensions in /usr/local/lib/python3.7/dist-packages (from huggingface-hub>=0.0.17->transformers) (3.7.4.3)\n",
            "Requirement already satisfied: pyparsing>=2.0.2 in /usr/local/lib/python3.7/dist-packages (from packaging>=20.0->transformers) (2.4.7)\n",
            "Requirement already satisfied: zipp>=0.5 in /usr/local/lib/python3.7/dist-packages (from importlib-metadata->transformers) (3.6.0)\n",
            "Requirement already satisfied: urllib3!=1.25.0,!=1.25.1,<1.26,>=1.21.1 in /usr/local/lib/python3.7/dist-packages (from requests->transformers) (1.24.3)\n",
            "Requirement already satisfied: certifi>=2017.4.17 in /usr/local/lib/python3.7/dist-packages (from requests->transformers) (2021.5.30)\n",
            "Requirement already satisfied: idna<3,>=2.5 in /usr/local/lib/python3.7/dist-packages (from requests->transformers) (2.10)\n",
            "Requirement already satisfied: chardet<4,>=3.0.2 in /usr/local/lib/python3.7/dist-packages (from requests->transformers) (3.0.4)\n",
            "Requirement already satisfied: click in /usr/local/lib/python3.7/dist-packages (from sacremoses->transformers) (7.1.2)\n",
            "Requirement already satisfied: six in /usr/local/lib/python3.7/dist-packages (from sacremoses->transformers) (1.15.0)\n",
            "Requirement already satisfied: joblib in /usr/local/lib/python3.7/dist-packages (from sacremoses->transformers) (1.0.1)\n",
            "Installing collected packages: pyyaml, tokenizers, sacremoses, huggingface-hub, transformers\n",
            "  Attempting uninstall: pyyaml\n",
            "    Found existing installation: PyYAML 3.13\n",
            "    Uninstalling PyYAML-3.13:\n",
            "      Successfully uninstalled PyYAML-3.13\n",
            "Successfully installed huggingface-hub-0.0.19 pyyaml-6.0 sacremoses-0.0.46 tokenizers-0.10.3 transformers-4.11.3\n",
            "Requirement already satisfied: torchtext in /usr/local/lib/python3.7/dist-packages (0.10.0)\n",
            "Requirement already satisfied: tqdm in /usr/local/lib/python3.7/dist-packages (from torchtext) (4.62.3)\n",
            "Requirement already satisfied: numpy in /usr/local/lib/python3.7/dist-packages (from torchtext) (1.19.5)\n",
            "Requirement already satisfied: requests in /usr/local/lib/python3.7/dist-packages (from torchtext) (2.23.0)\n",
            "Requirement already satisfied: torch==1.9.0 in /usr/local/lib/python3.7/dist-packages (from torchtext) (1.9.0+cu111)\n",
            "Requirement already satisfied: typing-extensions in /usr/local/lib/python3.7/dist-packages (from torch==1.9.0->torchtext) (3.7.4.3)\n",
            "Requirement already satisfied: urllib3!=1.25.0,!=1.25.1,<1.26,>=1.21.1 in /usr/local/lib/python3.7/dist-packages (from requests->torchtext) (1.24.3)\n",
            "Requirement already satisfied: certifi>=2017.4.17 in /usr/local/lib/python3.7/dist-packages (from requests->torchtext) (2021.5.30)\n",
            "Requirement already satisfied: idna<3,>=2.5 in /usr/local/lib/python3.7/dist-packages (from requests->torchtext) (2.10)\n",
            "Requirement already satisfied: chardet<4,>=3.0.2 in /usr/local/lib/python3.7/dist-packages (from requests->torchtext) (3.0.4)\n",
            "Collecting sentencepiece\n",
            "  Downloading sentencepiece-0.1.96-cp37-cp37m-manylinux_2_17_x86_64.manylinux2014_x86_64.whl (1.2 MB)\n",
            "\u001b[K     |████████████████████████████████| 1.2 MB 16.3 MB/s \n",
            "\u001b[?25hInstalling collected packages: sentencepiece\n",
            "Successfully installed sentencepiece-0.1.96\n"
          ]
        }
      ]
    },
    {
      "cell_type": "code",
      "metadata": {
        "id": "db1ca143"
      },
      "source": [
        "# Libraries / Imports\n",
        "\n",
        "from google.colab import files\n",
        "import numpy as np\n",
        "import pandas as pd\n",
        "import matplotlib.pyplot as plt\n",
        "import re\n",
        "from spellchecker import SpellChecker\n",
        "from PIL import Image\n",
        "from wordcloud import WordCloud, STOPWORDS, ImageColorGenerator\n",
        "from vaderSentiment.vaderSentiment import SentimentIntensityAnalyzer\n",
        "from __future__ import print_function\n",
        "\n",
        "import transformers\n",
        "from transformers import pipeline, AutoTokenizer, BertTokenizer, TFBertModel, AlbertTokenizer, TFAlbertModel\n",
        "\n",
        "import tensorflow as tf\n",
        "from tensorflow import keras\n",
        "\n",
        "\n",
        "from keras import layers\n",
        "from keras.models import Sequential\n",
        "from keras.preprocessing import sequence \n",
        "from keras.layers import Embedding, GlobalMaxPool1D, GlobalAveragePooling1D\n",
        "from keras.layers.core import Dense, Dropout, Activation, Flatten\n",
        "from keras.layers.convolutional import Convolution2D, MaxPooling2D\n",
        "from keras.preprocessing.text import Tokenizer\n",
        "from keras.preprocessing.sequence import pad_sequences\n",
        "from keras.datasets import imdb\n",
        "\n",
        "import nltk\n",
        "from nltk import word_tokenize\n",
        "from nltk.corpus import stopwords\n",
        "from nltk.tokenize import RegexpTokenizer\n",
        "from nltk.tokenize.treebank import TreebankWordDetokenizer\n",
        "from nltk.stem import PorterStemmer\n",
        "\n",
        "import torch\n",
        "from torchtext import data\n",
        "from torchtext.legacy.data import Field, TabularDataset, BucketIterator, Iterator\n",
        "import torch.nn as nn\n",
        "\n",
        "import sklearn\n",
        "from sklearn.pipeline import Pipeline\n",
        "from sklearn.metrics import f1_score, precision_score, recall_score, confusion_matrix\n",
        "from sklearn.feature_extraction.text import TfidfVectorizer\n",
        "from sklearn.linear_model import LogisticRegression\n",
        "from sklearn.model_selection import train_test_split\n"
      ],
      "id": "db1ca143",
      "execution_count": 4,
      "outputs": []
    },
    {
      "cell_type": "code",
      "metadata": {
        "colab": {
          "base_uri": "https://localhost:8080/"
        },
        "id": "jyf-s8jKTJAm",
        "outputId": "7e43dfbb-4a8c-46ab-b16e-b4913b338c4e"
      },
      "source": [
        "# Downloads\n",
        "\n",
        "nltk.download('vader_lexicon')\n",
        "nltk.download('punkt')\n",
        "nltk.download('stopwords')\n",
        "nltk.download('averaged_perceptron_tagger')"
      ],
      "id": "jyf-s8jKTJAm",
      "execution_count": 5,
      "outputs": [
        {
          "output_type": "stream",
          "name": "stdout",
          "text": [
            "[nltk_data] Downloading package vader_lexicon to /root/nltk_data...\n",
            "[nltk_data] Downloading package punkt to /root/nltk_data...\n",
            "[nltk_data]   Unzipping tokenizers/punkt.zip.\n",
            "[nltk_data] Downloading package stopwords to /root/nltk_data...\n",
            "[nltk_data]   Unzipping corpora/stopwords.zip.\n",
            "[nltk_data] Downloading package averaged_perceptron_tagger to\n",
            "[nltk_data]     /root/nltk_data...\n",
            "[nltk_data]   Unzipping taggers/averaged_perceptron_tagger.zip.\n"
          ]
        },
        {
          "output_type": "execute_result",
          "data": {
            "text/plain": [
              "True"
            ]
          },
          "metadata": {},
          "execution_count": 5
        }
      ]
    },
    {
      "cell_type": "code",
      "metadata": {
        "colab": {
          "base_uri": "https://localhost:8080/",
          "height": 206
        },
        "id": "369415c2",
        "outputId": "5eb67523-a810-45ff-ae22-58386fc420a4"
      },
      "source": [
        "# Import data\n",
        " \n",
        "df1 = pd.read_csv('/content/drive/MyDrive/labeled_data.csv', delimiter=',') \n",
        "df1.head()"
      ],
      "id": "369415c2",
      "execution_count": 6,
      "outputs": [
        {
          "output_type": "execute_result",
          "data": {
            "text/html": [
              "<div>\n",
              "<style scoped>\n",
              "    .dataframe tbody tr th:only-of-type {\n",
              "        vertical-align: middle;\n",
              "    }\n",
              "\n",
              "    .dataframe tbody tr th {\n",
              "        vertical-align: top;\n",
              "    }\n",
              "\n",
              "    .dataframe thead th {\n",
              "        text-align: right;\n",
              "    }\n",
              "</style>\n",
              "<table border=\"1\" class=\"dataframe\">\n",
              "  <thead>\n",
              "    <tr style=\"text-align: right;\">\n",
              "      <th></th>\n",
              "      <th>Unnamed: 0</th>\n",
              "      <th>count</th>\n",
              "      <th>hate_speech</th>\n",
              "      <th>offensive_language</th>\n",
              "      <th>neither</th>\n",
              "      <th>class</th>\n",
              "      <th>tweet</th>\n",
              "    </tr>\n",
              "  </thead>\n",
              "  <tbody>\n",
              "    <tr>\n",
              "      <th>0</th>\n",
              "      <td>0</td>\n",
              "      <td>3</td>\n",
              "      <td>0</td>\n",
              "      <td>0</td>\n",
              "      <td>3</td>\n",
              "      <td>2</td>\n",
              "      <td>!!! RT @mayasolovely: As a woman you shouldn't...</td>\n",
              "    </tr>\n",
              "    <tr>\n",
              "      <th>1</th>\n",
              "      <td>1</td>\n",
              "      <td>3</td>\n",
              "      <td>0</td>\n",
              "      <td>3</td>\n",
              "      <td>0</td>\n",
              "      <td>1</td>\n",
              "      <td>!!!!! RT @mleew17: boy dats cold...tyga dwn ba...</td>\n",
              "    </tr>\n",
              "    <tr>\n",
              "      <th>2</th>\n",
              "      <td>2</td>\n",
              "      <td>3</td>\n",
              "      <td>0</td>\n",
              "      <td>3</td>\n",
              "      <td>0</td>\n",
              "      <td>1</td>\n",
              "      <td>!!!!!!! RT @UrKindOfBrand Dawg!!!! RT @80sbaby...</td>\n",
              "    </tr>\n",
              "    <tr>\n",
              "      <th>3</th>\n",
              "      <td>3</td>\n",
              "      <td>3</td>\n",
              "      <td>0</td>\n",
              "      <td>2</td>\n",
              "      <td>1</td>\n",
              "      <td>1</td>\n",
              "      <td>!!!!!!!!! RT @C_G_Anderson: @viva_based she lo...</td>\n",
              "    </tr>\n",
              "    <tr>\n",
              "      <th>4</th>\n",
              "      <td>4</td>\n",
              "      <td>6</td>\n",
              "      <td>0</td>\n",
              "      <td>6</td>\n",
              "      <td>0</td>\n",
              "      <td>1</td>\n",
              "      <td>!!!!!!!!!!!!! RT @ShenikaRoberts: The shit you...</td>\n",
              "    </tr>\n",
              "  </tbody>\n",
              "</table>\n",
              "</div>"
            ],
            "text/plain": [
              "   Unnamed: 0  count  ...  class                                              tweet\n",
              "0           0      3  ...      2  !!! RT @mayasolovely: As a woman you shouldn't...\n",
              "1           1      3  ...      1  !!!!! RT @mleew17: boy dats cold...tyga dwn ba...\n",
              "2           2      3  ...      1  !!!!!!! RT @UrKindOfBrand Dawg!!!! RT @80sbaby...\n",
              "3           3      3  ...      1  !!!!!!!!! RT @C_G_Anderson: @viva_based she lo...\n",
              "4           4      6  ...      1  !!!!!!!!!!!!! RT @ShenikaRoberts: The shit you...\n",
              "\n",
              "[5 rows x 7 columns]"
            ]
          },
          "metadata": {},
          "execution_count": 6
        }
      ]
    },
    {
      "cell_type": "code",
      "metadata": {
        "id": "5f2cf2c8"
      },
      "source": [
        "# ok = df1[df1['class']==2]\n",
        "# tweet0 = ok['tweet']\n",
        "\n",
        "# not_ok = df1[df1['class']!=2]\n",
        "# tweet1 = not_ok['tweet']"
      ],
      "id": "5f2cf2c8",
      "execution_count": 6,
      "outputs": []
    },
    {
      "cell_type": "code",
      "metadata": {
        "colab": {
          "base_uri": "https://localhost:8080/",
          "height": 206
        },
        "id": "vewn4lxjntM5",
        "outputId": "6ffff474-2bfb-4f2f-fad7-f2714eb76c42"
      },
      "source": [
        "selected_columns = df1[[\"tweet\",\"class\"]]\n",
        "\n",
        "df = selected_columns.copy()\n",
        "\n",
        "df.rename(columns = {'class': 'Hsbinary'}, inplace = True)\n",
        "\n",
        "df['Hsbinary']=df['Hsbinary'].replace(0,'off', regex=True)\n",
        "df['Hsbinary']=df['Hsbinary'].replace(1,'off', regex=True)\n",
        "df['Hsbinary']=df['Hsbinary'].replace(2,'ok', regex=True)\n",
        "\n",
        "df['Hsbinary']=df['Hsbinary'].replace('off',1, regex=True)\n",
        "df['Hsbinary']=df['Hsbinary'].replace('ok',0, regex=True)\n",
        "\n",
        "df.head()"
      ],
      "id": "vewn4lxjntM5",
      "execution_count": 7,
      "outputs": [
        {
          "output_type": "execute_result",
          "data": {
            "text/html": [
              "<div>\n",
              "<style scoped>\n",
              "    .dataframe tbody tr th:only-of-type {\n",
              "        vertical-align: middle;\n",
              "    }\n",
              "\n",
              "    .dataframe tbody tr th {\n",
              "        vertical-align: top;\n",
              "    }\n",
              "\n",
              "    .dataframe thead th {\n",
              "        text-align: right;\n",
              "    }\n",
              "</style>\n",
              "<table border=\"1\" class=\"dataframe\">\n",
              "  <thead>\n",
              "    <tr style=\"text-align: right;\">\n",
              "      <th></th>\n",
              "      <th>tweet</th>\n",
              "      <th>Hsbinary</th>\n",
              "    </tr>\n",
              "  </thead>\n",
              "  <tbody>\n",
              "    <tr>\n",
              "      <th>0</th>\n",
              "      <td>!!! RT @mayasolovely: As a woman you shouldn't...</td>\n",
              "      <td>0</td>\n",
              "    </tr>\n",
              "    <tr>\n",
              "      <th>1</th>\n",
              "      <td>!!!!! RT @mleew17: boy dats cold...tyga dwn ba...</td>\n",
              "      <td>1</td>\n",
              "    </tr>\n",
              "    <tr>\n",
              "      <th>2</th>\n",
              "      <td>!!!!!!! RT @UrKindOfBrand Dawg!!!! RT @80sbaby...</td>\n",
              "      <td>1</td>\n",
              "    </tr>\n",
              "    <tr>\n",
              "      <th>3</th>\n",
              "      <td>!!!!!!!!! RT @C_G_Anderson: @viva_based she lo...</td>\n",
              "      <td>1</td>\n",
              "    </tr>\n",
              "    <tr>\n",
              "      <th>4</th>\n",
              "      <td>!!!!!!!!!!!!! RT @ShenikaRoberts: The shit you...</td>\n",
              "      <td>1</td>\n",
              "    </tr>\n",
              "  </tbody>\n",
              "</table>\n",
              "</div>"
            ],
            "text/plain": [
              "                                               tweet  Hsbinary\n",
              "0  !!! RT @mayasolovely: As a woman you shouldn't...         0\n",
              "1  !!!!! RT @mleew17: boy dats cold...tyga dwn ba...         1\n",
              "2  !!!!!!! RT @UrKindOfBrand Dawg!!!! RT @80sbaby...         1\n",
              "3  !!!!!!!!! RT @C_G_Anderson: @viva_based she lo...         1\n",
              "4  !!!!!!!!!!!!! RT @ShenikaRoberts: The shit you...         1"
            ]
          },
          "metadata": {},
          "execution_count": 7
        }
      ]
    },
    {
      "cell_type": "markdown",
      "metadata": {
        "id": "4f89ac29"
      },
      "source": [
        "1. Use any of the hate speech/cyberbullying databases maintained at http://hatespeechdata.com/. In addition, there is two additional cyberbullying datasets available at https://github.com/saroarjahan/Negation_project/, AskFm and FormSpring, which can be used as well. We would like to investigate the structure of the dataset in terms of the categories present. Consider the subclass S1 of hate/cyberbullying content and subclass S2 of non-abusive content. Draw a word-cloud representation of S1 and S2 and explain the word features."
      ],
      "id": "4f89ac29"
    },
    {
      "cell_type": "code",
      "metadata": {
        "colab": {
          "base_uri": "https://localhost:8080/"
        },
        "id": "a2937bda",
        "outputId": "6fdcddcf-f24e-44f6-e720-3b08fb6ca756"
      },
      "source": [
        "df['Hsbinary'].value_counts()"
      ],
      "id": "a2937bda",
      "execution_count": 8,
      "outputs": [
        {
          "output_type": "execute_result",
          "data": {
            "text/plain": [
              "1    20620\n",
              "0     4163\n",
              "Name: Hsbinary, dtype: int64"
            ]
          },
          "metadata": {},
          "execution_count": 8
        }
      ]
    },
    {
      "cell_type": "code",
      "metadata": {
        "id": "a7922ea1"
      },
      "source": [
        "# Making subclasses S1: abusive content (class = 1), S2: non abusive content(class = 0)\n",
        "S1 = df[df['Hsbinary']==1]\n",
        "#S1.to_csv(\"not_ok.csv\")\n",
        "\n",
        "S2 = df[df['Hsbinary']==0]\n",
        "#S2.to_csv(\"ok.csv\")"
      ],
      "id": "a7922ea1",
      "execution_count": 9,
      "outputs": []
    },
    {
      "cell_type": "code",
      "metadata": {
        "id": "bd7d6304"
      },
      "source": [
        "#S1.head()\n",
        "#S2.head()"
      ],
      "id": "bd7d6304",
      "execution_count": 20,
      "outputs": []
    },
    {
      "cell_type": "code",
      "metadata": {
        "colab": {
          "base_uri": "https://localhost:8080/",
          "height": 198
        },
        "id": "b1916f4e",
        "outputId": "2a9f27bd-d121-4e5d-b108-940b089745a6"
      },
      "source": [
        "# Wordcloud 1: abusive\n",
        "text_S1 = \" \".join(t for t in S1.tweet)\n",
        "wordcloud = WordCloud().generate(text_S1)\n",
        "plt.imshow(wordcloud, interpolation='bilinear')\n",
        "plt.axis(\"off\")\n",
        "plt.show()"
      ],
      "id": "b1916f4e",
      "execution_count": 21,
      "outputs": [
        {
          "output_type": "display_data",
          "data": {
            "image/png": "[encoded data removed]",
            "text/plain": [
              "<Figure size 432x288 with 1 Axes>"
            ]
          },
          "metadata": {
            "needs_background": "light"
          }
        }
      ]
    },
    {
      "cell_type": "code",
      "metadata": {
        "colab": {
          "base_uri": "https://localhost:8080/",
          "height": 198
        },
        "id": "767328de",
        "outputId": "12f1c28b-d20c-48c9-dfcf-a95e2f6bd727"
      },
      "source": [
        "# Wordcloud 2: non abusive\n",
        "text_S2 = \" \".join(t for t in S2.tweet)\n",
        "wordcloud = WordCloud().generate(text_S2)\n",
        "plt.imshow(wordcloud, interpolation='bilinear')\n",
        "plt.axis(\"off\")\n",
        "plt.show()"
      ],
      "id": "767328de",
      "execution_count": 22,
      "outputs": [
        {
          "output_type": "display_data",
          "data": {
            "image/png": "[encoded data removed]",
            "text/plain": [
              "<Figure size 432x288 with 1 Axes>"
            ]
          },
          "metadata": {
            "needs_background": "light"
          }
        }
      ]
    },
    {
      "cell_type": "code",
      "metadata": {
        "id": "9b8ed50c"
      },
      "source": [
        "# split into training/ test data\n",
        "\n",
        "#X: Feature data\n",
        "X = df['tweet']\n",
        "\n",
        "#y: class\n",
        "y = df['Hsbinary']\n",
        "\n",
        "X_train, X_test, y_train, y_test = train_test_split(X, y, test_size=0.3, random_state=42)"
      ],
      "id": "9b8ed50c",
      "execution_count": 10,
      "outputs": []
    },
    {
      "cell_type": "code",
      "metadata": {
        "colab": {
          "base_uri": "https://localhost:8080/"
        },
        "id": "4398c074",
        "outputId": "c1d15d4f-7f51-4fa6-d946-fe50aed1fb67"
      },
      "source": [
        "# Pipeline: TF-IDF Vectorizer + LR Classifier , data before processing\n",
        "text_clf = Pipeline([('tfidf', TfidfVectorizer()),\n",
        "                     ('clf', LogisticRegression()),\n",
        "])\n",
        "\n",
        "#X_train = df_train['tweet_processed']\n",
        "text_clf.fit(X_train, y_train)\n",
        "\n",
        "# Form a prediction set\n",
        "predictions = text_clf.predict(X_test)\n",
        "\n",
        "# Report the confusion matrix\n",
        "from sklearn import metrics\n",
        "print(\"Confusion Matrix:  \\n\", metrics.confusion_matrix(y_test,predictions))\n",
        "\n",
        "# Print a classification report\n",
        "print(\"Classification Report:  \\n\", metrics.classification_report(y_test,predictions))\n",
        "\n",
        "#Accuracy Score\n",
        "print(\"Accuracy Score:  \" , metrics.accuracy_score(y_test, predictions))\n",
        "\n",
        "# F1 Score\n",
        "print(\"F1 Score:  \", metrics.f1_score(y_test, predictions))"
      ],
      "id": "4398c074",
      "execution_count": 15,
      "outputs": [
        {
          "output_type": "stream",
          "name": "stdout",
          "text": [
            "Confusion Matrix:  \n",
            " [[ 831  430]\n",
            " [ 126 6048]]\n",
            "Classification Report:  \n",
            "               precision    recall  f1-score   support\n",
            "\n",
            "           0       0.87      0.66      0.75      1261\n",
            "           1       0.93      0.98      0.96      6174\n",
            "\n",
            "    accuracy                           0.93      7435\n",
            "   macro avg       0.90      0.82      0.85      7435\n",
            "weighted avg       0.92      0.93      0.92      7435\n",
            "\n",
            "Accuracy Score:   0.9252185608607936\n",
            "F1 Score:   0.9560543787543471\n"
          ]
        }
      ]
    },
    {
      "cell_type": "markdown",
      "metadata": {
        "id": "fa5bdbbe"
      },
      "source": [
        "2.a. Perform dataset pre-processing examples stop-word removal, stemming, special character removal, emoji removal, number, hashtag, mention tag, etc. Report different preprocessing outcome and try to explain the results. "
      ],
      "id": "fa5bdbbe"
    },
    {
      "cell_type": "code",
      "metadata": {
        "id": "b757a861"
      },
      "source": [
        "df_train = pd.DataFrame(list(zip(X_train, y_train)), columns =['tweet', 'Hsbinary'])\n",
        "df_train.to_csv(\"train_raw.csv\")\n",
        "#files.download('train_raw.csv')\n",
        "\n",
        "df_test = pd.DataFrame(list(zip(X_test, y_test)), columns =['tweet', 'Hsbinary'])\n",
        "df_test.to_csv(\"test.csv\")\n",
        "#files.download('test.csv')"
      ],
      "id": "b757a861",
      "execution_count": 11,
      "outputs": []
    },
    {
      "cell_type": "code",
      "metadata": {
        "colab": {
          "base_uri": "https://localhost:8080/",
          "height": 206
        },
        "id": "xn3Gls0cr7Dv",
        "outputId": "35d732dc-b7bf-48b5-bdc3-11aa5758fed4"
      },
      "source": [
        "df_train.head()"
      ],
      "id": "xn3Gls0cr7Dv",
      "execution_count": 12,
      "outputs": [
        {
          "output_type": "execute_result",
          "data": {
            "text/html": [
              "<div>\n",
              "<style scoped>\n",
              "    .dataframe tbody tr th:only-of-type {\n",
              "        vertical-align: middle;\n",
              "    }\n",
              "\n",
              "    .dataframe tbody tr th {\n",
              "        vertical-align: top;\n",
              "    }\n",
              "\n",
              "    .dataframe thead th {\n",
              "        text-align: right;\n",
              "    }\n",
              "</style>\n",
              "<table border=\"1\" class=\"dataframe\">\n",
              "  <thead>\n",
              "    <tr style=\"text-align: right;\">\n",
              "      <th></th>\n",
              "      <th>tweet</th>\n",
              "      <th>Hsbinary</th>\n",
              "    </tr>\n",
              "  </thead>\n",
              "  <tbody>\n",
              "    <tr>\n",
              "      <th>0</th>\n",
              "      <td>Charlie Jacobs got confused about the ice buck...</td>\n",
              "      <td>0</td>\n",
              "    </tr>\n",
              "    <tr>\n",
              "      <th>1</th>\n",
              "      <td>@JuanNDaCut @ShareA40Ounce she playin pussy ho...</td>\n",
              "      <td>1</td>\n",
              "    </tr>\n",
              "    <tr>\n",
              "      <th>2</th>\n",
              "      <td>I be telling Mcgirt music ain't enough.You got...</td>\n",
              "      <td>1</td>\n",
              "    </tr>\n",
              "    <tr>\n",
              "      <th>3</th>\n",
              "      <td>@IHateStevenSing\\nI ain't to show bout dem col...</td>\n",
              "      <td>0</td>\n",
              "    </tr>\n",
              "    <tr>\n",
              "      <th>4</th>\n",
              "      <td>RT @blessedarti: Y'all claim you want a good &amp;...</td>\n",
              "      <td>1</td>\n",
              "    </tr>\n",
              "  </tbody>\n",
              "</table>\n",
              "</div>"
            ],
            "text/plain": [
              "                                               tweet  Hsbinary\n",
              "0  Charlie Jacobs got confused about the ice buck...         0\n",
              "1  @JuanNDaCut @ShareA40Ounce she playin pussy ho...         1\n",
              "2  I be telling Mcgirt music ain't enough.You got...         1\n",
              "3  @IHateStevenSing\\nI ain't to show bout dem col...         0\n",
              "4  RT @blessedarti: Y'all claim you want a good &...         1"
            ]
          },
          "metadata": {},
          "execution_count": 12
        }
      ]
    },
    {
      "cell_type": "code",
      "metadata": {
        "id": "b53b3785"
      },
      "source": [
        "# remove mention urls, tags and hashtags\n",
        "\n",
        "def clean1(txt):\n",
        "  cleantext = re.sub('@[A-Za-z0-9]+', '', txt)\n",
        "  return cleantext\n",
        "\n",
        "def clean2(txt):\n",
        "  cleantext = re.sub('#[A-Za-z0-9]+', '', txt)\n",
        "  return cleantext\n",
        "\n",
        "def clean3(txt):\n",
        "  cleantext = re.sub('http\\S+|www.\\S+', '', txt)\n",
        "  return cleantext"
      ],
      "id": "b53b3785",
      "execution_count": 13,
      "outputs": []
    },
    {
      "cell_type": "code",
      "metadata": {
        "id": "siEeGVsN9mKM"
      },
      "source": [
        "df_train['tweet_processed'] = df_train['tweet'].apply(lambda X: clean1(X))\n",
        "\n",
        "#df_train.head()"
      ],
      "id": "siEeGVsN9mKM",
      "execution_count": 14,
      "outputs": []
    },
    {
      "cell_type": "code",
      "metadata": {
        "id": "zJFFKFRs9q0V"
      },
      "source": [
        "df_train['tweet_processed'] = df_train['tweet_processed'].apply(lambda X: clean2(X))\n",
        "\n",
        "#df_train.head()"
      ],
      "id": "zJFFKFRs9q0V",
      "execution_count": 15,
      "outputs": []
    },
    {
      "cell_type": "code",
      "metadata": {
        "id": "802cZ1nG9te8"
      },
      "source": [
        "df_train['tweet_processed'] = df_train['tweet_processed'].apply(lambda X: clean3(X))\n",
        "\n",
        "#df_train.head()"
      ],
      "id": "802cZ1nG9te8",
      "execution_count": 16,
      "outputs": []
    },
    {
      "cell_type": "code",
      "metadata": {
        "id": "9a96d240"
      },
      "source": [
        "# Removing unnecessary whitespaces\n",
        "def remove_whitespace(text):\n",
        "    return  \" \".join(text.split())\n",
        "\n",
        "df_train['tweet_processed'] = df_train['tweet_processed'].apply(remove_whitespace)"
      ],
      "id": "9a96d240",
      "execution_count": 17,
      "outputs": []
    },
    {
      "cell_type": "code",
      "metadata": {
        "id": "ee3e5aab"
      },
      "source": [
        "# Tokenization\n",
        "df_train['tweet_processed'] = df_train['tweet_processed'].apply(lambda X: word_tokenize(X))"
      ],
      "id": "ee3e5aab",
      "execution_count": 18,
      "outputs": []
    },
    {
      "cell_type": "code",
      "metadata": {
        "id": "V8ULdlyX_hsV"
      },
      "source": [
        "# Remove proper nouns (not tested yet)\n",
        "\n",
        "df_train['pos']=df_train['tweet_processed'].apply(nltk.pos_tag)\n",
        "\n",
        "def prop_list(text):\n",
        "  prop_words = []\n",
        "  for (word, tag) in text:\n",
        "    if tag == 'NNP': \n",
        "      prop_words.append(word)\n",
        "  return prop_words\n",
        "  \n",
        "\n",
        "propw = df_train['pos'].apply(lambda X: prop_list(X))\n",
        "propn = [item for sublist in propw for item in sublist]\n",
        "#print(propn)\n",
        "\n",
        "def remove_prop(text):\n",
        "    result = []\n",
        "    for token in text:\n",
        "        if token not in propn:\n",
        "            result.append(token)\n",
        "    return result\n",
        "\n",
        "df_train['tweet_processed'] = df_train['tweet_processed'].apply(remove_prop)"
      ],
      "id": "V8ULdlyX_hsV",
      "execution_count": 19,
      "outputs": []
    },
    {
      "cell_type": "code",
      "metadata": {
        "colab": {
          "base_uri": "https://localhost:8080/",
          "height": 293
        },
        "id": "02PuHM-CXJPn",
        "outputId": "84abc970-6a40-47be-a486-e27067d0b4d6"
      },
      "source": [
        "df_train.head()"
      ],
      "id": "02PuHM-CXJPn",
      "execution_count": 20,
      "outputs": [
        {
          "output_type": "execute_result",
          "data": {
            "text/html": [
              "<div>\n",
              "<style scoped>\n",
              "    .dataframe tbody tr th:only-of-type {\n",
              "        vertical-align: middle;\n",
              "    }\n",
              "\n",
              "    .dataframe tbody tr th {\n",
              "        vertical-align: top;\n",
              "    }\n",
              "\n",
              "    .dataframe thead th {\n",
              "        text-align: right;\n",
              "    }\n",
              "</style>\n",
              "<table border=\"1\" class=\"dataframe\">\n",
              "  <thead>\n",
              "    <tr style=\"text-align: right;\">\n",
              "      <th></th>\n",
              "      <th>tweet</th>\n",
              "      <th>Hsbinary</th>\n",
              "      <th>tweet_processed</th>\n",
              "      <th>pos</th>\n",
              "    </tr>\n",
              "  </thead>\n",
              "  <tbody>\n",
              "    <tr>\n",
              "      <th>0</th>\n",
              "      <td>Charlie Jacobs got confused about the ice buck...</td>\n",
              "      <td>0</td>\n",
              "      <td>[got, confused, about, the, ice, bucket, chall...</td>\n",
              "      <td>[(Charlie, NNP), (Jacobs, NNP), (got, VBD), (c...</td>\n",
              "    </tr>\n",
              "    <tr>\n",
              "      <th>1</th>\n",
              "      <td>@JuanNDaCut @ShareA40Ounce she playin pussy ho...</td>\n",
              "      <td>1</td>\n",
              "      <td>[she, playin, hole, bingo, ., She, drawing, th...</td>\n",
              "      <td>[(she, PRP), (playin, VBD), (pussy, JJ), (hole...</td>\n",
              "    </tr>\n",
              "    <tr>\n",
              "      <th>2</th>\n",
              "      <td>I be telling Mcgirt music ain't enough.You got...</td>\n",
              "      <td>1</td>\n",
              "      <td>[I, be, telling, music, ai, n't, enough.You, g...</td>\n",
              "      <td>[(I, PRP), (be, VB), (telling, VBG), (Mcgirt, ...</td>\n",
              "    </tr>\n",
              "    <tr>\n",
              "      <th>3</th>\n",
              "      <td>@IHateStevenSing\\nI ain't to show bout dem col...</td>\n",
              "      <td>0</td>\n",
              "      <td>[I, ai, n't, to, show, bout, dem, colored, dia...</td>\n",
              "      <td>[(I, PRP), (ai, VBP), (n't, RB), (to, TO), (sh...</td>\n",
              "    </tr>\n",
              "    <tr>\n",
              "      <th>4</th>\n",
              "      <td>RT @blessedarti: Y'all claim you want a good &amp;...</td>\n",
              "      <td>1</td>\n",
              "      <td>[:, claim, you, want, a, good, &amp;, amp, ;, loya...</td>\n",
              "      <td>[(RT, NN), (:, :), (Y'all, JJ), (claim, NN), (...</td>\n",
              "    </tr>\n",
              "  </tbody>\n",
              "</table>\n",
              "</div>"
            ],
            "text/plain": [
              "                                               tweet  ...                                                pos\n",
              "0  Charlie Jacobs got confused about the ice buck...  ...  [(Charlie, NNP), (Jacobs, NNP), (got, VBD), (c...\n",
              "1  @JuanNDaCut @ShareA40Ounce she playin pussy ho...  ...  [(she, PRP), (playin, VBD), (pussy, JJ), (hole...\n",
              "2  I be telling Mcgirt music ain't enough.You got...  ...  [(I, PRP), (be, VB), (telling, VBG), (Mcgirt, ...\n",
              "3  @IHateStevenSing\\nI ain't to show bout dem col...  ...  [(I, PRP), (ai, VBP), (n't, RB), (to, TO), (sh...\n",
              "4  RT @blessedarti: Y'all claim you want a good &...  ...  [(RT, NN), (:, :), (Y'all, JJ), (claim, NN), (...\n",
              "\n",
              "[5 rows x 4 columns]"
            ]
          },
          "metadata": {},
          "execution_count": 20
        }
      ]
    },
    {
      "cell_type": "code",
      "metadata": {
        "id": "fbe77353"
      },
      "source": [
        "# OPTIONAL, TAKES A FEW MINS #########################\n",
        "\n",
        "# def spell_check(text):\n",
        "    \n",
        "#     result = []\n",
        "#     spell = SpellChecker()\n",
        "#     for word in text:\n",
        "#         correct_word = spell.correction(word)\n",
        "#         result.append(correct_word)\n",
        "    \n",
        "#     return result\n",
        "\n",
        "# df_train['tweet_processed'] = df_train['tweet_processed'].apply(spell_check)"
      ],
      "id": "fbe77353",
      "execution_count": 35,
      "outputs": []
    },
    {
      "cell_type": "code",
      "metadata": {
        "id": "d516c650"
      },
      "source": [
        "en_stopwords = stopwords.words('english')\n",
        "en_stopwords.remove('not')\n",
        "\n",
        "def remove_stopwords(text):\n",
        "    result = []\n",
        "    for token in text:\n",
        "        if token not in en_stopwords:\n",
        "            result.append(token)\n",
        "            \n",
        "    return result\n",
        "\n",
        "df_train['tweet_processed'] = df_train['tweet_processed'].apply(remove_stopwords)"
      ],
      "id": "d516c650",
      "execution_count": 21,
      "outputs": []
    },
    {
      "cell_type": "code",
      "metadata": {
        "id": "dcb467e7"
      },
      "source": [
        "# Stemming (keep?)\n",
        "\n",
        "def stemming(text):\n",
        "    porter = PorterStemmer()\n",
        "    \n",
        "    result=[]\n",
        "    for word in text:\n",
        "        result.append(porter.stem(word))\n",
        "    return result\n",
        "\n",
        "df_train['tweet_processed'] = df_train['tweet_processed'].apply(stemming)"
      ],
      "id": "dcb467e7",
      "execution_count": 22,
      "outputs": []
    },
    {
      "cell_type": "code",
      "metadata": {
        "id": "d8c3679e"
      },
      "source": [
        "# remove special characters and numbers\n",
        "\n",
        "def remove_punct(text):\n",
        "    \n",
        "    tokenizer = RegexpTokenizer(r\"\\w+\")\n",
        "    lst=tokenizer.tokenize(' '.join(text))\n",
        "    return lst\n",
        "\n",
        "df_train['tweet_processed'] = df_train['tweet_processed'].apply(remove_punct)"
      ],
      "id": "d8c3679e",
      "execution_count": 23,
      "outputs": []
    },
    {
      "cell_type": "code",
      "metadata": {
        "id": "8640396a",
        "colab": {
          "base_uri": "https://localhost:8080/"
        },
        "outputId": "b1a1ce81-d2f9-4630-b10a-438d168175ef"
      },
      "source": [
        "# Detokenization\n",
        "\n",
        "df_train['tweet_processed'] = df_train['tweet_processed'].apply(lambda X: TreebankWordDetokenizer().detokenize(X))\n",
        "df_train['tweet_processed'].head(10)"
      ],
      "id": "8640396a",
      "execution_count": 24,
      "outputs": [
        {
          "output_type": "execute_result",
          "data": {
            "text/plain": [
              "0    got confus ice bucket challeng instead dump bu...\n",
              "1               playin hole bingo she draw next number\n",
              "2    I tell music ai n t enough y gotta non music r...\n",
              "3    I ai n t show bout dem color diamond talk radi...\n",
              "4    claim want good amp loyal girl keep mess like ...\n",
              "5                        not bitch dont love give head\n",
              "6                       could n t wait till dress like\n",
              "7                                        gt food pussy\n",
              "8                                       comeback pussi\n",
              "9              _andrew thi bitch death grip nigga ball\n",
              "Name: tweet_processed, dtype: object"
            ]
          },
          "metadata": {},
          "execution_count": 24
        }
      ]
    },
    {
      "cell_type": "code",
      "metadata": {
        "id": "7c3cab0b"
      },
      "source": [
        "df_train['tweet_processed'].str.lower()"
      ],
      "id": "7c3cab0b",
      "execution_count": null,
      "outputs": []
    },
    {
      "cell_type": "code",
      "metadata": {
        "id": "4cHCJNXebsjl"
      },
      "source": [
        "X_train = df_train['tweet_processed']\n",
        "df_train_pro = pd.DataFrame(list(zip(X_train, y_train)), columns =['tweet', 'Hsbinary'])\n",
        "df_train_pro.to_csv(\"train_pro.csv\")\n",
        "#files.download('train_pro.csv')"
      ],
      "id": "4cHCJNXebsjl",
      "execution_count": 31,
      "outputs": []
    },
    {
      "cell_type": "markdown",
      "metadata": {
        "id": "675a3967"
      },
      "source": [
        "2.b. Use simple LR classifier and tf-idf as feature representation for different pre-processing performance comparisons. Use best pre-processing for rest of the  experiments."
      ],
      "id": "675a3967"
    },
    {
      "cell_type": "code",
      "metadata": {
        "colab": {
          "base_uri": "https://localhost:8080/"
        },
        "id": "17895f6b",
        "outputId": "1b785f3c-1d65-4813-e741-df949f7ebcb4"
      },
      "source": [
        "# Pipeline: TF-IDF Vectorizer + LR Classifier\n",
        "\n",
        "text_clf = Pipeline([('tfidf', TfidfVectorizer()),\n",
        "                     ('clf', LogisticRegression()),\n",
        "])\n",
        "\n",
        "X_train = df_train['tweet_processed']\n",
        "text_clf.fit(X_train, y_train)\n",
        "\n",
        "# Form a prediction set\n",
        "predictions = text_clf.predict(X_test)\n",
        "\n",
        "# Report the confusion matrix\n",
        "print(\"Confusion Matrix:  \\n\", metrics.confusion_matrix(y_test,predictions))\n",
        "\n",
        "# Print a classification report\n",
        "print(\"Classification Report:  \\n\", metrics.classification_report(y_test,predictions))\n",
        "\n",
        "#Accuracy Score\n",
        "print(\"Accuracy Score:  \" , metrics.accuracy_score(y_test, predictions))\n",
        "\n",
        "# F1 Score\n",
        "print(\"F1 Score:  \", metrics.f1_score(y_test, predictions))"
      ],
      "id": "17895f6b",
      "execution_count": 40,
      "outputs": [
        {
          "output_type": "stream",
          "name": "stdout",
          "text": [
            "Confusion Matrix:  \n",
            " [[ 808  453]\n",
            " [ 217 5957]]\n",
            "Classification Report:  \n",
            "               precision    recall  f1-score   support\n",
            "\n",
            "           0       0.79      0.64      0.71      1261\n",
            "           1       0.93      0.96      0.95      6174\n",
            "\n",
            "    accuracy                           0.91      7435\n",
            "   macro avg       0.86      0.80      0.83      7435\n",
            "weighted avg       0.91      0.91      0.91      7435\n",
            "\n",
            "Accuracy Score:   0.9098856758574311\n",
            "F1 Score:   0.9467577876668786\n"
          ]
        }
      ]
    },
    {
      "cell_type": "code",
      "metadata": {
        "id": "67811408"
      },
      "source": [
        ""
      ],
      "id": "67811408",
      "execution_count": 40,
      "outputs": []
    },
    {
      "cell_type": "code",
      "metadata": {
        "id": "88a0350f"
      },
      "source": [
        ""
      ],
      "id": "88a0350f",
      "execution_count": 40,
      "outputs": []
    },
    {
      "cell_type": "markdown",
      "metadata": {
        "id": "d46d3bf3"
      },
      "source": [
        "3. Perform Sentiment analysis of each of the posts and get positive, negative, or neutral scores. You can use sentiment Vader (https://github.com/cjhutto/vaderSentiment). Use this sentiment score as a feature and report classification Accuracy and F1 score by using simple Logistic Regression as classifier and sentiment score as a feature. Dou you think sentiment analysis can be used as feature? "
      ],
      "id": "d46d3bf3"
    },
    {
      "cell_type": "code",
      "metadata": {
        "colab": {
          "base_uri": "https://localhost:8080/"
        },
        "id": "c928ed84",
        "outputId": "25183a06-72da-4435-c48e-b249619be313"
      },
      "source": [
        "# VADER, raw data + evaluation\n",
        " \n",
        "sid = SentimentIntensityAnalyzer()\n",
        "   \n",
        "df_train['scores'] = df_train['tweet'].apply(lambda t: sid.polarity_scores(t))\n",
        "\n",
        "df_train['compound']  = df_train['scores'].apply(lambda score_dict: score_dict['compound'])\n",
        "\n",
        "df_train['comp_score'] = df_train['compound'].apply(lambda c: 0 if c >=0 else 1)\n",
        "\n",
        "#df_train.head(10) \n",
        "\n",
        "\n",
        "print(\"Confusion Matrix:  \\n\", metrics.confusion_matrix(df_train['Hsbinary'],df_train['comp_score']))\n",
        "\n",
        "# Print a classification report\n",
        "print(\"Classification Report:  \\n\", metrics.classification_report(df_train['Hsbinary'],df_train['comp_score']))\n",
        "\n",
        "#Accuracy Score\n",
        "print(\"Accuracy Score:  \" , metrics.accuracy_score(df_train['Hsbinary'],df_train['comp_score']))\n",
        "\n",
        "# F1 Score\n",
        "print(\"F1 Score:  \", metrics.f1_score(df_train['Hsbinary'],df_train['comp_score']))"
      ],
      "id": "c928ed84",
      "execution_count": 41,
      "outputs": [
        {
          "output_type": "stream",
          "name": "stdout",
          "text": [
            "Confusion Matrix:  \n",
            " [[2155  747]\n",
            " [4669 9777]]\n",
            "Classification Report:  \n",
            "               precision    recall  f1-score   support\n",
            "\n",
            "           0       0.32      0.74      0.44      2902\n",
            "           1       0.93      0.68      0.78     14446\n",
            "\n",
            "    accuracy                           0.69     17348\n",
            "   macro avg       0.62      0.71      0.61     17348\n",
            "weighted avg       0.83      0.69      0.73     17348\n",
            "\n",
            "Accuracy Score:   0.6878026285450772\n",
            "F1 Score:   0.7830997196635963\n"
          ]
        }
      ]
    },
    {
      "cell_type": "code",
      "metadata": {
        "colab": {
          "base_uri": "https://localhost:8080/"
        },
        "id": "8b97d88e",
        "outputId": "1a485c4d-1369-4f04-d9ff-bb70e4fe93cc"
      },
      "source": [
        "# VADER, processed data\n",
        " \n",
        "sid = SentimentIntensityAnalyzer()\n",
        "   \n",
        "df_train['scores'] = df_train['tweet_processed'].apply(lambda t: sid.polarity_scores(t))\n",
        "\n",
        "df_train['compound']  = df_train['scores'].apply(lambda score_dict: score_dict['compound'])\n",
        "\n",
        "df_train['comp_score'] = df_train['compound'].apply(lambda c: 0 if c >=0 else 1)\n",
        "\n",
        "#df_train.head(10)   \n",
        "\n",
        "print(\"Confusion Matrix:  \\n\", metrics.confusion_matrix(df_train['Hsbinary'],df_train['comp_score']))\n",
        "\n",
        "# Print a classification report\n",
        "print(\"Classification Report:  \\n\", metrics.classification_report(df_train['Hsbinary'],df_train['comp_score']))\n",
        "\n",
        "#Accuracy Score\n",
        "print(\"Accuracy Score:  \" , metrics.accuracy_score(df_train['Hsbinary'],df_train['comp_score']))\n",
        "\n",
        "# F1 Score\n",
        "print(\"F1 Score:  \", metrics.f1_score(df_train['Hsbinary'],df_train['comp_score']))"
      ],
      "id": "8b97d88e",
      "execution_count": 42,
      "outputs": [
        {
          "output_type": "stream",
          "name": "stdout",
          "text": [
            "Confusion Matrix:  \n",
            " [[2257  645]\n",
            " [4584 9862]]\n",
            "Classification Report:  \n",
            "               precision    recall  f1-score   support\n",
            "\n",
            "           0       0.33      0.78      0.46      2902\n",
            "           1       0.94      0.68      0.79     14446\n",
            "\n",
            "    accuracy                           0.70     17348\n",
            "   macro avg       0.63      0.73      0.63     17348\n",
            "weighted avg       0.84      0.70      0.74     17348\n",
            "\n",
            "Accuracy Score:   0.6985819691030667\n",
            "F1 Score:   0.7904460385524787\n"
          ]
        }
      ]
    },
    {
      "cell_type": "code",
      "metadata": {
        "id": "9324a572"
      },
      "source": [
        ""
      ],
      "id": "9324a572",
      "execution_count": 42,
      "outputs": []
    },
    {
      "cell_type": "markdown",
      "metadata": {
        "id": "b6cfb77d"
      },
      "source": [
        "4. Run classification with LR and tf-itdf as a baseline model so that you can compare the result with other state-of-the-art practices. Study the implementation available at https://github.com/pinkeshbadjatiya/twitter-hatespeech of the paper \"Deep learning for hate speech detection Tweets\" by Pinkesh Badjatiya (www'17 proceedings, 2017) report result of the Accuracy and F1 score. Try to implement CNN+fastText architecture."
      ],
      "id": "b6cfb77d"
    },
    {
      "cell_type": "code",
      "metadata": {
        "id": "opEg7nsVm93O"
      },
      "source": [
        "#X_train, X_test, y_train, y_test = train_test_split(X, y, test_size=0.3, random_state=42)\n",
        "#X_train = df_train['tweet_processed'] \n",
        "\n",
        "\n",
        "############ SPECIAL CASE: Imbalanced data: Resample (didn't work)\n",
        "# from sklearn.utils import resample\n",
        "# Offensive = df_train[df_train['Hsbinary']==1]\n",
        "# Okay = df_train[df_train['Hsbinary']==0]\n",
        "\n",
        "# Off_upsampled = resample(Offensive,\n",
        "#                replace=True,\n",
        "#                n_samples=len(Okay),\n",
        "#                random_state=42)\n",
        "\n",
        "# upsampled = pd.concat([Okay, Off_upsampled])\n",
        "# X_train = upsampled['tweet_processed'] \n",
        "# y_train = upsampled['Hsbinary'] "
      ],
      "id": "opEg7nsVm93O",
      "execution_count": 43,
      "outputs": []
    },
    {
      "cell_type": "code",
      "metadata": {
        "id": "4398e618"
      },
      "source": [
        "# Data Format\n",
        "\n",
        "tokenizer = Tokenizer(num_words=5000)\n",
        "tokenizer.fit_on_texts(X_train)\n",
        "\n",
        "x_train = tokenizer.texts_to_sequences(X_train) # encoding\n",
        "x_test = tokenizer.texts_to_sequences(X_test)\n",
        "\n",
        "vocab_size = len(tokenizer.word_index) + 1"
      ],
      "id": "4398e618",
      "execution_count": 44,
      "outputs": []
    },
    {
      "cell_type": "code",
      "metadata": {
        "id": "bdc8a903"
      },
      "source": [
        "# Pad Sequences\n",
        "\n",
        "maxlen = 300\n",
        "\n",
        "X_train = pad_sequences(x_train, padding='post', maxlen=maxlen)\n",
        "X_test = pad_sequences(x_test, padding='post', maxlen=maxlen)"
      ],
      "id": "bdc8a903",
      "execution_count": 45,
      "outputs": []
    },
    {
      "cell_type": "code",
      "metadata": {
        "colab": {
          "base_uri": "https://localhost:8080/"
        },
        "id": "0ce4c990",
        "outputId": "2d7fca64-c356-4575-bc4e-b61b92ffaf90"
      },
      "source": [
        "# Model 1 (random)\n",
        "embedding_dim = 50\n",
        "\n",
        "model = Sequential()\n",
        "model.add(layers.Embedding(input_dim=vocab_size, \n",
        "                           output_dim=embedding_dim, \n",
        "                           input_length=maxlen))\n",
        "model.add(layers.Flatten())\n",
        "model.add(layers.Dense(10, activation='relu'))\n",
        "model.add(layers.Dense(1, activation='sigmoid')) #trying 2 instead of 1\n",
        "model.compile(optimizer='adam',\n",
        "              loss='binary_crossentropy',\n",
        "              metrics=['accuracy'])\n",
        "model.summary()\n"
      ],
      "id": "0ce4c990",
      "execution_count": 49,
      "outputs": [
        {
          "output_type": "stream",
          "name": "stdout",
          "text": [
            "Model: \"sequential_1\"\n",
            "_________________________________________________________________\n",
            "Layer (type)                 Output Shape              Param #   \n",
            "=================================================================\n",
            "embedding (Embedding)        (None, 300, 50)           692000    \n",
            "_________________________________________________________________\n",
            "flatten (Flatten)            (None, 15000)             0         \n",
            "_________________________________________________________________\n",
            "dense (Dense)                (None, 10)                150010    \n",
            "_________________________________________________________________\n",
            "dense_1 (Dense)              (None, 1)                 11        \n",
            "=================================================================\n",
            "Total params: 842,021\n",
            "Trainable params: 842,021\n",
            "Non-trainable params: 0\n",
            "_________________________________________________________________\n"
          ]
        }
      ]
    },
    {
      "cell_type": "code",
      "metadata": {
        "colab": {
          "base_uri": "https://localhost:8080/"
        },
        "id": "e847db2b",
        "outputId": "d87ff8a7-8f43-4279-9d57-57a1284867d1"
      },
      "source": [
        "history = model.fit(X_train, y_train,\n",
        "                    epochs=10,\n",
        "                    verbose=2,\n",
        "                    #class_weight= class_weight,\n",
        "                    validation_data=(X_test, y_test),\n",
        "                    batch_size=10)\n",
        "loss, accuracy = model.evaluate(X_train, y_train, verbose=2)\n",
        "print(\"Training Accuracy: {:.4f}\".format(accuracy))\n",
        "loss, accuracy = model.evaluate(X_test, y_test, verbose=2)\n",
        "print(\"Testing Accuracy:  {:.4f}\".format(accuracy))"
      ],
      "id": "e847db2b",
      "execution_count": 50,
      "outputs": [
        {
          "output_type": "stream",
          "name": "stdout",
          "text": [
            "Epoch 1/10\n",
            "1735/1735 - 11s - loss: 0.2112 - accuracy: 0.9165 - val_loss: 0.2401 - val_accuracy: 0.8937\n",
            "Epoch 2/10\n",
            "1735/1735 - 8s - loss: 0.1203 - accuracy: 0.9607 - val_loss: 0.2163 - val_accuracy: 0.9048\n",
            "Epoch 3/10\n",
            "1735/1735 - 8s - loss: 0.0869 - accuracy: 0.9726 - val_loss: 0.2313 - val_accuracy: 0.9064\n",
            "Epoch 4/10\n",
            "1735/1735 - 8s - loss: 0.0598 - accuracy: 0.9813 - val_loss: 0.2374 - val_accuracy: 0.9128\n",
            "Epoch 5/10\n",
            "1735/1735 - 8s - loss: 0.0389 - accuracy: 0.9886 - val_loss: 0.2859 - val_accuracy: 0.9076\n",
            "Epoch 6/10\n",
            "1735/1735 - 7s - loss: 0.0231 - accuracy: 0.9930 - val_loss: 0.3012 - val_accuracy: 0.9098\n",
            "Epoch 7/10\n",
            "1735/1735 - 8s - loss: 0.0123 - accuracy: 0.9959 - val_loss: 0.3474 - val_accuracy: 0.9069\n",
            "Epoch 8/10\n",
            "1735/1735 - 8s - loss: 0.0083 - accuracy: 0.9978 - val_loss: 0.5167 - val_accuracy: 0.8819\n",
            "Epoch 9/10\n",
            "1735/1735 - 8s - loss: 0.0059 - accuracy: 0.9983 - val_loss: 0.4566 - val_accuracy: 0.9022\n",
            "Epoch 10/10\n",
            "1735/1735 - 7s - loss: 0.0059 - accuracy: 0.9980 - val_loss: 0.4698 - val_accuracy: 0.9014\n",
            "543/543 - 1s - loss: 0.0026 - accuracy: 0.9989\n",
            "Training Accuracy: 0.9989\n",
            "233/233 - 0s - loss: 0.4698 - accuracy: 0.9014\n",
            "Testing Accuracy:  0.9014\n"
          ]
        }
      ]
    },
    {
      "cell_type": "code",
      "metadata": {
        "colab": {
          "base_uri": "https://localhost:8080/"
        },
        "id": "FI6m_a8Nc0_f",
        "outputId": "c4e1da99-1226-4e57-fd36-8e2565c728e7"
      },
      "source": [
        "y_pred1 = model.predict(X_test)\n",
        "y_pred = np.argmax(y_pred1, axis=1)\n",
        "\n",
        "# Print f1, precision, and recall scores\n",
        "print('Precision = ', precision_score(y_test, y_pred , average=\"macro\")) # !!!!!!!!!!!!\n",
        "print('Recall = ', recall_score(y_test, y_pred , average=\"macro\"))\n",
        "print('F1 Score = ', f1_score(y_test, y_pred , average=\"macro\"))"
      ],
      "id": "FI6m_a8Nc0_f",
      "execution_count": 51,
      "outputs": [
        {
          "output_type": "stream",
          "name": "stdout",
          "text": [
            "Precision =  0.0848016139878951\n",
            "Recall =  0.5\n",
            "F1 Score =  0.14500919963201472\n"
          ]
        },
        {
          "output_type": "stream",
          "name": "stderr",
          "text": [
            "/usr/local/lib/python3.7/dist-packages/sklearn/metrics/_classification.py:1272: UndefinedMetricWarning: Precision is ill-defined and being set to 0.0 in labels with no predicted samples. Use `zero_division` parameter to control this behavior.\n",
            "  _warn_prf(average, modifier, msg_start, len(result))\n"
          ]
        }
      ]
    },
    {
      "cell_type": "code",
      "metadata": {
        "id": "7aKZaDBf5ObS",
        "colab": {
          "base_uri": "https://localhost:8080/"
        },
        "outputId": "f63c6e0d-a689-46f5-a4d7-9f0d00a50c13"
      },
      "source": [
        "set(y_test) - set(y_pred) # !!!!!!!!!!!! "
      ],
      "id": "7aKZaDBf5ObS",
      "execution_count": 52,
      "outputs": [
        {
          "output_type": "execute_result",
          "data": {
            "text/plain": [
              "{1}"
            ]
          },
          "metadata": {},
          "execution_count": 52
        }
      ]
    },
    {
      "cell_type": "code",
      "metadata": {
        "colab": {
          "base_uri": "https://localhost:8080/"
        },
        "id": "82a314bc",
        "outputId": "90a331e7-5863-4773-a3c9-d57f437da237"
      },
      "source": [
        "# MODEL 2\n",
        "\n",
        "embedding_dim = 50\n",
        "\n",
        "model = Sequential()\n",
        "model.add(layers.Embedding(input_dim=vocab_size, \n",
        "                           output_dim=embedding_dim, \n",
        "                           input_length=maxlen))\n",
        "model.add(layers.GlobalMaxPool1D())\n",
        "model.add(layers.Dense(10, activation='relu'))\n",
        "model.add(layers.Dense(1, activation='sigmoid'))\n",
        "model.compile(optimizer='adam',\n",
        "              loss='binary_crossentropy',\n",
        "              metrics=['accuracy'])\n",
        "model.summary()"
      ],
      "id": "82a314bc",
      "execution_count": 53,
      "outputs": [
        {
          "output_type": "stream",
          "name": "stdout",
          "text": [
            "Model: \"sequential_2\"\n",
            "_________________________________________________________________\n",
            "Layer (type)                 Output Shape              Param #   \n",
            "=================================================================\n",
            "embedding_1 (Embedding)      (None, 300, 50)           692000    \n",
            "_________________________________________________________________\n",
            "global_max_pooling1d (Global (None, 50)                0         \n",
            "_________________________________________________________________\n",
            "dense_2 (Dense)              (None, 10)                510       \n",
            "_________________________________________________________________\n",
            "dense_3 (Dense)              (None, 1)                 11        \n",
            "=================================================================\n",
            "Total params: 692,521\n",
            "Trainable params: 692,521\n",
            "Non-trainable params: 0\n",
            "_________________________________________________________________\n"
          ]
        }
      ]
    },
    {
      "cell_type": "code",
      "metadata": {
        "colab": {
          "base_uri": "https://localhost:8080/"
        },
        "id": "3940854b",
        "outputId": "e7a0909b-5ea6-4b79-e18e-92371d16f40f"
      },
      "source": [
        "history = model.fit(X_train, y_train,\n",
        "                    epochs=10,\n",
        "                    verbose=2,\n",
        "                    validation_data=(X_test, y_test),\n",
        "                    batch_size=10)\n",
        "loss, accuracy = model.evaluate(X_train, y_train, verbose=2)\n",
        "print(\"Training Accuracy: {:.4f}\".format(accuracy))\n",
        "loss, accuracy = model.evaluate(X_test, y_test, verbose=2)\n",
        "print(\"Testing Accuracy:  {:.4f}\".format(accuracy))\n",
        "#plot_history(history)"
      ],
      "id": "3940854b",
      "execution_count": 54,
      "outputs": [
        {
          "output_type": "stream",
          "name": "stdout",
          "text": [
            "Epoch 1/10\n",
            "1735/1735 - 9s - loss: 0.1830 - accuracy: 0.9234 - val_loss: 0.2451 - val_accuracy: 0.8963\n",
            "Epoch 2/10\n",
            "1735/1735 - 8s - loss: 0.0860 - accuracy: 0.9692 - val_loss: 0.1919 - val_accuracy: 0.9278\n",
            "Epoch 3/10\n",
            "1735/1735 - 8s - loss: 0.0587 - accuracy: 0.9807 - val_loss: 0.1848 - val_accuracy: 0.9287\n",
            "Epoch 4/10\n",
            "1735/1735 - 8s - loss: 0.0377 - accuracy: 0.9885 - val_loss: 0.2061 - val_accuracy: 0.9248\n",
            "Epoch 5/10\n",
            "1735/1735 - 8s - loss: 0.0239 - accuracy: 0.9926 - val_loss: 0.2345 - val_accuracy: 0.9227\n",
            "Epoch 6/10\n",
            "1735/1735 - 8s - loss: 0.0151 - accuracy: 0.9951 - val_loss: 0.2705 - val_accuracy: 0.9192\n",
            "Epoch 7/10\n",
            "1735/1735 - 8s - loss: 0.0101 - accuracy: 0.9969 - val_loss: 0.2962 - val_accuracy: 0.9177\n",
            "Epoch 8/10\n",
            "1735/1735 - 8s - loss: 0.0071 - accuracy: 0.9976 - val_loss: 0.3207 - val_accuracy: 0.9159\n",
            "Epoch 9/10\n",
            "1735/1735 - 8s - loss: 0.0059 - accuracy: 0.9979 - val_loss: 0.3357 - val_accuracy: 0.9161\n",
            "Epoch 10/10\n",
            "1735/1735 - 8s - loss: 0.0054 - accuracy: 0.9979 - val_loss: 0.3573 - val_accuracy: 0.9158\n",
            "543/543 - 1s - loss: 0.0029 - accuracy: 0.9987\n",
            "Training Accuracy: 0.9987\n",
            "233/233 - 0s - loss: 0.3573 - accuracy: 0.9158\n",
            "Testing Accuracy:  0.9158\n"
          ]
        }
      ]
    },
    {
      "cell_type": "code",
      "metadata": {
        "colab": {
          "base_uri": "https://localhost:8080/"
        },
        "id": "pKMwemiLhHCB",
        "outputId": "b8036789-3ea2-4dd8-b6f4-c4c4b33b7840"
      },
      "source": [
        "y_pred1 = model.predict(X_test)\n",
        "y_pred = np.argmax(y_pred1, axis=1)\n",
        "\n",
        "# Print f1, precision, and recall scores\n",
        "print('Precision = ', precision_score(y_test, y_pred , average=\"macro\"))\n",
        "print('Recall = ', recall_score(y_test, y_pred , average=\"macro\"))\n",
        "print('F1 Score = ', f1_score(y_test, y_pred , average=\"macro\"))"
      ],
      "id": "pKMwemiLhHCB",
      "execution_count": 55,
      "outputs": [
        {
          "output_type": "stream",
          "name": "stdout",
          "text": [
            "Precision =  0.0848016139878951\n",
            "Recall =  0.5\n",
            "F1 Score =  0.14500919963201472\n"
          ]
        },
        {
          "output_type": "stream",
          "name": "stderr",
          "text": [
            "/usr/local/lib/python3.7/dist-packages/sklearn/metrics/_classification.py:1272: UndefinedMetricWarning: Precision is ill-defined and being set to 0.0 in labels with no predicted samples. Use `zero_division` parameter to control this behavior.\n",
            "  _warn_prf(average, modifier, msg_start, len(result))\n"
          ]
        }
      ]
    },
    {
      "cell_type": "code",
      "metadata": {
        "colab": {
          "base_uri": "https://localhost:8080/"
        },
        "id": "qw5lv8AHp4Xk",
        "outputId": "4902463e-ba42-4509-b95b-921bf727bda7"
      },
      "source": [
        "set(y_test) - set(y_pred)"
      ],
      "id": "qw5lv8AHp4Xk",
      "execution_count": 56,
      "outputs": [
        {
          "output_type": "execute_result",
          "data": {
            "text/plain": [
              "{1}"
            ]
          },
          "metadata": {},
          "execution_count": 56
        }
      ]
    },
    {
      "cell_type": "code",
      "metadata": {
        "colab": {
          "base_uri": "https://localhost:8080/"
        },
        "id": "6c03fff9",
        "outputId": "fb32771a-dbeb-4a4e-c67c-fd97fb91afc2"
      },
      "source": [
        "# CNN\n",
        "\n",
        "embedding_dim = 100\n",
        "\n",
        "model = Sequential()\n",
        "model.add(layers.Embedding(vocab_size, embedding_dim, input_length=maxlen))\n",
        "model.add(layers.Conv1D(128, 5, activation='relu'))\n",
        "model.add(layers.GlobalMaxPooling1D())\n",
        "model.add(layers.Dense(10, activation='relu'))\n",
        "model.add(layers.Dense(1, activation='sigmoid'))\n",
        "model.compile(optimizer='adam',\n",
        "              loss='binary_crossentropy',\n",
        "              metrics=['accuracy'])\n",
        "model.summary()"
      ],
      "id": "6c03fff9",
      "execution_count": 57,
      "outputs": [
        {
          "output_type": "stream",
          "name": "stdout",
          "text": [
            "Model: \"sequential_3\"\n",
            "_________________________________________________________________\n",
            "Layer (type)                 Output Shape              Param #   \n",
            "=================================================================\n",
            "embedding_2 (Embedding)      (None, 300, 100)          1384000   \n",
            "_________________________________________________________________\n",
            "conv1d (Conv1D)              (None, 296, 128)          64128     \n",
            "_________________________________________________________________\n",
            "global_max_pooling1d_1 (Glob (None, 128)               0         \n",
            "_________________________________________________________________\n",
            "dense_4 (Dense)              (None, 10)                1290      \n",
            "_________________________________________________________________\n",
            "dense_5 (Dense)              (None, 1)                 11        \n",
            "=================================================================\n",
            "Total params: 1,449,429\n",
            "Trainable params: 1,449,429\n",
            "Non-trainable params: 0\n",
            "_________________________________________________________________\n"
          ]
        }
      ]
    },
    {
      "cell_type": "code",
      "metadata": {
        "colab": {
          "base_uri": "https://localhost:8080/"
        },
        "id": "e7adc077",
        "outputId": "210eaa50-e637-4d5d-9e3a-8a33742ed8b6"
      },
      "source": [
        "history = model.fit(X_train, y_train,\n",
        "                    epochs=20,\n",
        "                    verbose=2,\n",
        "                    validation_data=(X_test, y_test),\n",
        "                    batch_size=10)\n",
        "loss, accuracy = model.evaluate(X_train, y_train, verbose=2)\n",
        "print(\"Training Accuracy: {:.4f}\".format(accuracy))\n",
        "loss, accuracy = model.evaluate(X_test, y_test, verbose=2)\n",
        "print(\"Testing Accuracy:  {:.4f}\".format(accuracy))"
      ],
      "id": "e7adc077",
      "execution_count": 58,
      "outputs": [
        {
          "output_type": "stream",
          "name": "stdout",
          "text": [
            "Epoch 1/20\n",
            "1735/1735 - 39s - loss: 0.1502 - accuracy: 0.9386 - val_loss: 0.1777 - val_accuracy: 0.9243\n",
            "Epoch 2/20\n",
            "1735/1735 - 11s - loss: 0.0753 - accuracy: 0.9738 - val_loss: 0.1838 - val_accuracy: 0.9259\n",
            "Epoch 3/20\n",
            "1735/1735 - 11s - loss: 0.0362 - accuracy: 0.9875 - val_loss: 0.2813 - val_accuracy: 0.9141\n",
            "Epoch 4/20\n",
            "1735/1735 - 11s - loss: 0.0176 - accuracy: 0.9936 - val_loss: 0.3382 - val_accuracy: 0.9180\n",
            "Epoch 5/20\n",
            "1735/1735 - 11s - loss: 0.0087 - accuracy: 0.9968 - val_loss: 0.4147 - val_accuracy: 0.9114\n",
            "Epoch 6/20\n",
            "1735/1735 - 11s - loss: 0.0060 - accuracy: 0.9976 - val_loss: 0.4346 - val_accuracy: 0.9131\n",
            "Epoch 7/20\n",
            "1735/1735 - 11s - loss: 0.0047 - accuracy: 0.9979 - val_loss: 0.4679 - val_accuracy: 0.9173\n",
            "Epoch 8/20\n",
            "1735/1735 - 11s - loss: 0.0042 - accuracy: 0.9980 - val_loss: 0.5530 - val_accuracy: 0.9158\n",
            "Epoch 9/20\n",
            "1735/1735 - 11s - loss: 0.0036 - accuracy: 0.9983 - val_loss: 0.5716 - val_accuracy: 0.9118\n",
            "Epoch 10/20\n",
            "1735/1735 - 11s - loss: 0.0058 - accuracy: 0.9979 - val_loss: 0.5356 - val_accuracy: 0.9127\n",
            "Epoch 11/20\n",
            "1735/1735 - 11s - loss: 0.0037 - accuracy: 0.9982 - val_loss: 0.5981 - val_accuracy: 0.9141\n",
            "Epoch 12/20\n",
            "1735/1735 - 11s - loss: 0.0028 - accuracy: 0.9987 - val_loss: 0.7030 - val_accuracy: 0.9135\n",
            "Epoch 13/20\n",
            "1735/1735 - 11s - loss: 0.0028 - accuracy: 0.9985 - val_loss: 0.8190 - val_accuracy: 0.9180\n",
            "Epoch 14/20\n",
            "1735/1735 - 11s - loss: 0.0041 - accuracy: 0.9985 - val_loss: 0.7552 - val_accuracy: 0.9127\n",
            "Epoch 15/20\n",
            "1735/1735 - 11s - loss: 0.0036 - accuracy: 0.9985 - val_loss: 0.6385 - val_accuracy: 0.9145\n",
            "Epoch 16/20\n",
            "1735/1735 - 11s - loss: 0.0029 - accuracy: 0.9985 - val_loss: 0.7836 - val_accuracy: 0.9165\n",
            "Epoch 17/20\n",
            "1735/1735 - 11s - loss: 0.0025 - accuracy: 0.9990 - val_loss: 0.8258 - val_accuracy: 0.9171\n",
            "Epoch 18/20\n",
            "1735/1735 - 11s - loss: 0.0024 - accuracy: 0.9988 - val_loss: 1.0129 - val_accuracy: 0.9139\n",
            "Epoch 19/20\n",
            "1735/1735 - 11s - loss: 0.0020 - accuracy: 0.9990 - val_loss: 0.9319 - val_accuracy: 0.9139\n",
            "Epoch 20/20\n",
            "1735/1735 - 11s - loss: 0.0020 - accuracy: 0.9989 - val_loss: 0.8955 - val_accuracy: 0.9135\n",
            "543/543 - 2s - loss: 0.0018 - accuracy: 0.9990\n",
            "Training Accuracy: 0.9990\n",
            "233/233 - 1s - loss: 0.8956 - accuracy: 0.9135\n",
            "Testing Accuracy:  0.9135\n"
          ]
        }
      ]
    },
    {
      "cell_type": "code",
      "metadata": {
        "colab": {
          "base_uri": "https://localhost:8080/"
        },
        "id": "U7C8KaYghXWD",
        "outputId": "899b94af-4dba-4d46-9d92-4d1090591cb0"
      },
      "source": [
        "y_pred1 = model.predict(X_test)\n",
        "y_pred = np.argmax(y_pred1, axis=1)\n",
        "\n",
        "# Print f1, precision, and recall scores\n",
        "print('Precision = ', precision_score(y_test, y_pred , average=\"macro\"))\n",
        "print('Recall = ', recall_score(y_test, y_pred , average=\"macro\"))\n",
        "print('F1 Score = ', f1_score(y_test, y_pred , average=\"macro\"))"
      ],
      "id": "U7C8KaYghXWD",
      "execution_count": 59,
      "outputs": [
        {
          "output_type": "stream",
          "name": "stdout",
          "text": [
            "Precision =  0.0848016139878951\n",
            "Recall =  0.5\n",
            "F1 Score =  0.14500919963201472\n"
          ]
        },
        {
          "output_type": "stream",
          "name": "stderr",
          "text": [
            "/usr/local/lib/python3.7/dist-packages/sklearn/metrics/_classification.py:1272: UndefinedMetricWarning: Precision is ill-defined and being set to 0.0 in labels with no predicted samples. Use `zero_division` parameter to control this behavior.\n",
            "  _warn_prf(average, modifier, msg_start, len(result))\n"
          ]
        }
      ]
    },
    {
      "cell_type": "code",
      "metadata": {
        "id": "13f685b4"
      },
      "source": [
        ""
      ],
      "id": "13f685b4",
      "execution_count": 59,
      "outputs": []
    },
    {
      "cell_type": "code",
      "metadata": {
        "id": "ccf1d18c"
      },
      "source": [
        "####################### FastText #######################\n",
        "\n",
        "def create_ngram_set(input_list, ngram_value=2):\n",
        "    return set(zip(*[input_list[i:] for i in range(ngram_value)]))\n",
        "\n",
        "\n",
        "def add_ngram(sequences, token_indice, ngram_range=2):\n",
        "    new_sequences = []\n",
        "    for input_list in sequences:\n",
        "        new_list = input_list[:]\n",
        "        for ngram_value in range(2, ngram_range + 1):\n",
        "            for i in range(len(new_list) - ngram_value + 1):\n",
        "                ngram = tuple(new_list[i:i + ngram_value])\n",
        "                if ngram in token_indice:\n",
        "                    new_list.append(token_indice[ngram])\n",
        "        new_sequences.append(new_list)\n",
        "\n",
        "    return new_sequences\n",
        "\n",
        "# Set parameters:\n",
        "# ngram_range = 2 will add bi-grams features\n",
        "ngram_range = 2\n",
        "max_features = 20000\n",
        "maxlen = 400\n",
        "batch_size = 32\n",
        "embedding_dims = 50\n",
        "epochs = 5"
      ],
      "id": "ccf1d18c",
      "execution_count": 60,
      "outputs": []
    },
    {
      "cell_type": "code",
      "metadata": {
        "colab": {
          "base_uri": "https://localhost:8080/"
        },
        "id": "3437e81b",
        "outputId": "c585db22-1d5f-4864-8d8e-a1924b92ad8f"
      },
      "source": [
        "if ngram_range > 1:\n",
        "    print('Adding {}-gram features'.format(ngram_range))\n",
        "    # Create set of unique n-gram from the training set.\n",
        "    ngram_set = set()\n",
        "    \n",
        "    xtrain_lst =  X_train.tolist()\n",
        "    xtest_lst =  X_test.tolist()\n",
        "    \n",
        "    for input_list in xtrain_lst:\n",
        "        for i in range(2, ngram_range + 1):\n",
        "            set_of_ngram = create_ngram_set(input_list, ngram_value=i)\n",
        "            ngram_set.update(set_of_ngram)\n",
        "\n",
        "    # Dictionary mapping n-gram token to a unique integer.\n",
        "    # Integer values are greater than max_features in order\n",
        "    # to avoid collision with existing features.\n",
        "    start_index = max_features + 1\n",
        "    token_indice = {v: k + start_index for k, v in enumerate(ngram_set)}\n",
        "    indice_token = {token_indice[k]: k for k in token_indice}\n",
        "\n",
        "    # max_features is the highest integer that could be found in the dataset.\n",
        "    max_features = np.max(list(indice_token.keys())) + 1\n",
        "\n",
        "    # Augmenting x_train and x_test with n-grams features\n",
        "    x_train = add_ngram(xtrain_lst, token_indice, ngram_range)\n",
        "    x_test = add_ngram(xtest_lst, token_indice, ngram_range)\n",
        "    #print('Average train sequence length: {}'.format(\n",
        "    #    np.mean(list(map(len, x_train)), dtype=int)))\n",
        "    #print('Average test sequence length: {}'.format(\n",
        "    #    np.mean(list(map(len, x_test)), dtype=int)))\n",
        "\n",
        "print('Pad sequences (samples x time)')\n",
        "X_train = sequence.pad_sequences(x_train, maxlen=maxlen)\n",
        "X_test = sequence.pad_sequences(x_test, maxlen=maxlen)\n",
        "#print('x_train shape:', x_train.shape)\n",
        "#print('x_test shape:', x_test.shape)"
      ],
      "id": "3437e81b",
      "execution_count": 61,
      "outputs": [
        {
          "output_type": "stream",
          "name": "stdout",
          "text": [
            "Adding 2-gram features\n",
            "Pad sequences (samples x time)\n"
          ]
        }
      ]
    },
    {
      "cell_type": "code",
      "metadata": {
        "colab": {
          "base_uri": "https://localhost:8080/"
        },
        "id": "42c4379d",
        "outputId": "0230c7b0-7c74-4878-ae4c-1ceaa91c56e0"
      },
      "source": [
        "model = Sequential()\n",
        "\n",
        "model.add(Embedding(max_features,\n",
        "                    embedding_dims,\n",
        "                    input_length=maxlen))\n",
        "\n",
        "model.add(GlobalAveragePooling1D())\n",
        "model.add(Dense(1, activation='sigmoid'))\n",
        "model.compile(loss='binary_crossentropy',\n",
        "              optimizer='adam',\n",
        "              metrics=['accuracy'])\n",
        "\n",
        "model.summary()"
      ],
      "id": "42c4379d",
      "execution_count": 64,
      "outputs": [
        {
          "output_type": "stream",
          "name": "stdout",
          "text": [
            "Model: \"sequential_5\"\n",
            "_________________________________________________________________\n",
            "Layer (type)                 Output Shape              Param #   \n",
            "=================================================================\n",
            "embedding_4 (Embedding)      (None, 400, 50)           5044700   \n",
            "_________________________________________________________________\n",
            "global_average_pooling1d (Gl (None, 50)                0         \n",
            "_________________________________________________________________\n",
            "dense_6 (Dense)              (None, 1)                 51        \n",
            "=================================================================\n",
            "Total params: 5,044,751\n",
            "Trainable params: 5,044,751\n",
            "Non-trainable params: 0\n",
            "_________________________________________________________________\n"
          ]
        }
      ]
    },
    {
      "cell_type": "code",
      "metadata": {
        "colab": {
          "base_uri": "https://localhost:8080/"
        },
        "id": "814bd2e3",
        "outputId": "59cef226-b0f8-4c20-a44a-5405f73000cf"
      },
      "source": [
        "history = model.fit(X_train, y_train,\n",
        "          batch_size=batch_size,\n",
        "          epochs=epochs,\n",
        "          verbose=2,\n",
        "          validation_data=(X_test, y_test))\n",
        "\n",
        "loss, accuracy = model.evaluate(X_train, y_train, verbose=2)\n",
        "print(\"Training Accuracy: {:.4f}\".format(accuracy))\n",
        "loss, accuracy = model.evaluate(X_test, y_test, verbose=2)\n",
        "print(\"Testing Accuracy:  {:.4f}\".format(accuracy))"
      ],
      "id": "814bd2e3",
      "execution_count": 65,
      "outputs": [
        {
          "output_type": "stream",
          "name": "stdout",
          "text": [
            "Epoch 1/5\n",
            "543/543 - 5s - loss: 0.4709 - accuracy: 0.8317 - val_loss: 0.4550 - val_accuracy: 0.8304\n",
            "Epoch 2/5\n",
            "543/543 - 4s - loss: 0.4485 - accuracy: 0.8327 - val_loss: 0.4538 - val_accuracy: 0.8304\n",
            "Epoch 3/5\n",
            "543/543 - 4s - loss: 0.4452 - accuracy: 0.8327 - val_loss: 0.4525 - val_accuracy: 0.8304\n",
            "Epoch 4/5\n",
            "543/543 - 4s - loss: 0.4409 - accuracy: 0.8327 - val_loss: 0.4503 - val_accuracy: 0.8304\n",
            "Epoch 5/5\n",
            "543/543 - 4s - loss: 0.4346 - accuracy: 0.8327 - val_loss: 0.4482 - val_accuracy: 0.8304\n",
            "543/543 - 1s - loss: 0.4299 - accuracy: 0.8327\n",
            "Training Accuracy: 0.8327\n",
            "233/233 - 0s - loss: 0.4482 - accuracy: 0.8304\n",
            "Testing Accuracy:  0.8304\n"
          ]
        }
      ]
    },
    {
      "cell_type": "code",
      "metadata": {
        "colab": {
          "base_uri": "https://localhost:8080/"
        },
        "id": "90afa9d5",
        "outputId": "33dc288f-67b3-4dea-fe22-3357d4dc71fd"
      },
      "source": [
        "y_pred1 = model.predict(X_test)\n",
        "y_pred = np.argmax(y_pred1, axis=1)\n",
        "\n",
        "# Print f1, precision, and recall scores\n",
        "print('Precision = ', precision_score(y_test, y_pred , average=\"macro\"))\n",
        "print('Recall = ', recall_score(y_test, y_pred , average=\"macro\"))\n",
        "print('F1 Score = ', f1_score(y_test, y_pred , average=\"macro\"))"
      ],
      "id": "90afa9d5",
      "execution_count": 66,
      "outputs": [
        {
          "output_type": "stream",
          "name": "stdout",
          "text": [
            "Precision =  0.0848016139878951\n",
            "Recall =  0.5\n",
            "F1 Score =  0.14500919963201472\n"
          ]
        },
        {
          "output_type": "stream",
          "name": "stderr",
          "text": [
            "/usr/local/lib/python3.7/dist-packages/sklearn/metrics/_classification.py:1272: UndefinedMetricWarning: Precision is ill-defined and being set to 0.0 in labels with no predicted samples. Use `zero_division` parameter to control this behavior.\n",
            "  _warn_prf(average, modifier, msg_start, len(result))\n"
          ]
        }
      ]
    },
    {
      "cell_type": "markdown",
      "metadata": {
        "id": "2adea123"
      },
      "source": [
        "*****************************************************************************************************\n",
        "*****************************************************************************************************\n",
        "*****************************************************************************************************"
      ],
      "id": "2adea123"
    },
    {
      "cell_type": "markdown",
      "metadata": {
        "id": "5357bf8c"
      },
      "source": [
        "5. Run sate-of-the-art practices BERT model, example  BERT-base-uncased and BERT-multilingual, report both model Accuracy and F1 score. Scripts available on GitHub page https://github.com/saroarjahan/Negation_project/ . Student are open to experimenting with other BERT models, for example, BERT related specifically to hate. Different BERT models can be found here https://huggingface.co/models ."
      ],
      "id": "5357bf8c"
    },
    {
      "cell_type": "code",
      "metadata": {
        "colab": {
          "base_uri": "https://localhost:8080/",
          "height": 252,
          "referenced_widgets": [
            "1613ab0f835744c5a180799ca04689f2",
            "aadc13f14b484e4eb12c8ef6f50ec2c2",
            "eb9af74017414bc385df263100f7a602",
            "681c99a2f84e4262919b050e266554b4",
            "dc7ac22d92e544b6a44717f6b33d84ee",
            "996ad73c06ee498686d6976b72da49d8",
            "17c9e22ee1c343b78a26d4f83520d1f6",
            "40b2146abfc04af89f07191815806983",
            "0a80c71afcf74945baf6b97f7f829e6d",
            "60f701c09eb041a08ea6018fc78de7b3",
            "4fbf6265b55b4f79a38302ca5fb7560e",
            "8e93bc6cf47b412ea1a7b1453fe5d430",
            "24cd0e399af7440a928d815963a1b132",
            "14342e913ed242f88f5305c5e7ab7885",
            "9d91105d9b7541caafd019b990b89e27",
            "0f95841042014e1a9a7dfd6222928abe",
            "622059eb7ba143af9c9dad426239a6b3",
            "0f71b460d44046ef9aa3f06bc3d7c1b7",
            "841d9de3f9284d7da2e1436f117c0562",
            "f43b69eada894cdbbb6cb977f99b6aed",
            "337f76816fbd436cbfc9169c2272e2f3",
            "34f8d844239c4147978fa1e89c90b1b3",
            "bbfe99ee59554d5880b8930e495ea05e",
            "956b3a34de9640ed86b9e523f51d3607",
            "01300add3d0a4409af293e0f01afcae3",
            "80803634fb3843b2961851f3b1484eb7",
            "2270bc8f687d41de9f2b14cdd24d9982",
            "38b2edbfe0e94304a9bd39134183e8cb",
            "b8a1f41c8bf44e2fbce633162347d175",
            "7c058973b93740118cb1b013cc2b491e",
            "65cbdc9f7ada4e2bbc378236d5424da1",
            "dfae7ddc6f1c412ab0819aa5fc0e237e",
            "5f5e6b349f2340e4b32335dd7293d4ef",
            "3f1d660d6b194e55918827e4bcdf61e8",
            "01b75f80a7e846c8a11880ada388f614",
            "29521afbf9aa4d4cb3535124d6343812",
            "98350151cff24fb9b9114a6aac9210b9",
            "4f52f9a51e7241ca8e6c5429c0a9efbc",
            "553c26d92d62492689b3edd83c4b90cd",
            "8a223d7b19d94ca6bfbad4b549a18db8",
            "f0381eaccd644f109f27e8d43f949cf6",
            "471c58d9b6ff4b91883252b54e2cc523",
            "351d863242c146d3815cd03d3bb3b394",
            "2c9da2605acc4c0ba9d19503b6f38cac",
            "fb02ffceb3a742c5a03683756c242418",
            "baeef54199144edfacfdfd3d78939427",
            "8393d7c3c824449c98f2f9c504d6cbbd",
            "a31e6fb7040b4c1da0bfda3c031ff488",
            "729811579fd04c5395f2e0d535439c68",
            "ee2f7271ace14eaebb46de1b8e5e3555",
            "792b91cd46624619abd034ec6843e7b0",
            "1efe366638b149f0b010fd750acf5453",
            "57d6bf4f46ed4245b891770ec06ac49b",
            "e9d4618d7769471aa74395e7e2a2ca77",
            "07609ee2b7e742f29c0627fc8295e835"
          ]
        },
        "id": "22bpmMI1ZoGD",
        "outputId": "6457ce3d-7092-4052-acb2-f0304b87bbc9"
      },
      "source": [
        "tokenizer = transformers.BertTokenizer.from_pretrained('bert-base-multilingual-uncased')\n",
        "model = transformers.BertModel.from_pretrained(\"bert-base-multilingual-uncased\")"
      ],
      "id": "22bpmMI1ZoGD",
      "execution_count": 25,
      "outputs": [
        {
          "output_type": "display_data",
          "data": {
            "application/vnd.jupyter.widget-view+json": {
              "model_id": "1613ab0f835744c5a180799ca04689f2",
              "version_minor": 0,
              "version_major": 2
            },
            "text/plain": [
              "Downloading:   0%|          | 0.00/851k [00:00<?, ?B/s]"
            ]
          },
          "metadata": {}
        },
        {
          "output_type": "display_data",
          "data": {
            "application/vnd.jupyter.widget-view+json": {
              "model_id": "8e93bc6cf47b412ea1a7b1453fe5d430",
              "version_minor": 0,
              "version_major": 2
            },
            "text/plain": [
              "Downloading:   0%|          | 0.00/28.0 [00:00<?, ?B/s]"
            ]
          },
          "metadata": {}
        },
        {
          "output_type": "display_data",
          "data": {
            "application/vnd.jupyter.widget-view+json": {
              "model_id": "bbfe99ee59554d5880b8930e495ea05e",
              "version_minor": 0,
              "version_major": 2
            },
            "text/plain": [
              "Downloading:   0%|          | 0.00/1.64M [00:00<?, ?B/s]"
            ]
          },
          "metadata": {}
        },
        {
          "output_type": "display_data",
          "data": {
            "application/vnd.jupyter.widget-view+json": {
              "model_id": "3f1d660d6b194e55918827e4bcdf61e8",
              "version_minor": 0,
              "version_major": 2
            },
            "text/plain": [
              "Downloading:   0%|          | 0.00/625 [00:00<?, ?B/s]"
            ]
          },
          "metadata": {}
        },
        {
          "output_type": "display_data",
          "data": {
            "application/vnd.jupyter.widget-view+json": {
              "model_id": "fb02ffceb3a742c5a03683756c242418",
              "version_minor": 0,
              "version_major": 2
            },
            "text/plain": [
              "Downloading:   0%|          | 0.00/641M [00:00<?, ?B/s]"
            ]
          },
          "metadata": {}
        },
        {
          "output_type": "stream",
          "name": "stderr",
          "text": [
            "Some weights of the model checkpoint at bert-base-multilingual-uncased were not used when initializing BertModel: ['cls.predictions.transform.LayerNorm.weight', 'cls.predictions.bias', 'cls.predictions.transform.dense.bias', 'cls.predictions.decoder.weight', 'cls.predictions.transform.dense.weight', 'cls.seq_relationship.weight', 'cls.seq_relationship.bias', 'cls.predictions.transform.LayerNorm.bias']\n",
            "- This IS expected if you are initializing BertModel from the checkpoint of a model trained on another task or with another architecture (e.g. initializing a BertForSequenceClassification model from a BertForPreTraining model).\n",
            "- This IS NOT expected if you are initializing BertModel from the checkpoint of a model that you expect to be exactly identical (initializing a BertForSequenceClassification model from a BertForSequenceClassification model).\n"
          ]
        }
      ]
    },
    {
      "cell_type": "code",
      "metadata": {
        "id": "M8DrfYbsZoB9"
      },
      "source": [
        "model.eval()\n",
        "if torch.cuda.is_available():\n",
        "    model = model.cuda()"
      ],
      "id": "M8DrfYbsZoB9",
      "execution_count": 26,
      "outputs": []
    },
    {
      "cell_type": "code",
      "metadata": {
        "id": "757BxrvGZn8S"
      },
      "source": [
        "bert=model"
      ],
      "id": "757BxrvGZn8S",
      "execution_count": 27,
      "outputs": []
    },
    {
      "cell_type": "code",
      "metadata": {
        "colab": {
          "base_uri": "https://localhost:8080/"
        },
        "id": "AXkCIZ0rZn4w",
        "outputId": "90c5288e-8595-4468-d12f-251f5a3b0977"
      },
      "source": [
        "#check if gpu exists\n",
        "device = torch.device('cuda:0' if torch.cuda.is_available() else 'cpu')\n",
        "print(device)"
      ],
      "id": "AXkCIZ0rZn4w",
      "execution_count": 28,
      "outputs": [
        {
          "output_type": "stream",
          "name": "stdout",
          "text": [
            "cpu\n"
          ]
        }
      ]
    },
    {
      "cell_type": "code",
      "metadata": {
        "id": "kQgKseDv2zXg"
      },
      "source": [
        "#Read the data \n",
        "train = pd.read_csv(\"train_pro.csv\")\n",
        "valid = pd.read_csv(\"test.csv\")"
      ],
      "id": "kQgKseDv2zXg",
      "execution_count": 32,
      "outputs": []
    },
    {
      "cell_type": "code",
      "metadata": {
        "id": "shEMU5SmZn02"
      },
      "source": [
        "# Model parameter\n",
        "MAX_SEQ_LEN = 128\n",
        "PAD_INDEX = tokenizer.convert_tokens_to_ids(tokenizer.pad_token)\n",
        "UNK_INDEX = tokenizer.convert_tokens_to_ids(tokenizer.unk_token)\n",
        "\n",
        "# Fields\n",
        "\n",
        "label_field = Field(sequential=False, use_vocab=False, batch_first=True, dtype=torch.float)\n",
        "text_field = Field(use_vocab=False, tokenize=tokenizer.encode, lower=False, include_lengths=False, batch_first=True,\n",
        "                   fix_length=MAX_SEQ_LEN, pad_token=PAD_INDEX, unk_token=UNK_INDEX)\n",
        "fields = [('Hsbinary', label_field),('tweet', text_field)]\n",
        "\n",
        "# TabularDataset\n",
        "\n",
        "train, valid= TabularDataset.splits( path=\"\", train='train_pro.csv', validation='test.csv',\n",
        "                                            format='CSV', fields=fields, skip_header=True)\n",
        "\n",
        "\n",
        "# Iterators\n",
        "\n",
        "train_iter = BucketIterator(train, batch_size=4, sort_key=lambda x: len(x.tweet),\n",
        "                            device=device, train=True, sort=True, sort_within_batch=True)\n",
        "valid_iter = BucketIterator(valid, batch_size=4, sort_key=lambda x: len(x.tweet),\n",
        "                            device=device, train=True, sort=True, sort_within_batch=True)\n",
        "test_iter = Iterator(valid, batch_size=4, device=device, train=False, shuffle=False, sort=False)"
      ],
      "id": "shEMU5SmZn02",
      "execution_count": 33,
      "outputs": []
    },
    {
      "cell_type": "code",
      "metadata": {
        "colab": {
          "base_uri": "https://localhost:8080/"
        },
        "id": "LJ9x-fDe46ne",
        "outputId": "50648b11-b29e-4dde-c3df-2fcde7649a55"
      },
      "source": [
        "train_iter"
      ],
      "id": "LJ9x-fDe46ne",
      "execution_count": 34,
      "outputs": [
        {
          "output_type": "execute_result",
          "data": {
            "text/plain": [
              "<torchtext.legacy.data.iterator.BucketIterator at 0x7f1952f8a3d0>"
            ]
          },
          "metadata": {},
          "execution_count": 34
        }
      ]
    },
    {
      "cell_type": "code",
      "metadata": {
        "id": "B3E-F9jcZnv9"
      },
      "source": [
        "class BERTGRUSentiment(nn.Module):\n",
        "    def __init__(self,\n",
        "                 bert,\n",
        "                 hidden_dim,\n",
        "                 output_dim,\n",
        "                 n_layers,\n",
        "                 bidirectional,\n",
        "                 dropout):\n",
        "        \n",
        "        super().__init__()\n",
        "        \n",
        "        self.bert = bert\n",
        "        \n",
        "        embedding_dim = bert.config.to_dict()['hidden_size']\n",
        "        \n",
        "        self.rnn = nn.GRU(768,\n",
        "                          hidden_dim,\n",
        "                          num_layers = n_layers,\n",
        "                          bidirectional = bidirectional,\n",
        "                          batch_first = True,\n",
        "                          dropout = 0 if n_layers < 2 else dropout)\n",
        "        \n",
        "        self.out = nn.Linear(hidden_dim * 2 if bidirectional else hidden_dim, output_dim)\n",
        "        \n",
        "        self.dropout = nn.Dropout(dropout)\n",
        "        \n",
        "    def forward(self, text):\n",
        "        \n",
        "        #text = [batch size, sent len]\n",
        "                \n",
        "        with torch.no_grad():\n",
        "            embedded = self.bert(text)[0]\n",
        "                \n",
        "        #embedded = [batch size, sent len, emb dim]\n",
        "        \n",
        "        _, hidden = self.rnn(embedded)\n",
        "        \n",
        "        #hidden = [n layers * n directions, batch size, emb dim]\n",
        "        \n",
        "        if self.rnn.bidirectional:\n",
        "            hidden = self.dropout(torch.cat((hidden[-2,:,:], hidden[-1,:,:]), dim = 1))\n",
        "        else:\n",
        "            hidden = self.dropout(hidden[-1,:,:])\n",
        "                \n",
        "        #hidden = [batch size, hid dim]\n",
        "        \n",
        "        output = self.out(hidden)\n",
        "        \n",
        "        #output = [batch size, out dim]\n",
        "        \n",
        "        return output"
      ],
      "id": "B3E-F9jcZnv9",
      "execution_count": 35,
      "outputs": []
    },
    {
      "cell_type": "code",
      "metadata": {
        "id": "Ymtv3qdAZnq4"
      },
      "source": [
        "HIDDEN_DIM = 256\n",
        "OUTPUT_DIM = 1\n",
        "N_LAYERS = 4\n",
        "BIDIRECTIONAL = True\n",
        "DROPOUT = 0.25\n",
        "\n",
        "model = BERTGRUSentiment(bert,\n",
        "                         HIDDEN_DIM,\n",
        "                         OUTPUT_DIM,\n",
        "                         N_LAYERS,\n",
        "                         BIDIRECTIONAL,\n",
        "                         DROPOUT)"
      ],
      "id": "Ymtv3qdAZnq4",
      "execution_count": 36,
      "outputs": []
    },
    {
      "cell_type": "code",
      "metadata": {
        "colab": {
          "base_uri": "https://localhost:8080/"
        },
        "id": "95W6FrYVZnmu",
        "outputId": "82635080-29f8-46c4-9d27-67a0294cf93a"
      },
      "source": [
        "def count_parameters(model):\n",
        "    return sum(p.numel() for p in model.parameters() if p.requires_grad)\n",
        "\n",
        "print(f'The model has {count_parameters(model):,} trainable parameters')"
      ],
      "id": "95W6FrYVZnmu",
      "execution_count": 37,
      "outputs": [
        {
          "output_type": "stream",
          "name": "stdout",
          "text": [
            "The model has 172,481,025 trainable parameters\n"
          ]
        }
      ]
    },
    {
      "cell_type": "code",
      "metadata": {
        "id": "7t1hIpRSZnh4"
      },
      "source": [
        "for name, param in model.named_parameters():                \n",
        "    if name.startswith('bert'):\n",
        "        param.requires_grad = False"
      ],
      "id": "7t1hIpRSZnh4",
      "execution_count": 38,
      "outputs": []
    },
    {
      "cell_type": "code",
      "metadata": {
        "colab": {
          "base_uri": "https://localhost:8080/"
        },
        "id": "fvO7D9k-ZndR",
        "outputId": "dcc7e646-90f5-4be6-f3e6-ab9e6fac44dc"
      },
      "source": [
        "def count_parameters(model):\n",
        "    return sum(p.numel() for p in model.parameters() if p.requires_grad)\n",
        "\n",
        "print(f'The model has {count_parameters(model):,} trainable parameters')"
      ],
      "id": "fvO7D9k-ZndR",
      "execution_count": 39,
      "outputs": [
        {
          "output_type": "stream",
          "name": "stdout",
          "text": [
            "The model has 5,124,609 trainable parameters\n"
          ]
        }
      ]
    },
    {
      "cell_type": "code",
      "metadata": {
        "id": "LF6fT33vZnY4"
      },
      "source": [
        "import torch.optim as optim\n",
        "optimizer = optim.Adam(model.parameters())"
      ],
      "id": "LF6fT33vZnY4",
      "execution_count": 40,
      "outputs": []
    },
    {
      "cell_type": "code",
      "metadata": {
        "id": "JP-Q6i1s5_rd"
      },
      "source": [
        "criterion = nn.BCEWithLogitsLoss()"
      ],
      "id": "JP-Q6i1s5_rd",
      "execution_count": 41,
      "outputs": []
    },
    {
      "cell_type": "code",
      "metadata": {
        "id": "fMsT4vqD5bzG"
      },
      "source": [
        "model = model.to(device)\n",
        "criterion = criterion.to(device)"
      ],
      "id": "fMsT4vqD5bzG",
      "execution_count": 42,
      "outputs": []
    },
    {
      "cell_type": "code",
      "metadata": {
        "id": "p1JGN8ZPZnTY"
      },
      "source": [
        "def binary_accuracy(preds, y):\n",
        "    \"\"\"\n",
        "    Returns accuracy per batch, i.e. if you get 8/10 right, this returns 0.8, NOT 8\n",
        "    \"\"\"\n",
        "\n",
        "    #round predictions to the closest integer\n",
        "    rounded_preds = torch.round(torch.sigmoid(preds))\n",
        "    correct = (rounded_preds == y).float() #convert into float for division \n",
        "    acc = correct.sum() / len(correct)\n",
        "    return acc"
      ],
      "id": "p1JGN8ZPZnTY",
      "execution_count": 43,
      "outputs": []
    },
    {
      "cell_type": "code",
      "metadata": {
        "id": "TAPUSZja4hKH"
      },
      "source": [
        ""
      ],
      "id": "TAPUSZja4hKH",
      "execution_count": 45,
      "outputs": []
    },
    {
      "cell_type": "code",
      "metadata": {
        "id": "pHpiB-3aZnNp"
      },
      "source": [
        "def train(model, iterator, optimizer, criterion):\n",
        "    \n",
        "    epoch_loss = 0\n",
        "    epoch_acc = 0\n",
        "    \n",
        "    model.train()\n",
        "    \n",
        "    for batch in iterator:\n",
        "        \n",
        "        optimizer.zero_grad()\n",
        "        \n",
        "        predictions = model(batch.tweet).squeeze(1)\n",
        "        # print(predictions)\n",
        "        \n",
        "        loss = criterion(predictions, batch.Hsbinary)\n",
        "        \n",
        "        acc = binary_accuracy(predictions, batch.Hsbinary)\n",
        "        \n",
        "        loss.backward()\n",
        "        \n",
        "        optimizer.step()\n",
        "        \n",
        "        epoch_loss += loss.item()\n",
        "        epoch_acc += acc.item()\n",
        "        \n",
        "    return epoch_loss / len(iterator), epoch_acc / len(iterator)"
      ],
      "id": "pHpiB-3aZnNp",
      "execution_count": 44,
      "outputs": []
    },
    {
      "cell_type": "code",
      "metadata": {
        "id": "zqdq37f7qWFH"
      },
      "source": [
        "def evaluate(model, iterator, criterion):\n",
        "    \n",
        "    epoch_loss = 0\n",
        "    epoch_acc = 0\n",
        "    \n",
        "    model.eval()\n",
        "    \n",
        "    with torch.no_grad():\n",
        "    \n",
        "        for batch in iterator:\n",
        "\n",
        "            predictions = model(batch.tweet).squeeze(1)\n",
        "            \n",
        "            loss = criterion(predictions, batch.Hsbinary)\n",
        "            \n",
        "            acc = binary_accuracy(predictions, batch.Hsbinary)\n",
        "\n",
        "            epoch_loss += loss.item()\n",
        "            epoch_acc += acc.item()\n",
        "        \n",
        "    return epoch_loss / len(iterator), epoch_acc / len(iterator)"
      ],
      "id": "zqdq37f7qWFH",
      "execution_count": 45,
      "outputs": []
    },
    {
      "cell_type": "code",
      "metadata": {
        "id": "-FwXkNeMqWMM"
      },
      "source": [
        "import time\n",
        "\n",
        "def epoch_time(start_time, end_time):\n",
        "    elapsed_time = end_time - start_time\n",
        "    elapsed_mins = int(elapsed_time / 60)\n",
        "    elapsed_secs = int(elapsed_time - (elapsed_mins * 60))\n",
        "    return elapsed_mins, elapsed_secs"
      ],
      "id": "-FwXkNeMqWMM",
      "execution_count": 46,
      "outputs": []
    },
    {
      "cell_type": "code",
      "metadata": {
        "id": "3XyJdI0HqWQy"
      },
      "source": [
        "N_EPOCHS = 2\n",
        "\n",
        "best_valid_loss = float('inf')\n",
        "\n",
        "for epoch in range(N_EPOCHS):\n",
        "    \n",
        "    start_time = time.time()\n",
        "    \n",
        "    train_loss, train_acc = train(model, train_iter, optimizer, criterion)\n",
        "    valid_loss, valid_acc = evaluate(model, valid_iter, criterion)\n",
        "        \n",
        "    end_time = time.time()\n",
        "        \n",
        "    epoch_mins, epoch_secs = epoch_time(start_time, end_time)\n",
        "        \n",
        "    if valid_loss < best_valid_loss:\n",
        "        best_valid_loss = valid_loss\n",
        "        torch.save(model.state_dict(), 'bert-base-multilingual-uncased.pt')\n",
        "    \n",
        "    print(f'Epoch: {epoch+1:02} | Epoch Time: {epoch_mins}m {epoch_secs}s')\n",
        "    print(f'\\tTrain Loss: {train_loss:.3f} | Train Acc: {train_acc*100:.2f}%')\n",
        "    print(f'\\t Val. Loss: {valid_loss:.3f} |  Val. Acc: {valid_acc*100:.2f}%')"
      ],
      "id": "3XyJdI0HqWQy",
      "execution_count": null,
      "outputs": []
    },
    {
      "cell_type": "code",
      "metadata": {
        "id": "dsZXfVrzqWVK"
      },
      "source": [
        "init_token = tokenizer.cls_token\n",
        "eos_token = tokenizer.sep_token\n",
        "pad_token = tokenizer.pad_token\n",
        "unk_token = tokenizer.unk_token\n",
        "\n",
        "init_token_idx = tokenizer.convert_tokens_to_ids(init_token)\n",
        "eos_token_idx = tokenizer.convert_tokens_to_ids(eos_token)\n",
        "pad_token_idx = tokenizer.convert_tokens_to_ids(pad_token)\n",
        "unk_token_idx = tokenizer.convert_tokens_to_ids(unk_token)"
      ],
      "id": "dsZXfVrzqWVK",
      "execution_count": null,
      "outputs": []
    },
    {
      "cell_type": "code",
      "metadata": {
        "id": "vSg7O8eqqWaO"
      },
      "source": [
        "def predict_sentiment(model, tokenizer, sentence):\n",
        "    model.eval()\n",
        "    tokens = tokenizer.tokenize(sentence)\n",
        "    tokens = tokens[:512-2]\n",
        "    indexed = [init_token_idx] + tokenizer.convert_tokens_to_ids(tokens) + [eos_token_idx]\n",
        "    tensor = torch.LongTensor(indexed).to(device)\n",
        "    tensor = tensor.unsqueeze(0)\n",
        "    prediction = torch.sigmoid(model(tensor))\n",
        "    sentiment=np.round(prediction.item())\n",
        "    return sentiment"
      ],
      "id": "vSg7O8eqqWaO",
      "execution_count": null,
      "outputs": []
    },
    {
      "cell_type": "code",
      "metadata": {
        "id": "pp5gpWKsqWe8"
      },
      "source": [
        "predict_sentiment(model, tokenizer, \"you are fuck\")"
      ],
      "id": "pp5gpWKsqWe8",
      "execution_count": null,
      "outputs": []
    },
    {
      "cell_type": "code",
      "metadata": {
        "id": "aNjfDt38qWjg"
      },
      "source": [
        ""
      ],
      "id": "aNjfDt38qWjg",
      "execution_count": null,
      "outputs": []
    },
    {
      "cell_type": "code",
      "metadata": {
        "id": "zPuhgx-dqWn1"
      },
      "source": [
        ""
      ],
      "id": "zPuhgx-dqWn1",
      "execution_count": null,
      "outputs": []
    },
    {
      "cell_type": "code",
      "metadata": {
        "id": "U61qJOFOqWru"
      },
      "source": [
        ""
      ],
      "id": "U61qJOFOqWru",
      "execution_count": null,
      "outputs": []
    },
    {
      "cell_type": "code",
      "metadata": {
        "id": "fRVMXw1JqWvt"
      },
      "source": [
        ""
      ],
      "id": "fRVMXw1JqWvt",
      "execution_count": null,
      "outputs": []
    },
    {
      "cell_type": "code",
      "metadata": {
        "id": "i3VtT1qdqWz_"
      },
      "source": [
        ""
      ],
      "id": "i3VtT1qdqWz_",
      "execution_count": null,
      "outputs": []
    },
    {
      "cell_type": "code",
      "metadata": {
        "id": "PgQscrR1qW37"
      },
      "source": [
        ""
      ],
      "id": "PgQscrR1qW37",
      "execution_count": null,
      "outputs": []
    },
    {
      "cell_type": "code",
      "metadata": {
        "id": "hFJ0D_gvqW7v"
      },
      "source": [
        ""
      ],
      "id": "hFJ0D_gvqW7v",
      "execution_count": null,
      "outputs": []
    },
    {
      "cell_type": "code",
      "metadata": {
        "id": "Gz-VTGieqW_l"
      },
      "source": [
        ""
      ],
      "id": "Gz-VTGieqW_l",
      "execution_count": null,
      "outputs": []
    },
    {
      "cell_type": "code",
      "metadata": {
        "id": "lsM9S9ANqXDz"
      },
      "source": [
        ""
      ],
      "id": "lsM9S9ANqXDz",
      "execution_count": null,
      "outputs": []
    },
    {
      "cell_type": "code",
      "metadata": {
        "id": "i2-jSMz9qXHv"
      },
      "source": [
        ""
      ],
      "id": "i2-jSMz9qXHv",
      "execution_count": null,
      "outputs": []
    },
    {
      "cell_type": "code",
      "metadata": {
        "id": "LnDqEmscqXLv"
      },
      "source": [
        ""
      ],
      "id": "LnDqEmscqXLv",
      "execution_count": null,
      "outputs": []
    },
    {
      "cell_type": "code",
      "metadata": {
        "id": "tpsGebdIqXPj"
      },
      "source": [
        ""
      ],
      "id": "tpsGebdIqXPj",
      "execution_count": null,
      "outputs": []
    },
    {
      "cell_type": "code",
      "metadata": {
        "id": "WuLGQM0SqXTc"
      },
      "source": [
        ""
      ],
      "id": "WuLGQM0SqXTc",
      "execution_count": null,
      "outputs": []
    },
    {
      "cell_type": "code",
      "metadata": {
        "id": "CVWJTAmOqXXf"
      },
      "source": [
        ""
      ],
      "id": "CVWJTAmOqXXf",
      "execution_count": null,
      "outputs": []
    },
    {
      "cell_type": "code",
      "metadata": {
        "id": "51vK0rbzqXbZ"
      },
      "source": [
        ""
      ],
      "id": "51vK0rbzqXbZ",
      "execution_count": null,
      "outputs": []
    },
    {
      "cell_type": "code",
      "metadata": {
        "id": "0TwKgH2wqXfc"
      },
      "source": [
        ""
      ],
      "id": "0TwKgH2wqXfc",
      "execution_count": null,
      "outputs": []
    },
    {
      "cell_type": "code",
      "metadata": {
        "id": "lrRGhmTvqXje"
      },
      "source": [
        ""
      ],
      "id": "lrRGhmTvqXje",
      "execution_count": null,
      "outputs": []
    },
    {
      "cell_type": "code",
      "metadata": {
        "id": "s95w_nakqXnZ"
      },
      "source": [
        ""
      ],
      "id": "s95w_nakqXnZ",
      "execution_count": null,
      "outputs": []
    },
    {
      "cell_type": "code",
      "metadata": {
        "id": "AH8Dis5FZmec"
      },
      "source": [
        ""
      ],
      "id": "AH8Dis5FZmec",
      "execution_count": null,
      "outputs": []
    },
    {
      "cell_type": "code",
      "metadata": {
        "id": "JwScyM7JZlwH"
      },
      "source": [
        ""
      ],
      "id": "JwScyM7JZlwH",
      "execution_count": null,
      "outputs": []
    },
    {
      "cell_type": "code",
      "metadata": {
        "id": "Jsf34R4zZlgo"
      },
      "source": [
        ""
      ],
      "id": "Jsf34R4zZlgo",
      "execution_count": null,
      "outputs": []
    },
    {
      "cell_type": "code",
      "metadata": {
        "id": "51d6eef5"
      },
      "source": [
        "classifier = pipeline('sentiment-analysis',\n",
        "                      model = \"nlptown/bert-base-multilingual-uncased-sentiment\")"
      ],
      "id": "51d6eef5",
      "execution_count": null,
      "outputs": []
    },
    {
      "cell_type": "code",
      "metadata": {
        "id": "4287fc4b"
      },
      "source": [
        "result = classifier('We are happy!!')\n",
        "result"
      ],
      "id": "4287fc4b",
      "execution_count": null,
      "outputs": []
    },
    {
      "cell_type": "code",
      "metadata": {
        "id": "dd60b6ae"
      },
      "source": [
        "# PREPROCESSING \n",
        "model_checkpoint = \"bert-base-uncased\"\n",
        "batch_size = 16\n",
        "tokenizer = AutoTokenizer.from_pretrained(model_checkpoint , do_lower_case=True, use_fast=True)"
      ],
      "id": "dd60b6ae",
      "execution_count": null,
      "outputs": []
    },
    {
      "cell_type": "code",
      "metadata": {
        "id": "27eadfe6"
      },
      "source": [
        "tokenizer = BertTokenizer.from_pretrained('bert-base-uncased')\n",
        "model = TFBertModel.from_pretrained(\"bert-base-uncased\")\n",
        "text = \"I feel great today.\"\n",
        "encoded_input = tokenizer(text, return_tensors='tf')\n",
        "output = model(encoded_input)\n",
        "output"
      ],
      "id": "27eadfe6",
      "execution_count": null,
      "outputs": []
    },
    {
      "cell_type": "code",
      "metadata": {
        "id": "cba637fd"
      },
      "source": [
        "output"
      ],
      "id": "cba637fd",
      "execution_count": null,
      "outputs": []
    },
    {
      "cell_type": "code",
      "metadata": {
        "id": "ae7d79d3"
      },
      "source": [
        ""
      ],
      "id": "ae7d79d3",
      "execution_count": null,
      "outputs": []
    },
    {
      "cell_type": "code",
      "metadata": {
        "id": "fc519a94"
      },
      "source": [
        ""
      ],
      "id": "fc519a94",
      "execution_count": null,
      "outputs": []
    },
    {
      "cell_type": "code",
      "metadata": {
        "id": "578bf1f0"
      },
      "source": [
        ""
      ],
      "id": "578bf1f0",
      "execution_count": null,
      "outputs": []
    },
    {
      "cell_type": "markdown",
      "metadata": {
        "id": "8d52a4e3"
      },
      "source": [
        "6. We would like to test the above 4,5 implementation at least for two different datasets. Students are welcome to experiment with more datasets. Try to explain your result of Accuracy and F1 score for the above experiment for 4, 5, which are mainly LR+tf-idf, CNN+fastText, BERT-base-uncased and BERT-multilingual."
      ],
      "id": "8d52a4e3"
    },
    {
      "cell_type": "code",
      "metadata": {
        "id": "f09ec596"
      },
      "source": [
        ""
      ],
      "id": "f09ec596",
      "execution_count": null,
      "outputs": []
    },
    {
      "cell_type": "markdown",
      "metadata": {
        "id": "1134c29e"
      },
      "source": [
        "7. Negation dataset generation: In this part, students perform negation dataset generation of the previous training dataset. A possible negation detection and augmentation algorithm could be as: Load a sentence. First, perform negation findings by using NegEx. If there is negation contained, then perform PoS Tagging on the word. Every time check if the word belongs to one of the verb forms or adjective forms, then perform either adding antonym instead of it, or add negation before it (with different forms of negations and stemming if it is a verb), or pass the word doing nothing, or remove the negation from the word. For example, the sentence, \"Alex does not like Steve Jobs\". The algorithm will first be analyzed by NegEx and will find the negation part \"not Like\" in the sentence. It will then perform the PoS tagging and check if the \"like\" word has any antonym by using python library WordNet with NLTK. Since the \"like\" word has antonyms, it will be replaced by \"hate,\" and the result would be, \"Alex does not hate Steve job.\" If NLTK library fails to produce antonym, then the negation part will be removed. In that case, the output result would be \"Alex does like Steve Jobs.\" Remember, if negation is performed, there might need to change the annotation of the posts. Students are very welcome to propose a new algorithm for negation detection and negated dataset generation."
      ],
      "id": "1134c29e"
    },
    {
      "cell_type": "code",
      "metadata": {
        "id": "bb1abdaf"
      },
      "source": [
        " # Load a sentence\n"
      ],
      "id": "bb1abdaf",
      "execution_count": null,
      "outputs": []
    },
    {
      "cell_type": "code",
      "metadata": {
        "id": "c494bba5"
      },
      "source": [
        "# Perform negation findings by using NegEx"
      ],
      "id": "c494bba5",
      "execution_count": null,
      "outputs": []
    },
    {
      "cell_type": "code",
      "metadata": {
        "id": "8bfdd9de"
      },
      "source": [
        "# negation contained -> perform PoS Tagging on the word"
      ],
      "id": "8bfdd9de",
      "execution_count": null,
      "outputs": []
    },
    {
      "cell_type": "code",
      "metadata": {
        "id": "9009b9b2"
      },
      "source": [
        "# check if the word belongs to one of the verb forms or adjective forms"
      ],
      "id": "9009b9b2",
      "execution_count": null,
      "outputs": []
    },
    {
      "cell_type": "code",
      "metadata": {
        "id": "_w3BpaDjzKrU"
      },
      "source": [
        "#  check if the word has any antonyms by using python library WordNet with NLTK"
      ],
      "id": "_w3BpaDjzKrU",
      "execution_count": null,
      "outputs": []
    },
    {
      "cell_type": "code",
      "metadata": {
        "id": "977fa144"
      },
      "source": [
        "# perform either adding antonym instead of it, or add negation before it"
      ],
      "id": "977fa144",
      "execution_count": null,
      "outputs": []
    },
    {
      "cell_type": "code",
      "metadata": {
        "id": "136cf1a0"
      },
      "source": [
        ""
      ],
      "id": "136cf1a0",
      "execution_count": null,
      "outputs": []
    },
    {
      "cell_type": "code",
      "metadata": {
        "id": "7a92e564"
      },
      "source": [
        "# no negation contained -> perform PoS Tagging on the word"
      ],
      "id": "7a92e564",
      "execution_count": null,
      "outputs": []
    },
    {
      "cell_type": "code",
      "metadata": {
        "id": "fdf5e4e0"
      },
      "source": [
        "# check if the word belongs to one of the verb forms or adjective forms"
      ],
      "id": "fdf5e4e0",
      "execution_count": null,
      "outputs": []
    },
    {
      "cell_type": "code",
      "metadata": {
        "id": "fb25180c"
      },
      "source": [
        "#  check if the word has any antonyms by using python library WordNet with NLTK"
      ],
      "id": "fb25180c",
      "execution_count": null,
      "outputs": []
    },
    {
      "cell_type": "code",
      "metadata": {
        "id": "c52e19f5"
      },
      "source": [
        "# perform either adding antonym instead of it, or remove negation before it"
      ],
      "id": "c52e19f5",
      "execution_count": null,
      "outputs": []
    },
    {
      "cell_type": "code",
      "metadata": {
        "id": "802e4ba4"
      },
      "source": [
        ""
      ],
      "id": "802e4ba4",
      "execution_count": null,
      "outputs": []
    },
    {
      "cell_type": "code",
      "metadata": {
        "id": "69dec256"
      },
      "source": [
        ""
      ],
      "id": "69dec256",
      "execution_count": null,
      "outputs": []
    },
    {
      "cell_type": "code",
      "metadata": {
        "id": "63c53f42"
      },
      "source": [
        ""
      ],
      "id": "63c53f42",
      "execution_count": null,
      "outputs": []
    },
    {
      "cell_type": "code",
      "metadata": {
        "id": "038e5b6e"
      },
      "source": [
        ""
      ],
      "id": "038e5b6e",
      "execution_count": null,
      "outputs": []
    },
    {
      "cell_type": "code",
      "metadata": {
        "id": "fae1e881"
      },
      "source": [
        ""
      ],
      "id": "fae1e881",
      "execution_count": null,
      "outputs": []
    },
    {
      "cell_type": "code",
      "metadata": {
        "id": "4dfc60b0"
      },
      "source": [
        ""
      ],
      "id": "4dfc60b0",
      "execution_count": null,
      "outputs": []
    },
    {
      "cell_type": "code",
      "metadata": {
        "id": "f5fa0a86"
      },
      "source": [
        ""
      ],
      "id": "f5fa0a86",
      "execution_count": null,
      "outputs": []
    },
    {
      "cell_type": "code",
      "metadata": {
        "id": "7819997e"
      },
      "source": [
        ""
      ],
      "id": "7819997e",
      "execution_count": null,
      "outputs": []
    },
    {
      "cell_type": "code",
      "metadata": {
        "id": "27a93cf4"
      },
      "source": [
        ""
      ],
      "id": "27a93cf4",
      "execution_count": null,
      "outputs": []
    },
    {
      "cell_type": "code",
      "metadata": {
        "id": "db9e5a9e"
      },
      "source": [
        ""
      ],
      "id": "db9e5a9e",
      "execution_count": null,
      "outputs": []
    },
    {
      "cell_type": "code",
      "metadata": {
        "id": "1630c452"
      },
      "source": [
        ""
      ],
      "id": "1630c452",
      "execution_count": null,
      "outputs": []
    },
    {
      "cell_type": "code",
      "metadata": {
        "id": "6e8652e5"
      },
      "source": [
        ""
      ],
      "id": "6e8652e5",
      "execution_count": null,
      "outputs": []
    },
    {
      "cell_type": "code",
      "metadata": {
        "id": "4ace1a75"
      },
      "source": [
        ""
      ],
      "id": "4ace1a75",
      "execution_count": null,
      "outputs": []
    },
    {
      "cell_type": "code",
      "metadata": {
        "id": "ad6ce334"
      },
      "source": [
        ""
      ],
      "id": "ad6ce334",
      "execution_count": null,
      "outputs": []
    },
    {
      "cell_type": "code",
      "metadata": {
        "id": "a0a96b45"
      },
      "source": [
        ""
      ],
      "id": "a0a96b45",
      "execution_count": null,
      "outputs": []
    },
    {
      "cell_type": "code",
      "metadata": {
        "id": "3f219a78"
      },
      "source": [
        ""
      ],
      "id": "3f219a78",
      "execution_count": null,
      "outputs": []
    },
    {
      "cell_type": "code",
      "metadata": {
        "id": "d5da6614"
      },
      "source": [
        ""
      ],
      "id": "d5da6614",
      "execution_count": null,
      "outputs": []
    },
    {
      "cell_type": "code",
      "metadata": {
        "id": "f8bf8627"
      },
      "source": [
        ""
      ],
      "id": "f8bf8627",
      "execution_count": null,
      "outputs": []
    },
    {
      "cell_type": "code",
      "metadata": {
        "id": "5dfc819c"
      },
      "source": [
        ""
      ],
      "id": "5dfc819c",
      "execution_count": null,
      "outputs": []
    },
    {
      "cell_type": "code",
      "metadata": {
        "id": "a5666935"
      },
      "source": [
        ""
      ],
      "id": "a5666935",
      "execution_count": null,
      "outputs": []
    },
    {
      "cell_type": "code",
      "metadata": {
        "id": "64a1f7c0"
      },
      "source": [
        ""
      ],
      "id": "64a1f7c0",
      "execution_count": null,
      "outputs": []
    },
    {
      "cell_type": "code",
      "metadata": {
        "id": "c5c9ccd1"
      },
      "source": [
        ""
      ],
      "id": "c5c9ccd1",
      "execution_count": null,
      "outputs": []
    },
    {
      "cell_type": "markdown",
      "metadata": {
        "id": "5acd0e94"
      },
      "source": [
        "8. After negation dataset generation, merge the negated dataset and previous training dataset together and apply 4,5 and report the Accuracy and F1 scores. Compare the score before and after negation."
      ],
      "id": "5acd0e94"
    },
    {
      "cell_type": "code",
      "metadata": {
        "id": "e62a2818"
      },
      "source": [
        ""
      ],
      "id": "e62a2818",
      "execution_count": null,
      "outputs": []
    },
    {
      "cell_type": "markdown",
      "metadata": {
        "id": "8658f91e"
      },
      "source": [
        "9. Suggest a GUI of your own that allows us to exemplify the different steps above."
      ],
      "id": "8658f91e"
    },
    {
      "cell_type": "code",
      "metadata": {
        "id": "43ab6da3"
      },
      "source": [
        ""
      ],
      "id": "43ab6da3",
      "execution_count": null,
      "outputs": []
    }
  ]
}